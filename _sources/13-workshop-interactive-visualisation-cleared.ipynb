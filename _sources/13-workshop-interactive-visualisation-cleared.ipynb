{
 "cells": [
  {
   "cell_type": "markdown",
   "metadata": {
    "editable": true,
    "slideshow": {
     "slide_type": ""
    },
    "tags": []
   },
   "source": [
    "# Interactive Visualisation and Dashboards"
   ]
  },
  {
   "cell_type": "code",
   "execution_count": 1,
   "metadata": {
    "editable": true,
    "slideshow": {
     "slide_type": ""
    },
    "tags": []
   },
   "outputs": [
    {
     "name": "stderr",
     "output_type": "stream",
     "text": [
      "/home/fneum/miniconda3/envs/esm-2023/lib/python3.11/site-packages/pypsa/networkclustering.py:16: UserWarning:\n",
      "\n",
      "The namespace `pypsa.networkclustering` is deprecated and will be removed in PyPSA v0.24. Please use `pypsa.clustering.spatial instead`. \n",
      "\n"
     ]
    }
   ],
   "source": [
    "import pypsa\n",
    "import atlite\n",
    "import pandas as pd\n",
    "import geopandas as gpd\n",
    "import xarray as xr\n",
    "import matplotlib.pyplot as plt\n",
    "plt.style.use('bmh')"
   ]
  },
  {
   "cell_type": "code",
   "execution_count": 2,
   "metadata": {
    "editable": true,
    "slideshow": {
     "slide_type": ""
    },
    "tags": [
     "hide-cell"
    ]
   },
   "outputs": [],
   "source": [
    "from urllib.request import urlretrieve\n",
    "from os.path import basename\n",
    "\n",
    "urls = [\n",
    "    \"https://tubcloud.tu-berlin.de/s/2oogpgBfM5n4ssZ/download/PORTUGAL-2013-01-era5.nc\",\n",
    "]\n",
    "for url in urls:\n",
    "    urlretrieve(url, basename(url))"
   ]
  },
  {
   "cell_type": "markdown",
   "metadata": {
    "editable": true,
    "slideshow": {
     "slide_type": ""
    },
    "tags": []
   },
   "source": [
    "## Load Example Data"
   ]
  },
  {
   "cell_type": "markdown",
   "metadata": {
    "editable": true,
    "slideshow": {
     "slide_type": ""
    },
    "tags": []
   },
   "source": [
    "First, let's load a few example datasets you know from previous tutorials."
   ]
  },
  {
   "cell_type": "markdown",
   "metadata": {
    "editable": true,
    "slideshow": {
     "slide_type": ""
    },
    "tags": []
   },
   "source": [
    "A PyPSA network:"
   ]
  },
  {
   "cell_type": "code",
   "execution_count": 3,
   "metadata": {
    "editable": true,
    "slideshow": {
     "slide_type": ""
    },
    "tags": []
   },
   "outputs": [
    {
     "name": "stderr",
     "output_type": "stream",
     "text": [
      "INFO:pypsa.io:Retrieving network data from https://tubcloud.tu-berlin.de/s/kpWaraGc9LeaxLK/download/network-cem.nc\n",
      "WARNING:pypsa.io:Importing network from PyPSA version v0.21.3 while current version is v0.24.0. Read the release notes at https://pypsa.readthedocs.io/en/latest/release_notes.html to prepare your network for import.\n",
      "INFO:pypsa.io:Imported network network-cem.nc has buses, carriers, generators, global_constraints, loads, storage_units\n"
     ]
    }
   ],
   "source": [
    "n = pypsa.Network(\"https://tubcloud.tu-berlin.de/s/kpWaraGc9LeaxLK/download/network-cem.nc\")"
   ]
  },
  {
   "cell_type": "code",
   "execution_count": 4,
   "metadata": {
    "editable": true,
    "slideshow": {
     "slide_type": ""
    },
    "tags": [
     "hide-output"
    ]
   },
   "outputs": [
    {
     "name": "stderr",
     "output_type": "stream",
     "text": [
      "INFO:linopy.model: Solve linear problem using Cbc solver\n",
      "INFO:linopy.io:Writing objective.\n",
      "Writing constraints.: 100%|\u001b[38;2;128;191;255m████████████████████████████████████████████████████████████████████████████████████████████████████████████████████████████████████████████████████████\u001b[0m| 15/15 [00:00<00:00, 60.60it/s]\u001b[0m\n",
      "Writing continuous variables.: 100%|\u001b[38;2;128;191;255m████████████████████████████████████████████████████████████████████████████████████████████████████████████████████████████████████████████████\u001b[0m| 7/7 [00:00<00:00, 181.76it/s]\u001b[0m\n",
      "INFO:linopy.io: Writing time: 0.3s\n"
     ]
    },
    {
     "name": "stdout",
     "output_type": "stream",
     "text": [
      "Welcome to the CBC MILP Solver \n",
      "Version: 2.10.10 \n",
      "Build Date: Apr 19 2023 \n",
      "\n",
      "command line - cbc -printingOptions all -import /tmp/linopy-problem-q80d5gso.lp -solve -solu /tmp/linopy-solve-ofc25d67.sol (default strategy 1)\n",
      "Option for printingOptions changed from normal to all\n",
      "Presolve 25230 (-25147) rows, 18665 (-3241) columns and 69120 (-32766) elements\n",
      "Perturbing problem by 0.001% of 232.80852 - largest nonzero change 0.0003084482 ( 7.1472055%) - largest zero change 0.00030841019\n",
      "0  Obj 0 Primal inf 1.7299319e+08 (2190)\n",
      "351  Obj 1485.0331 Primal inf 2.0215782e+08 (2517)\n",
      "702  Obj 19742.419 Primal inf 2.3731013e+08 (2833)\n",
      "1053  Obj 1.1540031e+10 Primal inf 2.1548549e+08 (2266)\n",
      "1404  Obj 1.7500237e+10 Primal inf 2.4173489e+08 (3141)\n",
      "1755  Obj 1.7500464e+10 Primal inf 2.714411e+08 (3128)\n",
      "2106  Obj 1.7503766e+10 Primal inf 4.7081187e+08 (3183)\n",
      "2457  Obj 1.7504025e+10 Primal inf 3.9448973e+08 (3277)\n",
      "2808  Obj 1.7504176e+10 Primal inf 4.4155116e+08 (3342)\n",
      "3159  Obj 1.7504243e+10 Primal inf 4.4590873e+08 (3396)\n",
      "3510  Obj 1.7504385e+10 Primal inf 4.9981172e+08 (3386)\n",
      "3861  Obj 1.7504943e+10 Primal inf 3.7653676e+08 (3472)\n",
      "4212  Obj 1.7510475e+10 Primal inf 4.2947079e+08 (3465)\n",
      "4563  Obj 1.7537229e+10 Primal inf 5.0847506e+08 (3517)\n",
      "4914  Obj 1.7537361e+10 Primal inf 3.81969e+08 (3581)\n",
      "5265  Obj 1.7537545e+10 Primal inf 4.4613797e+08 (3689)\n",
      "5616  Obj 1.7537743e+10 Primal inf 5.9105401e+08 (3834)\n",
      "5967  Obj 1.7538618e+10 Primal inf 1.0579895e+09 (3781)\n",
      "6318  Obj 1.7539497e+10 Primal inf 8.6213683e+08 (3891)\n",
      "6669  Obj 2.279583e+10 Primal inf 6.8967082e+08 (3650)\n",
      "7020  Obj 2.2815623e+10 Primal inf 7.5849888e+08 (3681)\n",
      "7371  Obj 2.2980695e+10 Primal inf 1.53387e+09 (3688)\n",
      "7722  Obj 4.0709544e+10 Primal inf 4.8252512e+08 (3699)\n",
      "8073  Obj 4.0948369e+10 Primal inf 5.5175944e+08 (3799)\n",
      "8424  Obj 4.3244699e+10 Primal inf 4.3671926e+08 (3766)\n",
      "8775  Obj 4.3245576e+10 Primal inf 4.6116642e+08 (3841)\n",
      "9126  Obj 5.0580272e+10 Primal inf 7.7524645e+08 (3759)\n",
      "9477  Obj 5.4329343e+10 Primal inf 6.1613508e+08 (4944)\n",
      "9828  Obj 5.4340236e+10 Primal inf 5.1537472e+08 (4753)\n",
      "10179  Obj 5.4341025e+10 Primal inf 5.7721788e+08 (4804)\n",
      "10530  Obj 5.4341176e+10 Primal inf 4.4177501e+08 (4810)\n",
      "10881  Obj 5.4341328e+10 Primal inf 4.7698641e+08 (4807)\n",
      "11232  Obj 5.4343627e+10 Primal inf 5.2815719e+08 (4813)\n",
      "11583  Obj 5.4343776e+10 Primal inf 4.9550684e+08 (4884)\n",
      "11934  Obj 5.4358508e+10 Primal inf 5.7296022e+08 (4886)\n",
      "12285  Obj 5.4358799e+10 Primal inf 5.2357161e+08 (4886)\n",
      "12636  Obj 5.4373364e+10 Primal inf 7.2943238e+08 (4935)\n",
      "12987  Obj 5.4379354e+10 Primal inf 6.9146985e+08 (4905)\n",
      "13338  Obj 5.4379571e+10 Primal inf 1.0893155e+09 (4942)\n",
      "13689  Obj 5.4379719e+10 Primal inf 8.2290461e+08 (4961)\n",
      "14040  Obj 5.4380208e+10 Primal inf 7.1814611e+08 (4965)\n",
      "14391  Obj 5.4380646e+10 Primal inf 6.1765819e+08 (4982)\n",
      "14742  Obj 5.4608903e+10 Primal inf 5.6701623e+08 (4814)\n",
      "15093  Obj 5.463169e+10 Primal inf 6.9822588e+08 (4798)\n",
      "15444  Obj 5.53077e+10 Primal inf 2.7154194e+08 (3361)\n",
      "15795  Obj 5.5339845e+10 Primal inf 4.1978686e+08 (3380)\n",
      "16146  Obj 5.5622533e+10 Primal inf 3.5100471e+08 (3275)\n",
      "16497  Obj 5.5624299e+10 Primal inf 3.4903668e+08 (3193)\n",
      "16848  Obj 5.7925054e+10 Primal inf 5.1941856e+09 (6992)\n",
      "17199  Obj 6.012461e+10 Primal inf 1.04555e+09 (4692)\n",
      "17550  Obj 6.0306981e+10 Primal inf 1.1722589e+09 (5862)\n",
      "17901  Obj 6.0862877e+10 Primal inf 1.198943e+09 (5963)\n",
      "18252  Obj 6.132705e+10 Primal inf 2.7357742e+08 (3419)\n",
      "18603  Obj 6.2754073e+10 Primal inf 1.0785967e+10 (15956)\n",
      "18954  Obj 6.3096465e+10 Primal inf 9.0638195e+08 (5249)\n",
      "19305  Obj 6.3575426e+10 Primal inf 2.3448293e+09 (7006)\n",
      "19656  Obj 6.3615711e+10 Primal inf 5.1305132e+08 (5879)\n",
      "20007  Obj 6.3851332e+10 Primal inf 7.3210072e+08 (4747)\n",
      "20358  Obj 6.430071e+10 Primal inf 6.1131777e+08 (5798)\n",
      "20709  Obj 6.4546662e+10 Primal inf 4.7115473e+08 (3590)\n",
      "21060  Obj 6.4857737e+10 Primal inf 29170416 (1402)\n",
      "21338  Obj 6.5074271e+10 Primal inf 3.6240782e+08 (3395)\n",
      "21689  Obj 6.5460466e+10 Primal inf 28384239 (1432)\n",
      "22040  Obj 6.5591942e+10 Primal inf 2.7061726e+08 (1356)\n"
     ]
    },
    {
     "name": "stderr",
     "output_type": "stream",
     "text": [
      "INFO:linopy.constants: Optimization successful: \n",
      "Status: ok\n",
      "Termination condition: optimal\n",
      "Solution: 21906 primals, 50377 duals\n",
      "Objective: 6.58e+10\n",
      "Solver model: not available\n",
      "Solver message: Optimal - objective value 65813180032.18475342\n",
      "\n",
      "\n"
     ]
    },
    {
     "name": "stdout",
     "output_type": "stream",
     "text": [
      "22391  Obj 6.5698207e+10 Primal inf 4690398.9 (574)\n",
      "22742  Obj 6.5805975e+10 Primal inf 1013843.1 (147)\n",
      "23003  Obj 6.5813274e+10\n",
      "Optimal - objective value 6.581318e+10\n",
      "After Postsolve, objective 6.581318e+10, infeasibilities - dual 0 (0), primal 0 (0)\n",
      "Optimal objective 6.581318003e+10 - 23003 iterations time 3.982, Presolve 0.02\n",
      "Total time (CPU seconds):       4.46   (Wallclock seconds):       4.27\n",
      "\n"
     ]
    }
   ],
   "source": [
    "n.optimize(solver_name='cbc');"
   ]
  },
  {
   "cell_type": "markdown",
   "metadata": {
    "editable": true,
    "slideshow": {
     "slide_type": ""
    },
    "tags": []
   },
   "source": [
    "Wind, solar and demand time series:"
   ]
  },
  {
   "cell_type": "code",
   "execution_count": 5,
   "metadata": {
    "editable": true,
    "slideshow": {
     "slide_type": ""
    },
    "tags": []
   },
   "outputs": [],
   "source": [
    "url = \"https://tubcloud.tu-berlin.de/s/nwCrNLrtL6LAN3W/download/time-series-lecture-2.csv\"\n",
    "ts = pd.read_csv(url, index_col=0, parse_dates=True)"
   ]
  },
  {
   "cell_type": "markdown",
   "metadata": {
    "editable": true,
    "slideshow": {
     "slide_type": ""
    },
    "tags": []
   },
   "source": [
    "Power plants in Europe"
   ]
  },
  {
   "cell_type": "code",
   "execution_count": 6,
   "metadata": {
    "editable": true,
    "slideshow": {
     "slide_type": ""
    },
    "tags": []
   },
   "outputs": [],
   "source": [
    "url = \"https://raw.githubusercontent.com/PyPSA/powerplantmatching/master/powerplants.csv\"\n",
    "ppl = pd.read_csv(url, index_col=0)\n",
    "geometry = gpd.points_from_xy(ppl['lon'], ppl['lat'])\n",
    "ppl = gpd.GeoDataFrame(ppl, geometry=geometry, crs=4326)"
   ]
  },
  {
   "cell_type": "markdown",
   "metadata": {
    "editable": true,
    "slideshow": {
     "slide_type": ""
    },
    "tags": []
   },
   "source": [
    "NUTS2 regions:"
   ]
  },
  {
   "cell_type": "code",
   "execution_count": 7,
   "metadata": {
    "editable": true,
    "slideshow": {
     "slide_type": ""
    },
    "tags": []
   },
   "outputs": [],
   "source": [
    "url = \"https://tubcloud.tu-berlin.de/s/RHZJrN8Dnfn26nr/download/NUTS_RG_10M_2021_4326.geojson\"\n",
    "nuts = gpd.read_file(url).set_index('id').query(\"LEVL_CODE == 2\")"
   ]
  },
  {
   "cell_type": "markdown",
   "metadata": {
    "editable": true,
    "slideshow": {
     "slide_type": ""
    },
    "tags": []
   },
   "source": [
    "An `atlite` cutout:"
   ]
  },
  {
   "cell_type": "code",
   "execution_count": 8,
   "metadata": {
    "editable": true,
    "slideshow": {
     "slide_type": ""
    },
    "tags": []
   },
   "outputs": [],
   "source": [
    "cutout = atlite.Cutout(\"PORTUGAL-2013-01-era5.nc\")"
   ]
  },
  {
   "cell_type": "markdown",
   "metadata": {
    "editable": true,
    "slideshow": {
     "slide_type": ""
    },
    "tags": []
   },
   "source": [
    "## Limitations of Static Plotting with Matplotlib"
   ]
  },
  {
   "cell_type": "markdown",
   "metadata": {
    "editable": true,
    "slideshow": {
     "slide_type": ""
    },
    "tags": []
   },
   "source": [
    "You will agree that using `matplotlib` for static plotting is great for reports, but that it's lacking some features for interactive visualisation."
   ]
  },
  {
   "cell_type": "code",
   "execution_count": null,
   "metadata": {
    "editable": true,
    "slideshow": {
     "slide_type": ""
    },
    "tags": []
   },
   "outputs": [],
   "source": []
  },
  {
   "cell_type": "markdown",
   "metadata": {
    "editable": true,
    "slideshow": {
     "slide_type": ""
    },
    "tags": []
   },
   "source": [
    "There are many Python-based interactive plotting libraries out there, and it can be [confusing to keep an overview](https://medium.com/mlearning-ai/top-python-libraries-for-data-visualization-static-and-interactive-visualization-e5f1bc72de41). This tutorial introduces you to two of them:\n",
    "\n",
    "- [hvPlot](https://hvplot.holoviz.org/index.html), which is a high-level API mostly for [bokeh](https://docs.bokeh.org/en/latest/) plots that integrates nicely with `pandas`.\n",
    "- [plotly.express](https://plotly.com/python/plotly-express/), which is a high-level API for [plotly](https://plotly.com) plots.\n",
    "\n",
    "These two tools allow you to produce shiny interactive figures with minimal code, however, at the expense of fewer customisation options."
   ]
  },
  {
   "cell_type": "markdown",
   "metadata": {
    "editable": true,
    "slideshow": {
     "slide_type": ""
    },
    "tags": []
   },
   "source": [
    "## hvPlot"
   ]
  },
  {
   "cell_type": "markdown",
   "metadata": {
    "editable": true,
    "slideshow": {
     "slide_type": ""
    },
    "tags": []
   },
   "source": [
    "<img src=\"https://hvplot.holoviz.org/assets/diagram.svg\" width=\"900px\" /> "
   ]
  },
  {
   "cell_type": "markdown",
   "metadata": {
    "editable": true,
    "slideshow": {
     "slide_type": ""
    },
    "tags": []
   },
   "source": [
    "`.hvplot()` is a powerful and interactive Pandas-like `.plot()` API. You just replace `.plot()` with `.hvplot()` and you get an interactive figure. Simple as that.\n",
    "\n",
    "It can be installed via `conda` or `mamba` in the following way:\n",
    "\n",
    "```sh\n",
    "conda install -c pyviz hvplot geoviews\n",
    "```\n",
    "\n",
    "Documentation can be found here: https://hvplot.holoviz.org/index.html"
   ]
  },
  {
   "cell_type": "markdown",
   "metadata": {},
   "source": [
    "To use it, we have to import `hvplot.pandas`, which makes the `.hvplot` accessor available on Pandas DataFrame and Series objects, which means that after that `df.hvplot` becomes a valid statement while before that it would raise an error."
   ]
  },
  {
   "cell_type": "code",
   "execution_count": null,
   "metadata": {
    "editable": true,
    "slideshow": {
     "slide_type": ""
    },
    "tags": []
   },
   "outputs": [],
   "source": []
  },
  {
   "cell_type": "markdown",
   "metadata": {
    "editable": true,
    "slideshow": {
     "slide_type": ""
    },
    "tags": []
   },
   "source": [
    "Let's try it by plotting onshore wind time series for the year..."
   ]
  },
  {
   "cell_type": "code",
   "execution_count": null,
   "metadata": {
    "editable": true,
    "slideshow": {
     "slide_type": ""
    },
    "tags": []
   },
   "outputs": [],
   "source": []
  },
  {
   "cell_type": "markdown",
   "metadata": {},
   "source": [
    "... or the load time series for February"
   ]
  },
  {
   "cell_type": "code",
   "execution_count": null,
   "metadata": {
    "editable": true,
    "slideshow": {
     "slide_type": ""
    },
    "tags": []
   },
   "outputs": [],
   "source": []
  },
  {
   "cell_type": "markdown",
   "metadata": {},
   "source": [
    "We can also plot geographic data with **hvPlot**, for instance, the locations of all hard coal power plants in Europe.\n",
    "\n",
    "The `geo=True` declares that the data will be plotted in a geographic coordinate system.\n",
    "Once **hvPlot** knows that your data is in geo-coordinates, you can use the `tiles` keyword argument to overlay a the plot on top of map tiles.\n",
    "\n",
    ":::{note}\n",
    "For a list of available tiles, look [here](https://holoviews.org/reference/elements/bokeh/Tiles.html).\n",
    ":::"
   ]
  },
  {
   "cell_type": "code",
   "execution_count": null,
   "metadata": {
    "editable": true,
    "slideshow": {
     "slide_type": ""
    },
    "tags": []
   },
   "outputs": [],
   "source": []
  },
  {
   "cell_type": "markdown",
   "metadata": {},
   "source": [
    "Like in `geopandas`, we can tell **hvPlot** to plot the point sizes and colors according to columns of the `pandas.DataFrame`. We can also change the opacity with `alpha` and the colormap with `cmap`. "
   ]
  },
  {
   "cell_type": "code",
   "execution_count": null,
   "metadata": {
    "editable": true,
    "slideshow": {
     "slide_type": ""
    },
    "tags": []
   },
   "outputs": [],
   "source": []
  },
  {
   "cell_type": "markdown",
   "metadata": {},
   "source": [
    "There are a few more options of the graph we can tweak in the `opts()` section, like which tools should be activated by default."
   ]
  },
  {
   "cell_type": "code",
   "execution_count": null,
   "metadata": {
    "editable": true,
    "slideshow": {
     "slide_type": ""
    },
    "tags": []
   },
   "outputs": [],
   "source": []
  },
  {
   "cell_type": "markdown",
   "metadata": {},
   "source": [
    "All this does not only work with points but also shapes. We can also pick the columns that should be shown when hovering on a shape using `hover_cols`."
   ]
  },
  {
   "cell_type": "code",
   "execution_count": null,
   "metadata": {
    "editable": true,
    "slideshow": {
     "slide_type": ""
    },
    "tags": []
   },
   "outputs": [],
   "source": []
  },
  {
   "cell_type": "markdown",
   "metadata": {
    "editable": true,
    "slideshow": {
     "slide_type": ""
    },
    "tags": []
   },
   "source": [
    "We can also use **hvPlot** for `xarray` datasets (e.g. `atlite` cutouts).\n",
    "\n",
    "For that, we need to import the corresponding `xarray` accessors."
   ]
  },
  {
   "cell_type": "code",
   "execution_count": null,
   "metadata": {
    "editable": true,
    "slideshow": {
     "slide_type": ""
    },
    "tags": []
   },
   "outputs": [],
   "source": []
  },
  {
   "cell_type": "markdown",
   "metadata": {
    "editable": true,
    "slideshow": {
     "slide_type": ""
    },
    "tags": []
   },
   "source": [
    "So let's try it by plotting the wind speeds in Portugal as provided by ERA5. The nice thing you will notice is that it will automatically open a panel for dimensions that we did not select explicitly. In this case we can easily sweep across the time dimension. Notice also the customisation options we use here."
   ]
  },
  {
   "cell_type": "code",
   "execution_count": null,
   "metadata": {
    "editable": true,
    "slideshow": {
     "slide_type": ""
    },
    "tags": []
   },
   "outputs": [],
   "source": []
  },
  {
   "cell_type": "markdown",
   "metadata": {},
   "source": [
    "We can also plot the time series of solar generation in Germany on a heatmap:"
   ]
  },
  {
   "cell_type": "code",
   "execution_count": null,
   "metadata": {
    "editable": true,
    "slideshow": {
     "slide_type": ""
    },
    "tags": []
   },
   "outputs": [],
   "source": []
  },
  {
   "cell_type": "markdown",
   "metadata": {},
   "source": [
    "**hvPlot** also offers stacked area charts that come in handy for plotting the power dispatch of a solved PyPSA network:"
   ]
  },
  {
   "cell_type": "code",
   "execution_count": null,
   "metadata": {
    "editable": true,
    "slideshow": {
     "slide_type": ""
    },
    "tags": []
   },
   "outputs": [],
   "source": []
  },
  {
   "cell_type": "code",
   "execution_count": null,
   "metadata": {
    "editable": true,
    "slideshow": {
     "slide_type": ""
    },
    "tags": []
   },
   "outputs": [],
   "source": []
  },
  {
   "cell_type": "markdown",
   "metadata": {},
   "source": [
    "**hvPlot** also has a nice explorer that can be displayed in a Jupyter notebook and that can be used to quickly create customized plots."
   ]
  },
  {
   "cell_type": "code",
   "execution_count": null,
   "metadata": {
    "editable": true,
    "slideshow": {
     "slide_type": ""
    },
    "tags": []
   },
   "outputs": [],
   "source": []
  },
  {
   "cell_type": "markdown",
   "metadata": {},
   "source": [
    "## Plotly Express"
   ]
  },
  {
   "cell_type": "markdown",
   "metadata": {},
   "source": [
    "> The `plotly.express` module (usually imported as px) contains functions that can create entire figures at once. Plotly Express is a built-in part of the `plotly` library, and is the recommended starting point for creating most common figures. Every Plotly Express function uses graph objects internally and returns a plotly.graph_objects.Figure instance. Throughout the plotly documentation, you will find the Plotly Express way of building figures at the top of any applicable page, followed by a section on how to use graph objects to build similar figures. Any figure created in a single function call with Plotly Express could be created using graph objects alone, but with between 5 and 100 times more code.\n",
    "\n",
    "Documentation is available here: https://plotly.com/python/plotly-express/\n",
    "\n",
    "It can be installed via `conda` or `mamba` in the following way:\n",
    "\n",
    "```sh\n",
    "conda install -c conda-forge plotly\n",
    "```"
   ]
  },
  {
   "cell_type": "code",
   "execution_count": null,
   "metadata": {
    "editable": true,
    "slideshow": {
     "slide_type": ""
    },
    "tags": []
   },
   "outputs": [],
   "source": []
  },
  {
   "cell_type": "markdown",
   "metadata": {},
   "source": [
    ":::{note}\n",
    "We need to import `plotly.io` and `plotly.offline`, so that the interactive plots are also visible on the course's static website.\n",
    ":::"
   ]
  },
  {
   "cell_type": "markdown",
   "metadata": {},
   "source": [
    "Let's reproduce the plots we previously created with **hvPlot**. Onshore wind capacity factor time series:"
   ]
  },
  {
   "cell_type": "code",
   "execution_count": null,
   "metadata": {
    "editable": true,
    "slideshow": {
     "slide_type": ""
    },
    "tags": []
   },
   "outputs": [],
   "source": []
  },
  {
   "cell_type": "markdown",
   "metadata": {},
   "source": [
    "Load time series in February:"
   ]
  },
  {
   "cell_type": "code",
   "execution_count": null,
   "metadata": {
    "editable": true,
    "slideshow": {
     "slide_type": ""
    },
    "tags": []
   },
   "outputs": [],
   "source": []
  },
  {
   "cell_type": "markdown",
   "metadata": {},
   "source": [
    "Hard coal power plants in Europe:"
   ]
  },
  {
   "cell_type": "code",
   "execution_count": null,
   "metadata": {
    "editable": true,
    "slideshow": {
     "slide_type": ""
    },
    "tags": []
   },
   "outputs": [],
   "source": []
  },
  {
   "cell_type": "markdown",
   "metadata": {
    "editable": true,
    "slideshow": {
     "slide_type": ""
    },
    "tags": []
   },
   "source": [
    "The integration with `xarray` datasets is not as nice as in **hvPlot**."
   ]
  },
  {
   "cell_type": "code",
   "execution_count": null,
   "metadata": {
    "editable": true,
    "slideshow": {
     "slide_type": ""
    },
    "tags": []
   },
   "outputs": [],
   "source": []
  },
  {
   "cell_type": "markdown",
   "metadata": {},
   "source": [
    "But in `plotly`, hovering information on the area chart works much better."
   ]
  },
  {
   "cell_type": "code",
   "execution_count": null,
   "metadata": {
    "editable": true,
    "slideshow": {
     "slide_type": ""
    },
    "tags": []
   },
   "outputs": [],
   "source": [
    "dispatch = pd.concat([n.generators_t.p, n.storage_units_t.p], axis=1).loc[\"2015-02\"].div(1e3)"
   ]
  },
  {
   "cell_type": "code",
   "execution_count": null,
   "metadata": {
    "editable": true,
    "slideshow": {
     "slide_type": ""
    },
    "tags": []
   },
   "outputs": [],
   "source": []
  },
  {
   "cell_type": "code",
   "execution_count": null,
   "metadata": {
    "editable": true,
    "slideshow": {
     "slide_type": ""
    },
    "tags": []
   },
   "outputs": [],
   "source": []
  },
  {
   "cell_type": "markdown",
   "metadata": {},
   "source": [
    "## Interactive Dashboards"
   ]
  },
  {
   "cell_type": "markdown",
   "metadata": {},
   "source": [
    "There are many different options for building interactive dashboards. Some are brand new, some have been around for a few years."
   ]
  },
  {
   "cell_type": "markdown",
   "metadata": {},
   "source": [
    "<img src=\"https://global-uploads.webflow.com/5d3ec351b1eba4332d213004/5f99e10dafbd69a99c875340_C8_qX8dvzv60T4LVZ9GftX-ZH-VJzq3sjUroWWH5XSWw8RFHnCCPPrC6jB3EFVuQdwiqhoEMQKFV-dFz7t6fqaRpSZGvBKI0i1Utj38_j9a54GXMuzi1BiepdIMjOK4ATVdF2131.png\" width=\"900px\" /> "
   ]
  },
  {
   "cell_type": "markdown",
   "metadata": {},
   "source": [
    "Each of them has different characteristics, for instance in terms of customisation options and ease of use."
   ]
  },
  {
   "cell_type": "markdown",
   "metadata": {},
   "source": [
    "<img src=\"https://global-uploads.webflow.com/5d3ec351b1eba4332d213004/5fa3b0d4a2043bcf84d49134_z87mnMfsPGOF7L3sGULQBusJnJTWGZHWtoizufuDR1q1A6JggFWO9IYHXf8wFyqgKhuG6hEGOPM4Acb-qmNXxwCFW95DPX9r7Syewkejb7itbmm8I_os2XI8bightYGJq7Gg-FXo.png\" width=\"900px\" /> "
   ]
  },
  {
   "cell_type": "markdown",
   "metadata": {
    "editable": true,
    "slideshow": {
     "slide_type": ""
    },
    "tags": []
   },
   "source": [
    "If you want to read a detailed comparison, the best one I found is this one:\n",
    "\n",
    "https://www.datarevenue.com/en-blog/data-dashboarding-streamlit-vs-dash-vs-shiny-vs-voila\n",
    "\n",
    "\n",
    "> **Just tell me which one to use**\n",
    ">\n",
    "> As always, “it depends” – but if you’re looking for a quick answer, you should probably use:\n",
    ">\n",
    ">    - Dash if you already use Python for your analytics and you want to build production-ready data dashboards for a larger company.\n",
    ">    - **Streamlit if you already use Python for your analytics and you want to get a prototype of your dashboard up and running as quickly as possible.**\n",
    ">    - Shiny if you already use R for your analytics and you want to make the results more accessible to non-technical teams.\n",
    ">    - Jupyter if your team is very technical and doesn’t mind installing and running developer tools to view analytics.\n",
    ">    - Voila if you already have Jupyter Notebooks and you want to make them accessible to non-technical teams.\n",
    ">    - Flask if you want to build your own solution from the ground up.\n",
    ">    - Panel if you already have Jupyter Notebooks, and Voila is not flexible enough for your needs."
   ]
  },
  {
   "cell_type": "markdown",
   "metadata": {
    "editable": true,
    "slideshow": {
     "slide_type": ""
    },
    "tags": []
   },
   "source": [
    "In this tutorial, we look at `streamlit` because it is the easiest to get to results quickly. However, compared to other dashboarding libraries, it has more limited configuration options.\n",
    "\n",
    "Documentation for this package can be found here: https://docs.streamlit.io/\n",
    "\n",
    "Streamlit can be installed, for example, with `conda`, `mamba` or `pip`:\n",
    "\n",
    "```sh\n",
    "conda install -c conda-forge streamlit'>=1.18'\n",
    "```\n",
    "\n",
    "or\n",
    "\n",
    "```sh\n",
    "pip install streamlit\n",
    "```\n",
    "\n",
    ":::{note}\n",
    "This tutorial requires `streamlit>=1.18`.\n",
    ":::\n",
    "\n",
    "This tutorial is stored on Github with instructions how to install, run and deploy it:\n",
    "\n",
    "https://github.com/fneum/streamlit-tutorial\n",
    "\n",
    "You can see a live demo of the final product here:\n",
    "\n",
    "https://ppm-dash.streamlit.app/\n"
   ]
  },
  {
   "cell_type": "code",
   "execution_count": null,
   "metadata": {},
   "outputs": [],
   "source": []
  }
 ],
 "metadata": {
  "kernelspec": {
   "display_name": "Python 3 (ipykernel)",
   "language": "python",
   "name": "python3"
  },
  "language_info": {
   "codemirror_mode": {
    "name": "ipython",
    "version": 3
   },
   "file_extension": ".py",
   "mimetype": "text/x-python",
   "name": "python",
   "nbconvert_exporter": "python",
   "pygments_lexer": "ipython3",
   "version": "3.11.4"
  },
  "vscode": {
   "interpreter": {
    "hash": "69786ae8c799a179d39b18fbc76c1e4e4ca1662535939a7096f8f45ee1440c35"
   }
  }
 },
 "nbformat": 4,
 "nbformat_minor": 4
}
