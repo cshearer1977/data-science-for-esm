{
 "cells": [
  {
   "cell_type": "markdown",
   "metadata": {},
   "source": [
    "# Capacity Expansion Planning with `pypsa`"
   ]
  },
  {
   "cell_type": "markdown",
   "metadata": {},
   "source": [
    "<img src=\"https://github.com/fneum/data-science-for-esm/raw/main/data-science-for-esm/pypsa-logo.png\" width=\"300px\" />"
   ]
  },
  {
   "cell_type": "markdown",
   "metadata": {},
   "source": [
    ":::{note}\n",
    "Also in this tutorial, you might want to refer to the PyPSA documentation: https://pypsa.readthedocs.io.\n",
    ":::"
   ]
  },
  {
   "cell_type": "markdown",
   "metadata": {
    "tags": []
   },
   "source": [
    "## From electricity market modelling to capacity expansion planning\n",
    "\n",
    "Review the problem formulation of the electricity market model. Below you can find an adapted version\n",
    "where the capacity limits have been promoted to **decision variables** with corresponding terms\n",
    "in the *objective function* and *new constraints for their expansion limits* (e.g. wind and solar potentials). This is known as **capacity expansion problem**.\n",
    "\n",
    "\\begin{equation*}\n",
    "    \\min_{g,e,f,G,E,F} \\quad \\sum_{i,s,t} w_t o_{s} g_{i,s,t} + \\sum_{i,s} c_sG_{i,s}  + c_{r,\\text{dis/charge}}G_{i,r, \\text{dis/charge}} +   c_{r}E_{i,r}  + c_\\ell F_{\\ell}\n",
    "  \\end{equation*}\n",
    "such that\n",
    "  \\begin{align*}\n",
    "    d_{i,t} &= \\sum_s g_{i,s,t}  - \\sum_\\ell K_{i\\ell} f_{\\ell,t}   & \\text{energy balance} \\\\\n",
    "    0 &\\leq g_{i,s,t} \\leq \\hat{g}_{i,s,t} G_{i,s} & \\text{generator limits}\\\\\n",
    "    0 & \\leq g_{i,r,t,\\text{dis/charge}} \\leq G_{i,r,\\text{dis/charge}}& \\text{storage dis/charge limits} \\\\\n",
    "    0 & \\leq e_{i,r,t} \\leq E_{r} & \\text{storage energy limits} \\\\ \n",
    "    e_{i,r,t} &= \\eta^0_{i,r,t} e_{i,r,t-1} + \\eta^1_{r}g_{i,r,t,\\text{charge}} -  \\frac{1}{\\eta^2_{r}} g_{i,r,t,\\text{discharge}} & \\text{storage consistency} \\\\\n",
    "    -F_\\ell &\\leq f_{\\ell,t} \\leq F_\\ell  & \\text{line limits} \\\\\n",
    "    0 &= \\sum_\\ell C_{\\ell c} x_\\ell f_{\\ell,t} & \\text{KVL} \\\\\n",
    "        \\underline{G}_{i,s} & \\leq G_{i,s} \\leq \\overline{G}_{i,s} & \\text{generator capacity expansion limits} \\\\\n",
    "    \\underline{G}_{i,r, \\text{dis/charge}} & \\leq G_{i,r, \\text{dis/charge}} \\leq \\overline{G}_{i,r, \\text{dis/charge}} & \\text{storage power capacity expansion limits} \\\\\n",
    "    \\underline{E}_{i,r} & \\leq E_{i,r} \\leq \\overline{E}_{i,r} & \\text{storage energy expansion limits} \\\\\n",
    "    \\underline{F}_{\\ell} & \\leq F_{\\ell} \\leq \\overline{F}_{\\ell} & \\text{line capacity expansion limits}\n",
    "  \\end{align*}\n",
    "\n",
    "**New decision variables for capacity expansion planning:**\n",
    "\n",
    "- $G_{i,s}$ is the generator capacity at bus $i$, technology $s$,\n",
    "- $F_{\\ell}$ is the transmission capacity of line $\\ell$,\n",
    "- $G_{i,r,\\text{dis-/charge}}$ denotes the charge and discharge capacities of storage unit $r$ at bus $i$,\n",
    "- $E_{i,r}$ is the energy capacity of storage $r$ at bus $i$ and time step $t$.\n",
    "\n",
    "**New parameters for capacity expansion planning:**\n",
    "\n",
    "- $c_{\\star}$ is the capital cost of technology $\\star$ at bus $i$\n",
    "- $w_t$ is the weighting of time step $t$ (e.g. number of hours it represents)\n",
    "- $\\underline{G}_\\star, \\underline{F}_\\star, \\underline{E}_\\star$ are the minimum capacities per technology and location/connection.\n",
    "- $\\underline{G}_\\star, \\underline{F}_\\star, \\underline{E}_\\star$ are the maximum capacities per technology and location.\n",
    "\n",
    ":::{note}\n",
    "For a full reference to the optimisation problem description, see https://pypsa.readthedocs.io/en/latest/optimal_power_flow.html\n",
    ":::"
   ]
  },
  {
   "cell_type": "markdown",
   "metadata": {
    "tags": []
   },
   "source": [
    "First things first! We need a few packages for this tutorial:"
   ]
  },
  {
   "cell_type": "code",
   "execution_count": 277,
   "metadata": {
    "jp-MarkdownHeadingCollapsed": true,
    "tags": []
   },
   "outputs": [],
   "source": [
    "import pypsa\n",
    "import pandas as pd\n",
    "import matplotlib.pyplot as plt\n",
    "plt.style.use('bmh')"
   ]
  },
  {
   "cell_type": "markdown",
   "metadata": {
    "tags": []
   },
   "source": [
    "## Prerequisites: handling technology data and costs"
   ]
  },
  {
   "cell_type": "markdown",
   "metadata": {},
   "source": [
    "We maintain a database (https://github.com/PyPSA/technology-data) which collects assumptions and projections for energy system technologies (such as costs, efficiencies, lifetimes, etc.) for given years, which we can load into a `pandas.DataFrame`. This requires some pre-processing to load (e.g. converting units, setting defaults, re-arranging dimensions):"
   ]
  },
  {
   "cell_type": "code",
   "execution_count": 278,
   "metadata": {},
   "outputs": [],
   "source": [
    "year = 2030\n",
    "url = f\"https://raw.githubusercontent.com/PyPSA/technology-data/master/outputs/costs_{year}.csv\"\n",
    "costs = pd.read_csv(url, index_col=[0,1])"
   ]
  },
  {
   "cell_type": "code",
   "execution_count": 279,
   "metadata": {},
   "outputs": [],
   "source": [
    "costs.loc[costs.unit.str.contains(\"/kW\"), \"value\"] *= 1e3\n",
    "costs.unit = costs.unit.str.replace(\"/kW\", \"/MW\")\n",
    "\n",
    "defaults = {\n",
    "    \"FOM\": 0,\n",
    "    \"VOM\": 0,\n",
    "    \"efficiency\": 1,\n",
    "    \"fuel\": 0,\n",
    "    \"investment\": 0,\n",
    "    \"lifetime\": 25,\n",
    "    \"CO2 intensity\": 0,\n",
    "    \"discount rate\": 0.07,\n",
    "}\n",
    "costs = costs.value.unstack().fillna(defaults)\n",
    "\n",
    "costs.at[\"OCGT\", \"fuel\"] = costs.at[\"gas\", \"fuel\"]\n",
    "costs.at[\"CCGT\", \"fuel\"] = costs.at[\"gas\", \"fuel\"]\n",
    "costs.at[\"OCGT\", \"CO2 intensity\"] = costs.at[\"gas\", \"CO2 intensity\"]\n",
    "costs.at[\"CCGT\", \"CO2 intensity\"] = costs.at[\"gas\", \"CO2 intensity\"]"
   ]
  },
  {
   "cell_type": "markdown",
   "metadata": {},
   "source": [
    "Let's also write a small utility function that calculates the **annuity** to annualise investment costs. The formula is\n",
    "\n",
    "$$\n",
    "a(r, n) = \\frac{r}{1-(1+r)^{-n}}\n",
    "$$\n",
    "where $r$ is the discount rate and $n$ is the lifetime."
   ]
  },
  {
   "cell_type": "code",
   "execution_count": 280,
   "metadata": {},
   "outputs": [],
   "source": [
    "def annuity(r, n):\n",
    "    return r / (1.0 - 1.0 / (1.0 + r) ** n)"
   ]
  },
  {
   "cell_type": "code",
   "execution_count": 281,
   "metadata": {},
   "outputs": [
    {
     "data": {
      "text/plain": [
       "0.09439292574325567"
      ]
     },
     "execution_count": 281,
     "metadata": {},
     "output_type": "execute_result"
    }
   ],
   "source": [
    "annuity(0.07, 20)"
   ]
  },
  {
   "cell_type": "markdown",
   "metadata": {},
   "source": [
    "Based on this, we can calculate the short-term marginal generation costs (STMGC, €/MWh):"
   ]
  },
  {
   "cell_type": "code",
   "execution_count": 282,
   "metadata": {},
   "outputs": [],
   "source": [
    "costs[\"marginal_cost\"] = costs[\"VOM\"] + costs[\"fuel\"] / costs[\"efficiency\"]"
   ]
  },
  {
   "cell_type": "markdown",
   "metadata": {},
   "source": [
    "and the annualised investment costs (`capital_cost` in PyPSA terms, €/MW/a):"
   ]
  },
  {
   "cell_type": "code",
   "execution_count": 283,
   "metadata": {},
   "outputs": [],
   "source": [
    "annuity = costs.apply(lambda x: annuity(x[\"discount rate\"], x[\"lifetime\"]), axis=1)"
   ]
  },
  {
   "cell_type": "code",
   "execution_count": 284,
   "metadata": {},
   "outputs": [],
   "source": [
    "costs[\"capital_cost\"] = (annuity + costs[\"FOM\"] / 100) * costs[\"investment\"]"
   ]
  },
  {
   "cell_type": "markdown",
   "metadata": {},
   "source": [
    "## Loading time series data"
   ]
  },
  {
   "cell_type": "markdown",
   "metadata": {},
   "source": [
    "We are also going to need some time series for wind, solar and load. For now, we are going to recycle the time series we used at the beginning of the course. They are given for Germany in the year 2015."
   ]
  },
  {
   "cell_type": "code",
   "execution_count": 285,
   "metadata": {},
   "outputs": [],
   "source": [
    "url = \"https://raw.githubusercontent.com/fneum/data-science-for-esm/main/data-science-for-esm/time-series-lecture-2.csv\"\n",
    "ts = pd.read_csv(url, index_col=0, parse_dates=True)"
   ]
  },
  {
   "cell_type": "code",
   "execution_count": 286,
   "metadata": {},
   "outputs": [
    {
     "data": {
      "text/html": [
       "<div>\n",
       "<style scoped>\n",
       "    .dataframe tbody tr th:only-of-type {\n",
       "        vertical-align: middle;\n",
       "    }\n",
       "\n",
       "    .dataframe tbody tr th {\n",
       "        vertical-align: top;\n",
       "    }\n",
       "\n",
       "    .dataframe thead th {\n",
       "        text-align: right;\n",
       "    }\n",
       "</style>\n",
       "<table border=\"1\" class=\"dataframe\">\n",
       "  <thead>\n",
       "    <tr style=\"text-align: right;\">\n",
       "      <th></th>\n",
       "      <th>load</th>\n",
       "      <th>onwind</th>\n",
       "      <th>offwind</th>\n",
       "      <th>solar</th>\n",
       "      <th>prices</th>\n",
       "    </tr>\n",
       "  </thead>\n",
       "  <tbody>\n",
       "    <tr>\n",
       "      <th>2015-01-01 00:00:00</th>\n",
       "      <td>41.151</td>\n",
       "      <td>0.1566</td>\n",
       "      <td>0.7030</td>\n",
       "      <td>0.0</td>\n",
       "      <td>NaN</td>\n",
       "    </tr>\n",
       "    <tr>\n",
       "      <th>2015-01-01 01:00:00</th>\n",
       "      <td>40.135</td>\n",
       "      <td>0.1659</td>\n",
       "      <td>0.6875</td>\n",
       "      <td>0.0</td>\n",
       "      <td>NaN</td>\n",
       "    </tr>\n",
       "    <tr>\n",
       "      <th>2015-01-01 02:00:00</th>\n",
       "      <td>39.106</td>\n",
       "      <td>0.1746</td>\n",
       "      <td>0.6535</td>\n",
       "      <td>0.0</td>\n",
       "      <td>NaN</td>\n",
       "    </tr>\n",
       "  </tbody>\n",
       "</table>\n",
       "</div>"
      ],
      "text/plain": [
       "                       load  onwind  offwind  solar  prices\n",
       "2015-01-01 00:00:00  41.151  0.1566   0.7030    0.0     NaN\n",
       "2015-01-01 01:00:00  40.135  0.1659   0.6875    0.0     NaN\n",
       "2015-01-01 02:00:00  39.106  0.1746   0.6535    0.0     NaN"
      ]
     },
     "execution_count": 286,
     "metadata": {},
     "output_type": "execute_result"
    }
   ],
   "source": [
    "ts.head(3)"
   ]
  },
  {
   "cell_type": "markdown",
   "metadata": {},
   "source": [
    "Let's convert the load time series from GW to MW, the base unit of PyPSA:"
   ]
  },
  {
   "cell_type": "code",
   "execution_count": 287,
   "metadata": {},
   "outputs": [],
   "source": [
    "ts.load *= 1e3"
   ]
  },
  {
   "cell_type": "markdown",
   "metadata": {},
   "source": [
    "We are also going to adapt the temporal resolution of the time series, e.g. sample only every other hour, to save some time:"
   ]
  },
  {
   "cell_type": "code",
   "execution_count": 288,
   "metadata": {},
   "outputs": [],
   "source": [
    "resolution = 4\n",
    "ts = ts.resample(f\"{resolution}H\").first()"
   ]
  },
  {
   "cell_type": "markdown",
   "metadata": {},
   "source": [
    "## Simple capacity expansion planning example"
   ]
  },
  {
   "cell_type": "markdown",
   "metadata": {},
   "source": [
    ":::{note}\n",
    "See also https://model.energy.\n",
    ":::"
   ]
  },
  {
   "cell_type": "markdown",
   "metadata": {},
   "source": [
    "**In this tutorial, we want to build a replica of [model.energy](https://model.energy).** This tool calculates the cost of meeting a constant electricity demand from a combination of wind power, solar power and storage for different regions of the world.\n",
    "\n",
    "We deviate from [model.energy](https://model.energy) by including offshore wind generation and electricity demand profiles rather than a constant electricity demand. Also, we are going to start with Germany only. You can adapt the code to other countries as an exercise."
   ]
  },
  {
   "cell_type": "markdown",
   "metadata": {},
   "source": [
    "### Model Initialisation"
   ]
  },
  {
   "cell_type": "markdown",
   "metadata": {},
   "source": [
    "For building the model, we start again by initialising an empty network."
   ]
  },
  {
   "cell_type": "code",
   "execution_count": 289,
   "metadata": {},
   "outputs": [],
   "source": [
    "n = pypsa.Network()"
   ]
  },
  {
   "cell_type": "markdown",
   "metadata": {},
   "source": [
    "Then, we add a single bus..."
   ]
  },
  {
   "cell_type": "code",
   "execution_count": 290,
   "metadata": {},
   "outputs": [],
   "source": [
    "n.add(\"Bus\", \"electricity\")"
   ]
  },
  {
   "cell_type": "markdown",
   "metadata": {},
   "source": [
    "...and tell the `pypsa.Network` object `n` what the snapshots of the model will be using the utility function `n.set_snapshots()`."
   ]
  },
  {
   "cell_type": "code",
   "execution_count": 291,
   "metadata": {},
   "outputs": [],
   "source": [
    "n.set_snapshots(ts.index)"
   ]
  },
  {
   "cell_type": "code",
   "execution_count": 292,
   "metadata": {},
   "outputs": [
    {
     "data": {
      "text/plain": [
       "DatetimeIndex(['2015-01-01 00:00:00', '2015-01-01 04:00:00',\n",
       "               '2015-01-01 08:00:00', '2015-01-01 12:00:00',\n",
       "               '2015-01-01 16:00:00', '2015-01-01 20:00:00',\n",
       "               '2015-01-02 00:00:00', '2015-01-02 04:00:00',\n",
       "               '2015-01-02 08:00:00', '2015-01-02 12:00:00',\n",
       "               ...\n",
       "               '2015-12-30 08:00:00', '2015-12-30 12:00:00',\n",
       "               '2015-12-30 16:00:00', '2015-12-30 20:00:00',\n",
       "               '2015-12-31 00:00:00', '2015-12-31 04:00:00',\n",
       "               '2015-12-31 08:00:00', '2015-12-31 12:00:00',\n",
       "               '2015-12-31 16:00:00', '2015-12-31 20:00:00'],\n",
       "              dtype='datetime64[ns]', name='snapshot', length=2190, freq='4H')"
      ]
     },
     "execution_count": 292,
     "metadata": {},
     "output_type": "execute_result"
    }
   ],
   "source": [
    "n.snapshots"
   ]
  },
  {
   "cell_type": "markdown",
   "metadata": {},
   "source": [
    "The weighting of the snapshots (e.g. how many hours they represent, see $w_t$ in problem formulation above) can be set in `n.snapshot_weightings`."
   ]
  },
  {
   "cell_type": "code",
   "execution_count": 293,
   "metadata": {},
   "outputs": [
    {
     "data": {
      "text/html": [
       "<div>\n",
       "<style scoped>\n",
       "    .dataframe tbody tr th:only-of-type {\n",
       "        vertical-align: middle;\n",
       "    }\n",
       "\n",
       "    .dataframe tbody tr th {\n",
       "        vertical-align: top;\n",
       "    }\n",
       "\n",
       "    .dataframe thead th {\n",
       "        text-align: right;\n",
       "    }\n",
       "</style>\n",
       "<table border=\"1\" class=\"dataframe\">\n",
       "  <thead>\n",
       "    <tr style=\"text-align: right;\">\n",
       "      <th></th>\n",
       "      <th>objective</th>\n",
       "      <th>stores</th>\n",
       "      <th>generators</th>\n",
       "    </tr>\n",
       "    <tr>\n",
       "      <th>snapshot</th>\n",
       "      <th></th>\n",
       "      <th></th>\n",
       "      <th></th>\n",
       "    </tr>\n",
       "  </thead>\n",
       "  <tbody>\n",
       "    <tr>\n",
       "      <th>2015-01-01 00:00:00</th>\n",
       "      <td>1.0</td>\n",
       "      <td>1.0</td>\n",
       "      <td>1.0</td>\n",
       "    </tr>\n",
       "    <tr>\n",
       "      <th>2015-01-01 04:00:00</th>\n",
       "      <td>1.0</td>\n",
       "      <td>1.0</td>\n",
       "      <td>1.0</td>\n",
       "    </tr>\n",
       "    <tr>\n",
       "      <th>2015-01-01 08:00:00</th>\n",
       "      <td>1.0</td>\n",
       "      <td>1.0</td>\n",
       "      <td>1.0</td>\n",
       "    </tr>\n",
       "  </tbody>\n",
       "</table>\n",
       "</div>"
      ],
      "text/plain": [
       "                     objective  stores  generators\n",
       "snapshot                                          \n",
       "2015-01-01 00:00:00        1.0     1.0         1.0\n",
       "2015-01-01 04:00:00        1.0     1.0         1.0\n",
       "2015-01-01 08:00:00        1.0     1.0         1.0"
      ]
     },
     "execution_count": 293,
     "metadata": {},
     "output_type": "execute_result"
    }
   ],
   "source": [
    "n.snapshot_weightings.head(3)"
   ]
  },
  {
   "cell_type": "code",
   "execution_count": 294,
   "metadata": {},
   "outputs": [],
   "source": [
    "n.snapshot_weightings.loc[:,:] = resolution"
   ]
  },
  {
   "cell_type": "code",
   "execution_count": 295,
   "metadata": {},
   "outputs": [
    {
     "data": {
      "text/html": [
       "<div>\n",
       "<style scoped>\n",
       "    .dataframe tbody tr th:only-of-type {\n",
       "        vertical-align: middle;\n",
       "    }\n",
       "\n",
       "    .dataframe tbody tr th {\n",
       "        vertical-align: top;\n",
       "    }\n",
       "\n",
       "    .dataframe thead th {\n",
       "        text-align: right;\n",
       "    }\n",
       "</style>\n",
       "<table border=\"1\" class=\"dataframe\">\n",
       "  <thead>\n",
       "    <tr style=\"text-align: right;\">\n",
       "      <th></th>\n",
       "      <th>objective</th>\n",
       "      <th>stores</th>\n",
       "      <th>generators</th>\n",
       "    </tr>\n",
       "    <tr>\n",
       "      <th>snapshot</th>\n",
       "      <th></th>\n",
       "      <th></th>\n",
       "      <th></th>\n",
       "    </tr>\n",
       "  </thead>\n",
       "  <tbody>\n",
       "    <tr>\n",
       "      <th>2015-01-01 00:00:00</th>\n",
       "      <td>4.0</td>\n",
       "      <td>4.0</td>\n",
       "      <td>4.0</td>\n",
       "    </tr>\n",
       "    <tr>\n",
       "      <th>2015-01-01 04:00:00</th>\n",
       "      <td>4.0</td>\n",
       "      <td>4.0</td>\n",
       "      <td>4.0</td>\n",
       "    </tr>\n",
       "    <tr>\n",
       "      <th>2015-01-01 08:00:00</th>\n",
       "      <td>4.0</td>\n",
       "      <td>4.0</td>\n",
       "      <td>4.0</td>\n",
       "    </tr>\n",
       "  </tbody>\n",
       "</table>\n",
       "</div>"
      ],
      "text/plain": [
       "                     objective  stores  generators\n",
       "snapshot                                          \n",
       "2015-01-01 00:00:00        4.0     4.0         4.0\n",
       "2015-01-01 04:00:00        4.0     4.0         4.0\n",
       "2015-01-01 08:00:00        4.0     4.0         4.0"
      ]
     },
     "execution_count": 295,
     "metadata": {},
     "output_type": "execute_result"
    }
   ],
   "source": [
    "n.snapshot_weightings.head(3)"
   ]
  },
  {
   "cell_type": "markdown",
   "metadata": {},
   "source": [
    "### Adding Components"
   ]
  },
  {
   "cell_type": "markdown",
   "metadata": {},
   "source": [
    "Then, we add all the technologies we are going to include as carriers."
   ]
  },
  {
   "cell_type": "code",
   "execution_count": 296,
   "metadata": {},
   "outputs": [
    {
     "data": {
      "text/plain": [
       "Index(['onwind', 'offwind', 'solar', 'OCGT', 'hydrogen storage underground',\n",
       "       'battery storage'],\n",
       "      dtype='object')"
      ]
     },
     "execution_count": 296,
     "metadata": {},
     "output_type": "execute_result"
    }
   ],
   "source": [
    "carriers = [\"onwind\", \"offwind\", \"solar\", \"OCGT\", \"hydrogen storage underground\", \"battery storage\"]\n",
    "\n",
    "n.madd(\n",
    "    \"Carrier\",\n",
    "    carriers, \n",
    "    color=[\"dodgerblue\", \"aquamarine\", \"gold\", \"indianred\", \"magenta\", \"yellowgreen\"],\n",
    "    co2_emissions=[costs.at[c, \"CO2 intensity\"] for c in carriers]\n",
    ")"
   ]
  },
  {
   "cell_type": "markdown",
   "metadata": {},
   "source": [
    "Next, we add the demand time series to the model."
   ]
  },
  {
   "cell_type": "code",
   "execution_count": 297,
   "metadata": {},
   "outputs": [],
   "source": [
    "n.add(\n",
    "    \"Load\",\n",
    "    \"demand\",\n",
    "    bus=\"electricity\",\n",
    "    p_set=ts.load,\n",
    ")"
   ]
  },
  {
   "cell_type": "markdown",
   "metadata": {},
   "source": [
    "Let's have a check whether the data was read-in correctly."
   ]
  },
  {
   "cell_type": "code",
   "execution_count": 298,
   "metadata": {},
   "outputs": [
    {
     "data": {
      "text/plain": [
       "<AxesSubplot:xlabel='snapshot', ylabel='MW'>"
      ]
     },
     "execution_count": 298,
     "metadata": {},
     "output_type": "execute_result"
    },
    {
     "data": {
      "image/png": "[encoded data removed]",
      "text/plain": [
       "<Figure size 600x200 with 1 Axes>"
      ]
     },
     "metadata": {},
     "output_type": "display_data"
    }
   ],
   "source": [
    "n.loads_t.p_set.plot(figsize=(6,2), ylabel=\"MW\")"
   ]
  },
  {
   "cell_type": "markdown",
   "metadata": {},
   "source": [
    "We are going to add one dispatchable generation technology to the model. This is an open-cycle gas turbine (OCGT) with CO$_2$ emissions of 0.2 t/MWh$_{th}$."
   ]
  },
  {
   "cell_type": "code",
   "execution_count": 299,
   "metadata": {},
   "outputs": [],
   "source": [
    "n.add(\n",
    "    \"Generator\",\n",
    "    \"OCGT\",\n",
    "    bus='electricity',\n",
    "    carrier=\"OCGT\",\n",
    "    capital_cost=costs.at[\"OCGT\", \"capital_cost\"],\n",
    "    marginal_cost=costs.at[\"OCGT\", \"marginal_cost\"],\n",
    "    efficiency=costs.at[\"OCGT\", \"efficiency\"],\n",
    "    p_nom_extendable=True,\n",
    ")"
   ]
  },
  {
   "cell_type": "markdown",
   "metadata": {},
   "source": [
    "Adding the variable renewable generators works almost identically, but we also need to supply the capacity factors to the model via the attribute `p_max_pu`."
   ]
  },
  {
   "cell_type": "code",
   "execution_count": 300,
   "metadata": {},
   "outputs": [],
   "source": [
    "for tech in [\"onwind\", \"offwind\", \"solar\"]:\n",
    "    n.add(\n",
    "        \"Generator\",\n",
    "        tech,\n",
    "        bus='electricity',\n",
    "        carrier=tech,\n",
    "        p_max_pu=ts[tech],\n",
    "        capital_cost=costs.at[tech, \"capital_cost\"],\n",
    "        marginal_cost=costs.at[tech, \"marginal_cost\"],\n",
    "        efficiency=costs.at[tech, \"efficiency\"],\n",
    "        p_nom_extendable=True,\n",
    "    )"
   ]
  },
  {
   "cell_type": "markdown",
   "metadata": {},
   "source": [
    "So let's make sure the capacity factors are read-in correctly."
   ]
  },
  {
   "cell_type": "code",
   "execution_count": 301,
   "metadata": {},
   "outputs": [
    {
     "data": {
      "text/plain": [
       "<AxesSubplot:xlabel='snapshot', ylabel='CF'>"
      ]
     },
     "execution_count": 301,
     "metadata": {},
     "output_type": "execute_result"
    },
    {
     "data": {
      "image/png": "[encoded data removed]",
      "text/plain": [
       "<Figure size 600x200 with 1 Axes>"
      ]
     },
     "metadata": {},
     "output_type": "display_data"
    }
   ],
   "source": [
    "n.generators_t.p_max_pu.loc[\"2015-03\"].plot(figsize=(6,2), ylabel=\"CF\")"
   ]
  },
  {
   "cell_type": "markdown",
   "metadata": {},
   "source": [
    "### Model Run"
   ]
  },
  {
   "cell_type": "markdown",
   "metadata": {},
   "source": [
    "Then, we can already solve the model for the first time. At this stage, the model does not have any storage or emission limits implemented. It's going to look for the least-cost combination of variable renewables and the gas turbine to supply demand."
   ]
  },
  {
   "cell_type": "code",
   "execution_count": 302,
   "metadata": {},
   "outputs": [
    {
     "name": "stderr",
     "output_type": "stream",
     "text": [
      "INFO:pypsa.linopf:Prepare linear problem\n",
      "INFO:pypsa.linopf:Total preparation time: 0.2s\n",
      "INFO:pypsa.linopf:Solve linear problem using Gurobi solver\n"
     ]
    },
    {
     "name": "stdout",
     "output_type": "stream",
     "text": [
      "Read LP format model from file /tmp/pypsa-problem-yq_dtabd.lp\n",
      "Reading time = 0.03 seconds\n",
      "obj: 19710 rows, 8765 columns, 33990 nonzeros\n",
      "Gurobi Optimizer version 10.0.0 build v10.0.0rc2 (linux64)\n",
      "\n",
      "CPU model: AMD Ryzen 7 PRO 4750U with Radeon Graphics, instruction set [SSE2|AVX|AVX2]\n",
      "Thread count: 8 physical cores, 16 logical processors, using up to 16 threads\n",
      "\n",
      "Optimize a model with 19710 rows, 8765 columns and 33990 nonzeros\n",
      "Model fingerprint: 0x692d5da7\n",
      "Coefficient statistics:\n",
      "  Matrix range     [1e-04, 1e+00]\n",
      "  Objective range  [4e-02, 2e+05]\n",
      "  Bounds range     [0e+00, 0e+00]\n",
      "  RHS range        [3e+04, 8e+04]\n",
      "Presolve removed 9810 rows and 1051 columns\n",
      "Presolve time: 0.01s\n",
      "Presolved: 9900 rows, 7714 columns, 23130 nonzeros\n",
      "\n",
      "Concurrent LP optimizer: primal simplex, dual simplex, and barrier\n",
      "Showing barrier log only...\n",
      "\n",
      "Ordering time: 0.01s\n",
      "\n",
      "Barrier statistics:\n",
      " Dense cols : 4\n",
      " AA' NZ     : 1.542e+04\n",
      " Factor NZ  : 6.301e+04 (roughly 8 MB of memory)\n",
      " Factor Ops : 4.230e+05 (less than 1 second per iteration)\n",
      " Threads    : 1\n",
      "\n",
      "                  Objective                Residual\n",
      "Iter       Primal          Dual         Primal    Dual     Compl     Time\n",
      "   0   7.48677197e+10  0.00000000e+00  3.30e+04 0.00e+00  8.47e+07     0s\n",
      "   1   6.93832756e+10 -4.84867853e+10  2.63e+03 3.85e+03  1.85e+07     0s\n",
      "   2   5.29763256e+10  1.62693112e+10  5.28e+01 4.28e+01  1.71e+06     0s\n",
      "   3   3.70971138e+10  2.18616760e+10  1.88e+01 7.04e+00  6.81e+05     0s\n",
      "   4   3.57521000e+10  2.28556543e+10  1.63e+01 5.47e+00  5.75e+05     0s\n",
      "   5   3.36910147e+10  2.45082702e+10  1.19e+01 3.13e+00  4.07e+05     0s\n",
      "   6   3.29561253e+10  2.52710133e+10  1.05e+01 2.31e+00  3.39e+05     0s\n",
      "\n",
      "Barrier performed 6 iterations in 0.09 seconds (0.03 work units)\n",
      "Barrier solve interrupted - model solved by another algorithm\n",
      "\n",
      "\n",
      "Solved with primal simplex\n",
      "Iteration    Objective       Primal Inf.    Dual Inf.      Time\n",
      "    5797    2.7532289e+10   0.000000e+00   0.000000e+00      0s\n",
      "\n",
      "Solved in 5797 iterations and 0.10 seconds (0.09 work units)\n",
      "Optimal objective  2.753228923e+10\n"
     ]
    },
    {
     "name": "stderr",
     "output_type": "stream",
     "text": [
      "INFO:pypsa.linopf:Optimization successful. Objective value: 2.75e+10\n"
     ]
    },
    {
     "data": {
      "text/plain": [
       "('ok', 'optimal')"
      ]
     },
     "execution_count": 302,
     "metadata": {},
     "output_type": "execute_result"
    }
   ],
   "source": [
    "n.lopf(solver_name='gurobi')"
   ]
  },
  {
   "cell_type": "markdown",
   "metadata": {},
   "source": [
    "### Model Evaluation"
   ]
  },
  {
   "cell_type": "markdown",
   "metadata": {},
   "source": [
    "The total system cost in billion Euros per year:"
   ]
  },
  {
   "cell_type": "code",
   "execution_count": 303,
   "metadata": {},
   "outputs": [
    {
     "data": {
      "text/plain": [
       "27.532289225227498"
      ]
     },
     "execution_count": 303,
     "metadata": {},
     "output_type": "execute_result"
    }
   ],
   "source": [
    "n.objective / 1e9"
   ]
  },
  {
   "cell_type": "markdown",
   "metadata": {},
   "source": [
    "The optimised capacities in GW:"
   ]
  },
  {
   "cell_type": "code",
   "execution_count": 304,
   "metadata": {},
   "outputs": [
    {
     "data": {
      "text/plain": [
       "Generator\n",
       "OCGT       70.182246\n",
       "onwind      0.000000\n",
       "offwind    42.399533\n",
       "solar      82.323420\n",
       "Name: p_nom_opt, dtype: float64"
      ]
     },
     "execution_count": 304,
     "metadata": {},
     "output_type": "execute_result"
    }
   ],
   "source": [
    "n.generators.p_nom_opt.div(1e3) # GW"
   ]
  },
  {
   "cell_type": "markdown",
   "metadata": {},
   "source": [
    "The total energy generation by technology in GW:"
   ]
  },
  {
   "cell_type": "code",
   "execution_count": 305,
   "metadata": {},
   "outputs": [
    {
     "data": {
      "text/plain": [
       "Generator\n",
       "OCGT       258.400419\n",
       "onwind       0.000000\n",
       "offwind    131.445301\n",
       "solar       89.080020\n",
       "Name: generators, dtype: float64"
      ]
     },
     "execution_count": 305,
     "metadata": {},
     "output_type": "execute_result"
    }
   ],
   "source": [
    "n.snapshot_weightings.generators @ n.generators_t.p.div(1e6) # TWh"
   ]
  },
  {
   "cell_type": "markdown",
   "metadata": {},
   "source": [
    "While we get the objective value through `n.objective`, in many cases we want to know how the costs are distributed across the technologies"
   ]
  },
  {
   "cell_type": "code",
   "execution_count": 306,
   "metadata": {},
   "outputs": [],
   "source": [
    "opex = n.snapshot_weightings.generators @ (n.generators_t.p * n.generators.marginal_cost).div(1e6) # M€/a"
   ]
  },
  {
   "cell_type": "code",
   "execution_count": 307,
   "metadata": {},
   "outputs": [],
   "source": [
    "capex = (n.generators.p_nom_opt * n.generators.capital_cost).div(1e6) # M€/a"
   ]
  },
  {
   "cell_type": "code",
   "execution_count": 308,
   "metadata": {},
   "outputs": [
    {
     "data": {
      "text/plain": [
       "Generator\n",
       "OCGT       16995.624249\n",
       "onwind         0.000000\n",
       "offwind     6707.003079\n",
       "solar       3829.661896\n",
       "dtype: float64"
      ]
     },
     "execution_count": 308,
     "metadata": {},
     "output_type": "execute_result"
    }
   ],
   "source": [
    "capex + opex"
   ]
  },
  {
   "cell_type": "markdown",
   "metadata": {},
   "source": [
    "If you have the newest version of PyPSA installed, you can also run the following to determine the total system cost by technology:"
   ]
  },
  {
   "cell_type": "code",
   "execution_count": 309,
   "metadata": {},
   "outputs": [
    {
     "data": {
      "text/plain": [
       "           carrier\n",
       "Generator  OCGT       16995.624249\n",
       "           offwind     6707.003079\n",
       "           onwind         0.000000\n",
       "           solar       3829.661896\n",
       "dtype: float64"
      ]
     },
     "execution_count": 309,
     "metadata": {},
     "output_type": "execute_result"
    }
   ],
   "source": [
    "(n.statistics.capex() + n.statistics.opex(aggregate_time='sum')).div(1e6)"
   ]
  },
  {
   "cell_type": "markdown",
   "metadata": {},
   "source": [
    "Possibly, we are also interested in the total emissions:"
   ]
  },
  {
   "cell_type": "code",
   "execution_count": 310,
   "metadata": {},
   "outputs": [],
   "source": [
    "emissions = n.generators_t.p / n.generators.efficiency * n.generators.carrier.map(n.carriers.co2_emissions) # t/h"
   ]
  },
  {
   "cell_type": "code",
   "execution_count": 311,
   "metadata": {},
   "outputs": [
    {
     "data": {
      "text/plain": [
       "126.04898508063908"
      ]
     },
     "execution_count": 311,
     "metadata": {},
     "output_type": "execute_result"
    }
   ],
   "source": [
    "n.snapshot_weightings.generators @ emissions.sum(axis=1).div(1e6) # Mt"
   ]
  },
  {
   "cell_type": "markdown",
   "metadata": {},
   "source": [
    "### Plotting Optimal Dispatch"
   ]
  },
  {
   "cell_type": "markdown",
   "metadata": {},
   "source": [
    "This function takes the network object `n` as an argument and, optionally, a time frame. We want to plot the load time series, and stacked area charts for electricity feed-in and storage charging. Technologies should be coloured by their color defined in `n.carriers`."
   ]
  },
  {
   "cell_type": "code",
   "execution_count": 312,
   "metadata": {},
   "outputs": [],
   "source": [
    "def plot_dispatch(n, time=\"2015-07\"):\n",
    "    \n",
    "    p_by_carrier = n.generators_t.p.groupby(n.generators.carrier, axis=1).sum().div(1e3)\n",
    "    \n",
    "    if not n.storage_units.empty:\n",
    "        sto = n.storage_units_t.p.groupby(n.storage_units.carrier, axis=1).sum().div(1e3)\n",
    "        p_by_carrier = pd.concat([p_by_carrier, sto], axis=1)\n",
    "    \n",
    "    fig, ax = plt.subplots(figsize=(6, 3))\n",
    "    \n",
    "    color = p_by_carrier.columns.map(n.carriers.color)\n",
    "    \n",
    "    p_by_carrier.where(p_by_carrier>0).loc[time].plot.area(\n",
    "        ax=ax,\n",
    "        linewidth=0,\n",
    "        color=color,\n",
    "    )\n",
    "    \n",
    "    charge = p_by_carrier.where(p_by_carrier<0).dropna(how='all', axis=1).loc[time]\n",
    "    \n",
    "    if not charge.empty:\n",
    "\n",
    "        charge.plot.area(\n",
    "            ax=ax,\n",
    "            linewidth=0,\n",
    "            color=charge.columns.map(n.carriers.color),\n",
    "        )\n",
    "    \n",
    "    n.loads_t.p_set.sum(axis=1).loc[time].div(1e3).plot(ax=ax, c='k')\n",
    "\n",
    "    plt.legend(loc=(1.05,0))\n",
    "    ax.set_ylabel(\"GW\")\n",
    "    ax.set_ylim(-200, 200)"
   ]
  },
  {
   "cell_type": "markdown",
   "metadata": {},
   "source": [
    "Oje, that was complicated. Let's test it:"
   ]
  },
  {
   "cell_type": "code",
   "execution_count": 313,
   "metadata": {},
   "outputs": [
    {
     "data": {
      "image/png": "[encoded data removed]",
      "text/plain": [
       "<Figure size 600x300 with 1 Axes>"
      ]
     },
     "metadata": {},
     "output_type": "display_data"
    }
   ],
   "source": [
    "plot_dispatch(n)"
   ]
  },
  {
   "cell_type": "markdown",
   "metadata": {},
   "source": [
    "## Adding Storage Units"
   ]
  },
  {
   "cell_type": "markdown",
   "metadata": {},
   "source": [
    "Alright, but there are a few important components missing for a system with high shares of renewables? What about short-term storage options (e.g. batteries) and long-term storage options (e.g. hydrogen storage)? Let's add them too."
   ]
  },
  {
   "cell_type": "markdown",
   "metadata": {},
   "source": [
    "First, the battery storage. We are going to assume a fixed energy-to-power ratio of 6 hours, i.e. if fully charged, the battery can discharge at full capacity for 6 hours.\n",
    "For the capital cost, we have to factor in both the capacity and energy cost of the storage. We are also going to enforce a cyclic state-of-charge condition, i.e. the state of charge\n",
    "at the beginning of the optimisation period must equal the final state of charge."
   ]
  },
  {
   "cell_type": "code",
   "execution_count": 314,
   "metadata": {},
   "outputs": [],
   "source": [
    "n.add(\n",
    "    \"StorageUnit\",\n",
    "    \"battery storage\",\n",
    "    bus='electricity',\n",
    "    carrier=\"battery storage\",\n",
    "    max_hours=6,\n",
    "    capital_cost=costs.at[\"battery inverter\", \"capital_cost\"] + 6 * costs.at[\"battery storage\", \"capital_cost\"],\n",
    "    efficiency_store=costs.at[\"battery inverter\", \"efficiency\"],\n",
    "    efficiency_dispatch=costs.at[\"battery inverter\", \"efficiency\"],\n",
    "    p_nom_extendable=True,\n",
    "    cyclic_state_of_charge=True,\n",
    ")"
   ]
  },
  {
   "cell_type": "markdown",
   "metadata": {},
   "source": [
    "Second, the hydrogen storage. This one is composed of an electrolysis to convert electricity to hydrogen, a fuel cell to re-convert hydrogen to electricity and underground storage (e.g. in salt caverns). We assume an energy-to-power ratio of 168 hours, such that this type of storage can be used for weekly balancing."
   ]
  },
  {
   "cell_type": "code",
   "execution_count": 315,
   "metadata": {},
   "outputs": [],
   "source": [
    "capital_costs = (\n",
    "    costs.at[\"electrolysis\", \"capital_cost\"] +\n",
    "    costs.at[\"fuel cell\", \"capital_cost\"] +\n",
    "    168 * costs.at[\"hydrogen storage underground\", \"capital_cost\"]\n",
    ")\n",
    "\n",
    "n.add(\n",
    "    \"StorageUnit\",\n",
    "    \"hydrogen storage underground\",\n",
    "    bus=\"electricity\",\n",
    "    carrier=\"hydrogen storage underground\",\n",
    "    max_hours=168,\n",
    "    capital_cost=capital_costs,\n",
    "    efficiency_store=costs.at[\"electrolysis\", \"efficiency\"],\n",
    "    efficiency_dispatch=costs.at[\"fuel cell\", \"efficiency\"],\n",
    "    p_nom_extendable=True,\n",
    "    cyclic_state_of_charge=True,\n",
    ")"
   ]
  },
  {
   "cell_type": "markdown",
   "metadata": {},
   "source": [
    "Ok, lets run the again, now with storage, and see what's changed."
   ]
  },
  {
   "cell_type": "code",
   "execution_count": 316,
   "metadata": {},
   "outputs": [
    {
     "name": "stderr",
     "output_type": "stream",
     "text": [
      "INFO:pypsa.linopf:Prepare linear problem\n",
      "INFO:pypsa.linopf:Total preparation time: 0.35s\n",
      "INFO:pypsa.linopf:Solve linear problem using Gurobi solver\n"
     ]
    },
    {
     "name": "stdout",
     "output_type": "stream",
     "text": [
      "Read LP format model from file /tmp/pypsa-problem-n__x3qgc.lp\n",
      "Reading time = 0.07 seconds\n",
      "obj: 50370 rows, 21907 columns, 99690 nonzeros\n",
      "Gurobi Optimizer version 10.0.0 build v10.0.0rc2 (linux64)\n",
      "\n",
      "CPU model: AMD Ryzen 7 PRO 4750U with Radeon Graphics, instruction set [SSE2|AVX|AVX2]\n",
      "Thread count: 8 physical cores, 16 logical processors, using up to 16 threads\n",
      "\n",
      "Optimize a model with 50370 rows, 21907 columns and 99690 nonzeros\n",
      "Model fingerprint: 0xfabf6dc5\n",
      "Coefficient statistics:\n",
      "  Matrix range     [1e-04, 2e+02]\n",
      "  Objective range  [4e-02, 3e+05]\n",
      "  Bounds range     [0e+00, 0e+00]\n",
      "  RHS range        [3e+04, 8e+04]\n",
      "Presolve removed 22950 rows and 1051 columns\n",
      "Presolve time: 0.04s\n",
      "Presolved: 27420 rows, 20856 columns, 75690 nonzeros\n",
      "\n",
      "Concurrent LP optimizer: primal simplex, dual simplex, and barrier\n",
      "Showing barrier log only...\n",
      "\n",
      "Ordering time: 0.03s\n",
      "\n",
      "Barrier statistics:\n",
      " Dense cols : 6\n",
      " AA' NZ     : 6.360e+04\n",
      " Factor NZ  : 4.597e+05 (roughly 23 MB of memory)\n",
      " Factor Ops : 8.066e+06 (less than 1 second per iteration)\n",
      " Threads    : 6\n",
      "\n",
      "                  Objective                Residual\n",
      "Iter       Primal          Dual         Primal    Dual     Compl     Time\n",
      "   0   3.46028251e+11  0.00000000e+00  4.89e+05 0.00e+00  8.23e+08     0s\n",
      "   1   5.86294644e+11 -2.68100808e+11  3.20e+04 9.11e+02  2.13e+08     0s\n",
      "   2   3.23306883e+11 -1.02311384e+10  1.72e+01 4.32e+01  1.67e+07     0s\n",
      "   3   1.79638403e+11  8.36193943e+09  5.76e+00 8.95e+00  5.80e+06     0s\n",
      "   4   1.11985896e+11  1.33596735e+10  2.95e+00 3.37e+00  2.85e+06     0s\n",
      "   5   7.38813159e+10  1.73473123e+10  1.57e+00 1.49e+00  1.50e+06     0s\n",
      "   6   4.75766371e+10  2.07418731e+10  6.71e-01 6.36e-01  6.80e+05     0s\n",
      "   7   3.64219322e+10  2.29396058e+10  2.75e-01 2.84e-01  3.36e+05     0s\n",
      "   8   3.27919329e+10  2.42933936e+10  1.65e-01 1.45e-01  2.10e+05     0s\n",
      "   9   3.15806029e+10  2.51807971e+10  1.29e-01 1.16e-01  1.57e+05     0s\n",
      "  10   3.10468216e+10  2.58882651e+10  1.12e-01 5.58e-02  1.26e+05     1s\n",
      "  11   3.00012227e+10  2.62228673e+10  7.87e-02 3.67e-02  9.21e+04     1s\n",
      "  12   2.99561744e+10  2.63042125e+10  7.72e-02 3.40e-02  8.90e+04     1s\n",
      "  13   2.93923769e+10  2.67986566e+10  5.36e-02 2.47e-02  6.31e+04     1s\n",
      "  14   2.88749432e+10  2.70435635e+10  3.67e-02 1.19e-02  4.45e+04     1s\n",
      "  15   2.85602693e+10  2.71982764e+10  2.73e-02 4.27e-03  3.30e+04     1s\n",
      "  16   2.83148269e+10  2.73275372e+10  2.03e-02 5.82e-11  2.39e+04     1s\n",
      "  17   2.82851110e+10  2.73393127e+10  1.93e-02 3.64e-12  2.29e+04     1s\n",
      "  18   2.79566953e+10  2.74331673e+10  1.05e-02 1.40e-09  1.26e+04     1s\n",
      "  19   2.79057647e+10  2.74440949e+10  9.16e-03 1.05e-09  1.12e+04     1s\n",
      "  20   2.77598611e+10  2.74816549e+10  5.46e-03 1.60e-10  6.72e+03     1s\n",
      "  21   2.76805613e+10  2.75021706e+10  3.49e-03 1.75e-09  4.30e+03     1s\n",
      "  22   2.76629052e+10  2.75097904e+10  3.06e-03 1.02e-10  3.69e+03     1s\n",
      "  23   2.76020497e+10  2.75191397e+10  1.60e-03 5.82e-10  2.00e+03     1s\n",
      "  24   2.75765884e+10  2.75227568e+10  9.78e-04 6.98e-10  1.30e+03     1s\n",
      "  25   2.75663736e+10  2.75275765e+10  7.44e-04 1.75e-10  9.34e+02     1s\n",
      "  26   2.75566410e+10  2.75287729e+10  5.23e-04 5.82e-11  6.71e+02     1s\n",
      "  27   2.75435630e+10  2.75305139e+10  2.41e-04 6.40e-10  3.14e+02     1s\n",
      "  28   2.75377603e+10  2.75316029e+10  1.14e-04 3.49e-10  1.48e+02     1s\n",
      "  29   2.75341939e+10  2.75321870e+10  3.55e-05 3.49e-10  4.82e+01     1s\n",
      "  30   2.75324281e+10  2.75322795e+10  2.22e-06 8.15e-10  3.57e+00     1s\n",
      "  31   2.75322978e+10  2.75322883e+10  1.31e-07 0.00e+00  2.28e-01     1s\n",
      "  32   2.75322893e+10  2.75322892e+10  4.15e-08 2.91e-10  2.05e-03     1s\n",
      "  33   2.75322892e+10  2.75322892e+10  1.67e-10 7.65e-10  1.29e-05     1s\n",
      "  34   2.75322892e+10  2.75322892e+10  1.20e-09 4.07e-10  1.60e-11     1s\n",
      "\n",
      "Barrier solved model in 34 iterations and 1.43 seconds (0.37 work units)\n",
      "Optimal objective 2.75322892e+10\n",
      "\n",
      "Crossover log...\n",
      "\n",
      "   19753 DPushes remaining with DInf 0.0000000e+00                 1s\n",
      "       0 DPushes remaining with DInf 0.0000000e+00                 1s\n",
      "\n",
      "       3 PPushes remaining with PInf 0.0000000e+00                 1s\n",
      "       0 PPushes remaining with PInf 0.0000000e+00                 1s\n",
      "\n",
      "  Push phase complete: Pinf 0.0000000e+00, Dinf 2.5834741e-09      1s\n",
      "\n",
      "\n",
      "Solved with barrier\n",
      "Iteration    Objective       Primal Inf.    Dual Inf.      Time\n",
      "    8996    2.7532289e+10   0.000000e+00   0.000000e+00      2s\n",
      "\n",
      "Solved in 8996 iterations and 1.51 seconds (0.42 work units)\n",
      "Optimal objective  2.753228923e+10\n"
     ]
    },
    {
     "name": "stderr",
     "output_type": "stream",
     "text": [
      "INFO:pypsa.linopf:Optimization successful. Objective value: 2.75e+10\n"
     ]
    },
    {
     "data": {
      "text/plain": [
       "('ok', 'optimal')"
      ]
     },
     "execution_count": 316,
     "metadata": {},
     "output_type": "execute_result"
    }
   ],
   "source": [
    "n.lopf(solver_name='gurobi')"
   ]
  },
  {
   "cell_type": "code",
   "execution_count": 317,
   "metadata": {},
   "outputs": [
    {
     "data": {
      "text/plain": [
       "Generator\n",
       "OCGT       70182.245794\n",
       "onwind         0.000000\n",
       "offwind    42399.532710\n",
       "solar      82323.420397\n",
       "Name: p_nom_opt, dtype: float64"
      ]
     },
     "execution_count": 317,
     "metadata": {},
     "output_type": "execute_result"
    }
   ],
   "source": [
    "n.generators.p_nom_opt # MW"
   ]
  },
  {
   "cell_type": "code",
   "execution_count": 318,
   "metadata": {},
   "outputs": [
    {
     "data": {
      "text/plain": [
       "StorageUnit\n",
       "battery storage                 0.0\n",
       "hydrogen storage underground    0.0\n",
       "Name: p_nom_opt, dtype: float64"
      ]
     },
     "execution_count": 318,
     "metadata": {},
     "output_type": "execute_result"
    }
   ],
   "source": [
    "n.storage_units.p_nom_opt # MW"
   ]
  },
  {
   "cell_type": "markdown",
   "metadata": {},
   "source": [
    "**Nothing!** The objective value is the same, and no storage is built."
   ]
  },
  {
   "cell_type": "markdown",
   "metadata": {},
   "source": [
    "### Adding emission limits"
   ]
  },
  {
   "cell_type": "markdown",
   "metadata": {},
   "source": [
    "The gas power plant offers sufficient and cheap enough backup capacity to run in periods of low wind and solar generation. But what happens if this source of flexibility disappears. Let's model a 100% renewable electricity system by adding a CO$_2$ emission limit as global constraint:"
   ]
  },
  {
   "cell_type": "code",
   "execution_count": 319,
   "metadata": {},
   "outputs": [],
   "source": [
    "n.add(\n",
    "    \"GlobalConstraint\",\n",
    "    \"CO2Limit\",\n",
    "    carrier_attribute=\"co2_emissions\",\n",
    "    sense=\"<=\",\n",
    "    constant=0,\n",
    ")"
   ]
  },
  {
   "cell_type": "markdown",
   "metadata": {},
   "source": [
    "When we run the model now..."
   ]
  },
  {
   "cell_type": "code",
   "execution_count": 320,
   "metadata": {},
   "outputs": [
    {
     "name": "stderr",
     "output_type": "stream",
     "text": [
      "INFO:pypsa.linopf:Prepare linear problem\n",
      "INFO:pypsa.linopf:Total preparation time: 0.31s\n",
      "INFO:pypsa.linopf:Solve linear problem using Gurobi solver\n"
     ]
    },
    {
     "name": "stdout",
     "output_type": "stream",
     "text": [
      "Read LP format model from file /tmp/pypsa-problem-jq3j7msx.lp\n",
      "Reading time = 0.07 seconds\n",
      "obj: 50371 rows, 21907 columns, 101880 nonzeros\n",
      "Gurobi Optimizer version 10.0.0 build v10.0.0rc2 (linux64)\n",
      "\n",
      "CPU model: AMD Ryzen 7 PRO 4750U with Radeon Graphics, instruction set [SSE2|AVX|AVX2]\n",
      "Thread count: 8 physical cores, 16 logical processors, using up to 16 threads\n",
      "\n",
      "Optimize a model with 50371 rows, 21907 columns and 101880 nonzeros\n",
      "Model fingerprint: 0xb3351325\n",
      "Coefficient statistics:\n",
      "  Matrix range     [1e-04, 2e+02]\n",
      "  Objective range  [4e-02, 3e+05]\n",
      "  Bounds range     [0e+00, 0e+00]\n",
      "  RHS range        [3e+04, 8e+04]\n",
      "Presolve removed 25141 rows and 3242 columns\n",
      "Presolve time: 0.04s\n",
      "Presolved: 25230 rows, 18665 columns, 69120 nonzeros\n",
      "\n",
      "Concurrent LP optimizer: primal simplex, dual simplex, and barrier\n",
      "Showing barrier log only...\n",
      "\n",
      "Ordering time: 0.03s\n",
      "\n",
      "Barrier statistics:\n",
      " Dense cols : 5\n",
      " AA' NZ     : 5.922e+04\n",
      " Factor NZ  : 3.852e+05 (roughly 20 MB of memory)\n",
      " Factor Ops : 6.160e+06 (less than 1 second per iteration)\n",
      " Threads    : 6\n",
      "\n",
      "                  Objective                Residual\n",
      "Iter       Primal          Dual         Primal    Dual     Compl     Time\n",
      "   0   3.26455533e+11  0.00000000e+00  4.20e+05 0.00e+00  9.00e+08     0s\n",
      "   1   6.59604884e+11 -2.02977151e+11  1.75e+04 9.06e+02  2.43e+08     0s\n",
      "   2   3.69071227e+11  2.17059887e+08  9.47e+00 1.02e+02  3.27e+07     0s\n",
      "   3   1.98543341e+11  1.80773501e+10  2.82e+00 2.45e+01  9.55e+06     0s\n",
      "   4   1.32941059e+11  2.29695191e+10  1.41e+00 1.05e+01  4.58e+06     0s\n",
      "   5   9.66157086e+10  2.72943541e+10  7.85e-01 5.90e+00  2.60e+06     0s\n",
      "   6   9.33636637e+10  3.08328747e+10  7.18e-01 4.08e+00  2.17e+06     0s\n",
      "   7   8.16113755e+10  3.97280276e+10  5.06e-01 2.42e+00  1.40e+06     0s\n",
      "   8   7.71055593e+10  4.61866065e+10  3.60e-01 1.78e+00  1.03e+06     0s\n",
      "   9   7.19347687e+10  5.23984250e+10  1.83e-01 1.15e+00  6.47e+05     0s\n",
      "  10   7.01525358e+10  5.82392045e+10  1.28e-01 6.04e-01  3.83e+05     0s\n",
      "  11   6.86791701e+10  6.08272087e+10  8.07e-02 3.71e-01  2.49e+05     1s\n",
      "  12   6.78713256e+10  6.21137782e+10  6.21e-02 2.55e-01  1.80e+05     1s\n",
      "  13   6.78514721e+10  6.24482782e+10  6.01e-02 2.28e-01  1.68e+05     1s\n",
      "  14   6.71875966e+10  6.27655161e+10  4.48e-02 1.98e-01  1.39e+05     1s\n",
      "  15   6.67858989e+10  6.39103546e+10  3.51e-02 9.60e-02  8.71e+04     1s\n",
      "  16   6.67240976e+10  6.41482313e+10  3.26e-02 8.24e-02  7.76e+04     1s\n",
      "  17   6.65854669e+10  6.44009970e+10  2.79e-02 6.89e-02  6.57e+04     1s\n",
      "  18   6.63625410e+10  6.45164110e+10  2.00e-02 6.30e-02  5.60e+04     1s\n",
      "  19   6.62348520e+10  6.49089144e+10  1.34e-02 4.41e-02  4.00e+04     1s\n",
      "  20   6.61231531e+10  6.49701059e+10  9.36e-03 4.11e-02  3.51e+04     1s\n",
      "  21   6.60831231e+10  6.50532153e+10  8.30e-03 3.66e-02  3.13e+04     1s\n",
      "  22   6.60511289e+10  6.51806654e+10  7.26e-03 3.05e-02  2.64e+04     1s\n",
      "  23   6.59545732e+10  6.53906785e+10  3.92e-03 2.02e-02  1.72e+04     1s\n",
      "  24   6.59415762e+10  6.55657596e+10  3.35e-03 1.23e-02  1.14e+04     1s\n",
      "  25   6.59159668e+10  6.56645393e+10  2.62e-03 7.47e-03  7.54e+03     1s\n",
      "  26   6.58883010e+10  6.57468201e+10  1.88e-03 3.11e-03  4.14e+03     1s\n",
      "  27   6.58591531e+10  6.57772215e+10  1.13e-03 1.63e-03  2.38e+03     1s\n",
      "  28   6.58348588e+10  6.57998335e+10  5.21e-04 5.06e-04  9.98e+02     1s\n",
      "  29   6.58238183e+10  6.58079373e+10  2.52e-04 1.51e-04  4.45e+02     1s\n",
      "  30   6.58174373e+10  6.58108084e+10  9.97e-05 5.83e-05  1.86e+02     1s\n",
      "  31   6.58147023e+10  6.58122832e+10  3.46e-05 1.91e-05  6.76e+01     1s\n",
      "  32   6.58140814e+10  6.58126651e+10  2.03e-05 9.98e-06  3.95e+01     1s\n",
      "  33   6.58133760e+10  6.58130505e+10  2.24e-05 1.95e-06  9.05e+00     1s\n",
      "  34   6.58132374e+10  6.58131117e+10  6.02e-06 9.33e-07  3.53e+00     1s\n",
      "  35   6.58131844e+10  6.58131733e+10  5.78e-06 8.42e-08  3.15e-01     1s\n",
      "  36   6.58131805e+10  6.58131801e+10  1.37e-06 1.38e-09  1.01e-02     1s\n",
      "  37   6.58131804e+10  6.58131804e+10  7.91e-06 2.39e-09  4.70e-05     1s\n",
      "  38   6.58131804e+10  6.58131804e+10  9.75e-10 2.44e-09  7.30e-10     1s\n",
      "\n",
      "Barrier solved model in 38 iterations and 1.39 seconds (0.38 work units)\n",
      "Optimal objective 6.58131804e+10\n",
      "\n",
      "Crossover log...\n",
      "\n",
      "     190 DPushes remaining with DInf 0.0000000e+00                 1s\n",
      "       0 DPushes remaining with DInf 0.0000000e+00                 1s\n",
      "\n",
      "    1852 PPushes remaining with PInf 0.0000000e+00                 1s\n",
      "       0 PPushes remaining with PInf 0.0000000e+00                 1s\n",
      "\n",
      "  Push phase complete: Pinf 0.0000000e+00, Dinf 1.7582710e-09      1s\n",
      "\n",
      "\n",
      "Solved with barrier\n",
      "Iteration    Objective       Primal Inf.    Dual Inf.      Time\n",
      "    2045    6.5813180e+10   0.000000e+00   0.000000e+00      2s\n",
      "\n",
      "Solved in 2045 iterations and 1.52 seconds (0.53 work units)\n",
      "Optimal objective  6.581318040e+10\n"
     ]
    },
    {
     "name": "stderr",
     "output_type": "stream",
     "text": [
      "INFO:pypsa.linopf:Optimization successful. Objective value: 6.58e+10\n"
     ]
    },
    {
     "data": {
      "text/plain": [
       "('ok', 'optimal')"
      ]
     },
     "execution_count": 320,
     "metadata": {},
     "output_type": "execute_result"
    }
   ],
   "source": [
    "n.lopf(solver_name='gurobi')"
   ]
  },
  {
   "cell_type": "markdown",
   "metadata": {},
   "source": [
    "...and inspect the capacities built..."
   ]
  },
  {
   "cell_type": "code",
   "execution_count": 321,
   "metadata": {},
   "outputs": [
    {
     "data": {
      "text/plain": [
       "Generator\n",
       "OCGT            0.000000\n",
       "onwind     225963.169630\n",
       "offwind     76925.170810\n",
       "solar      248437.267074\n",
       "Name: p_nom_opt, dtype: float64"
      ]
     },
     "execution_count": 321,
     "metadata": {},
     "output_type": "execute_result"
    }
   ],
   "source": [
    "n.generators.p_nom_opt # MW"
   ]
  },
  {
   "cell_type": "code",
   "execution_count": 322,
   "metadata": {},
   "outputs": [
    {
     "data": {
      "text/plain": [
       "StorageUnit\n",
       "battery storage                 34106.689925\n",
       "hydrogen storage underground    60603.642626\n",
       "Name: p_nom_opt, dtype: float64"
      ]
     },
     "execution_count": 322,
     "metadata": {},
     "output_type": "execute_result"
    }
   ],
   "source": [
    "n.storage_units.p_nom_opt # MW"
   ]
  },
  {
   "cell_type": "code",
   "execution_count": 323,
   "metadata": {},
   "outputs": [
    {
     "data": {
      "text/plain": [
       "StorageUnit\n",
       "battery storage                   204.640140\n",
       "hydrogen storage underground    10181.411961\n",
       "dtype: float64"
      ]
     },
     "execution_count": 323,
     "metadata": {},
     "output_type": "execute_result"
    }
   ],
   "source": [
    "n.storage_units.p_nom_opt.div(1e3) * n.storage_units.max_hours # GWh"
   ]
  },
  {
   "cell_type": "markdown",
   "metadata": {},
   "source": [
    "... we see quite a bit of storage. So how does the optimised dispatch of the system look like?"
   ]
  },
  {
   "cell_type": "code",
   "execution_count": 324,
   "metadata": {},
   "outputs": [
    {
     "name": "stderr",
     "output_type": "stream",
     "text": [
      "/home/fneum/miniconda3/envs/pypsa-eur-221227/lib/python3.10/site-packages/pandas/plotting/_matplotlib/core.py:1594: UserWarning:\n",
      "\n",
      "Attempting to set identical bottom == top == 0.0 results in singular transformations; automatically expanding.\n",
      "\n"
     ]
    },
    {
     "data": {
      "image/png": "[encoded data removed]",
      "text/plain": [
       "<Figure size 600x300 with 1 Axes>"
      ]
     },
     "metadata": {},
     "output_type": "display_data"
    }
   ],
   "source": [
    "plot_dispatch(n)"
   ]
  },
  {
   "cell_type": "markdown",
   "metadata": {},
   "source": [
    "We are also keen to see what technologies constitute the largest cost components. For that we're going to define a small helper function:"
   ]
  },
  {
   "cell_type": "code",
   "execution_count": 325,
   "metadata": {},
   "outputs": [],
   "source": [
    "def system_cost(n):\n",
    "    tsc = n.statistics.capex() + n.statistics.opex(aggregate_time='sum')\n",
    "    return tsc.droplevel(0).div(1e6) # million €/a"
   ]
  },
  {
   "cell_type": "markdown",
   "metadata": {},
   "source": [
    ":::{note}\n",
    "If you have an older PyPSA version, the statistics accessor might not be available and you may have to use this alternative, more complicated function with individual items for each cost component:\n",
    "\n",
    "```\n",
    "def system_cost(n)\n",
    "    opex = n.snapshot_weightings.generators @ (n.generators.marginal_cost * n.generators_t.p).div(1e6) # M€/a\n",
    "    capex = (n.generators.p_nom_opt * n.generators.capital_cost).div(1e6) # M€/a\n",
    "    capex_storage = (n.storage_units.p_nom_opt * n.storage_units.capital_cost).div(1e6) # M€/a\n",
    "    return pd.concat([opex, capex, capex_storage], axis=1).sum(axis=1)\n",
    "```\n",
    ":::"
   ]
  },
  {
   "cell_type": "code",
   "execution_count": 326,
   "metadata": {},
   "outputs": [
    {
     "data": {
      "text/plain": [
       "carrier\n",
       "battery storage                  3289.077316\n",
       "hydrogen storage underground    16994.853540\n",
       "OCGT                                0.000000\n",
       "offwind                         12168.412459\n",
       "onwind                          21803.629879\n",
       "solar                           11557.207204\n",
       "dtype: float64"
      ]
     },
     "execution_count": 326,
     "metadata": {},
     "output_type": "execute_result"
    }
   ],
   "source": [
    "system_cost(n)"
   ]
  },
  {
   "cell_type": "markdown",
   "metadata": {},
   "source": [
    "This series, we can then process into plots, e.g. a pie chart:"
   ]
  },
  {
   "cell_type": "code",
   "execution_count": 327,
   "metadata": {},
   "outputs": [
    {
     "data": {
      "text/plain": [
       "<AxesSubplot:>"
      ]
     },
     "execution_count": 327,
     "metadata": {},
     "output_type": "execute_result"
    },
    {
     "data": {
      "image/png": "[encoded data removed]",
      "text/plain": [
       "<Figure size 200x200 with 1 Axes>"
      ]
     },
     "metadata": {},
     "output_type": "display_data"
    }
   ],
   "source": [
    "system_cost(n).plot.pie(figsize=(2,2))"
   ]
  },
  {
   "cell_type": "markdown",
   "metadata": {},
   "source": [
    "or use to compute the cost per unit of electricity consumed:"
   ]
  },
  {
   "cell_type": "code",
   "execution_count": 328,
   "metadata": {},
   "outputs": [],
   "source": [
    "demand = n.snapshot_weightings.generators @ n.loads_t.p_set.sum(axis=1)"
   ]
  },
  {
   "cell_type": "code",
   "execution_count": 329,
   "metadata": {},
   "outputs": [
    {
     "data": {
      "text/plain": [
       "137.41834046865426"
      ]
     },
     "execution_count": 329,
     "metadata": {},
     "output_type": "execute_result"
    }
   ],
   "source": [
    "system_cost(n).sum()*1e6 / demand.sum()"
   ]
  },
  {
   "cell_type": "markdown",
   "metadata": {},
   "source": [
    ":::{warning}\n",
    "Always consider, that the load data is given in units of power (MW) and if your resolution is not hourly, you need to multiply by the snapshot weighting to get the energy consumed!\n",
    ":::"
   ]
  },
  {
   "cell_type": "markdown",
   "metadata": {
    "tags": []
   },
   "source": [
    "## Sensitivity Analysis"
   ]
  },
  {
   "cell_type": "markdown",
   "metadata": {},
   "source": [
    "Sensitivity analyses constitute a core activity of energy system modelling. Below, you can find sensitivity analyses regarding the\n",
    "\n",
    "1. variation in allowed CO$_2$ emissions\n",
    "2. variation in solar overnight costs\n",
    "3. variation in offshore wind potentials"
   ]
  },
  {
   "cell_type": "code",
   "execution_count": 275,
   "metadata": {},
   "outputs": [
    {
     "name": "stderr",
     "output_type": "stream",
     "text": [
      "INFO:pypsa.linopf:Prepare linear problem\n",
      "INFO:pypsa.linopf:Total preparation time: 0.91s\n",
      "INFO:pypsa.linopf:Solve linear problem using Cbc solver\n",
      "INFO:pypsa.linopf:Optimization successful. Objective value: 2.76e+10\n",
      "INFO:pypsa.linopf:Prepare linear problem\n",
      "INFO:pypsa.linopf:Total preparation time: 0.93s\n",
      "INFO:pypsa.linopf:Solve linear problem using Cbc solver\n",
      "INFO:pypsa.linopf:Optimization successful. Objective value: 2.80e+10\n",
      "INFO:pypsa.linopf:Prepare linear problem\n",
      "INFO:pypsa.linopf:Total preparation time: 0.93s\n",
      "INFO:pypsa.linopf:Solve linear problem using Cbc solver\n"
     ]
    },
    {
     "ename": "KeyboardInterrupt",
     "evalue": "",
     "output_type": "error",
     "traceback": [
      "\u001b[0;31m---------------------------------------------------------------------------\u001b[0m",
      "\u001b[0;31mKeyboardInterrupt\u001b[0m                         Traceback (most recent call last)",
      "Cell \u001b[0;32mIn[275], line 4\u001b[0m\n\u001b[1;32m      2\u001b[0m \u001b[38;5;28;01mfor\u001b[39;00m co2 \u001b[38;5;129;01min\u001b[39;00m [\u001b[38;5;241m150\u001b[39m,\u001b[38;5;241m100\u001b[39m,\u001b[38;5;241m50\u001b[39m,\u001b[38;5;241m25\u001b[39m,\u001b[38;5;241m0\u001b[39m]:\n\u001b[1;32m      3\u001b[0m     n\u001b[38;5;241m.\u001b[39mglobal_constraints\u001b[38;5;241m.\u001b[39mloc[\u001b[38;5;124m\"\u001b[39m\u001b[38;5;124mCO2Limit\u001b[39m\u001b[38;5;124m\"\u001b[39m, \u001b[38;5;124m\"\u001b[39m\u001b[38;5;124mconstant\u001b[39m\u001b[38;5;124m\"\u001b[39m] \u001b[38;5;241m=\u001b[39m co2 \u001b[38;5;241m*\u001b[39m \u001b[38;5;241m1e6\u001b[39m\n\u001b[0;32m----> 4\u001b[0m     \u001b[43mn\u001b[49m\u001b[38;5;241;43m.\u001b[39;49m\u001b[43mlopf\u001b[49m\u001b[43m(\u001b[49m\u001b[43msolver_name\u001b[49m\u001b[38;5;241;43m=\u001b[39;49m\u001b[38;5;124;43m'\u001b[39;49m\u001b[38;5;124;43mcbc\u001b[39;49m\u001b[38;5;124;43m'\u001b[39;49m\u001b[43m)\u001b[49m\n\u001b[1;32m      5\u001b[0m     sensitivity[co2] \u001b[38;5;241m=\u001b[39m system_cost(n)\n",
      "File \u001b[0;32m~/miniconda3/envs/pypsa-eur-221227/lib/python3.10/site-packages/pypsa/components.py:769\u001b[0m, in \u001b[0;36mNetwork.lopf\u001b[0;34m(self, snapshots, pyomo, solver_name, solver_options, solver_logfile, formulation, keep_files, extra_functionality, multi_investment_periods, **kwargs)\u001b[0m\n\u001b[1;32m    767\u001b[0m \u001b[38;5;28;01mif\u001b[39;00m pyomo:\n\u001b[1;32m    768\u001b[0m     \u001b[38;5;28;01mreturn\u001b[39;00m network_lopf(\u001b[38;5;28mself\u001b[39m, \u001b[38;5;241m*\u001b[39m\u001b[38;5;241m*\u001b[39margs)\n\u001b[0;32m--> 769\u001b[0m \u001b[38;5;28;01mreturn\u001b[39;00m \u001b[43mnetwork_lopf_lowmem\u001b[49m\u001b[43m(\u001b[49m\u001b[38;5;28;43mself\u001b[39;49m\u001b[43m,\u001b[49m\u001b[43m \u001b[49m\u001b[38;5;241;43m*\u001b[39;49m\u001b[38;5;241;43m*\u001b[39;49m\u001b[43margs\u001b[49m\u001b[43m)\u001b[49m\n",
      "File \u001b[0;32m~/miniconda3/envs/pypsa-eur-221227/lib/python3.10/site-packages/pypsa/linopf.py:1468\u001b[0m, in \u001b[0;36mnetwork_lopf\u001b[0;34m(n, snapshots, solver_name, solver_logfile, extra_functionality, multi_investment_periods, skip_objective, skip_pre, extra_postprocessing, formulation, keep_references, keep_files, keep_shadowprices, solver_options, warmstart, store_basis, solver_dir)\u001b[0m\n\u001b[1;32m   1465\u001b[0m     logger\u001b[38;5;241m.\u001b[39minfo(\u001b[38;5;124mf\u001b[39m\u001b[38;5;124m\"\u001b[39m\u001b[38;5;124mSolve linear problem using \u001b[39m\u001b[38;5;132;01m{\u001b[39;00msolver_name\u001b[38;5;241m.\u001b[39mtitle()\u001b[38;5;132;01m}\u001b[39;00m\u001b[38;5;124m solver\u001b[39m\u001b[38;5;124m\"\u001b[39m)\n\u001b[1;32m   1467\u001b[0m solve \u001b[38;5;241m=\u001b[39m \u001b[38;5;28meval\u001b[39m(\u001b[38;5;124mf\u001b[39m\u001b[38;5;124m\"\u001b[39m\u001b[38;5;124mrun_and_read_\u001b[39m\u001b[38;5;132;01m{\u001b[39;00msolver_name\u001b[38;5;132;01m}\u001b[39;00m\u001b[38;5;124m\"\u001b[39m)\n\u001b[0;32m-> 1468\u001b[0m res \u001b[38;5;241m=\u001b[39m \u001b[43msolve\u001b[49m\u001b[43m(\u001b[49m\n\u001b[1;32m   1469\u001b[0m \u001b[43m    \u001b[49m\u001b[43mn\u001b[49m\u001b[43m,\u001b[49m\n\u001b[1;32m   1470\u001b[0m \u001b[43m    \u001b[49m\u001b[43mproblem_fn\u001b[49m\u001b[43m,\u001b[49m\n\u001b[1;32m   1471\u001b[0m \u001b[43m    \u001b[49m\u001b[43msolution_fn\u001b[49m\u001b[43m,\u001b[49m\n\u001b[1;32m   1472\u001b[0m \u001b[43m    \u001b[49m\u001b[43msolver_logfile\u001b[49m\u001b[43m,\u001b[49m\n\u001b[1;32m   1473\u001b[0m \u001b[43m    \u001b[49m\u001b[43msolver_options\u001b[49m\u001b[43m,\u001b[49m\n\u001b[1;32m   1474\u001b[0m \u001b[43m    \u001b[49m\u001b[43mwarmstart\u001b[49m\u001b[43m,\u001b[49m\n\u001b[1;32m   1475\u001b[0m \u001b[43m    \u001b[49m\u001b[43mstore_basis\u001b[49m\u001b[43m,\u001b[49m\n\u001b[1;32m   1476\u001b[0m \u001b[43m\u001b[49m\u001b[43m)\u001b[49m\n\u001b[1;32m   1478\u001b[0m status, termination_condition, variables_sol, constraints_dual, obj \u001b[38;5;241m=\u001b[39m res\n\u001b[1;32m   1480\u001b[0m \u001b[38;5;28;01mif\u001b[39;00m \u001b[38;5;129;01mnot\u001b[39;00m keep_files:\n",
      "File \u001b[0;32m~/miniconda3/envs/pypsa-eur-221227/lib/python3.10/site-packages/pypsa/linopt.py:847\u001b[0m, in \u001b[0;36mrun_and_read_cbc\u001b[0;34m(n, problem_fn, solution_fn, solver_logfile, solver_options, warmstart, store_basis)\u001b[0m\n\u001b[1;32m    845\u001b[0m log \u001b[38;5;241m=\u001b[39m \u001b[38;5;28mopen\u001b[39m(solver_logfile, \u001b[38;5;124m\"\u001b[39m\u001b[38;5;124mw\u001b[39m\u001b[38;5;124m\"\u001b[39m) \u001b[38;5;28;01mif\u001b[39;00m solver_logfile \u001b[38;5;129;01mis\u001b[39;00m \u001b[38;5;129;01mnot\u001b[39;00m \u001b[38;5;28;01mNone\u001b[39;00m \u001b[38;5;28;01melse\u001b[39;00m subprocess\u001b[38;5;241m.\u001b[39mPIPE\n\u001b[1;32m    846\u001b[0m result \u001b[38;5;241m=\u001b[39m subprocess\u001b[38;5;241m.\u001b[39mPopen(command\u001b[38;5;241m.\u001b[39msplit(\u001b[38;5;124m\"\u001b[39m\u001b[38;5;124m \u001b[39m\u001b[38;5;124m\"\u001b[39m), stdout\u001b[38;5;241m=\u001b[39mlog)\n\u001b[0;32m--> 847\u001b[0m \u001b[43mresult\u001b[49m\u001b[38;5;241;43m.\u001b[39;49m\u001b[43mwait\u001b[49m\u001b[43m(\u001b[49m\u001b[43m)\u001b[49m\n\u001b[1;32m    849\u001b[0m \u001b[38;5;28;01mwith\u001b[39;00m \u001b[38;5;28mopen\u001b[39m(solution_fn, \u001b[38;5;124m\"\u001b[39m\u001b[38;5;124mr\u001b[39m\u001b[38;5;124m\"\u001b[39m) \u001b[38;5;28;01mas\u001b[39;00m f:\n\u001b[1;32m    850\u001b[0m     data \u001b[38;5;241m=\u001b[39m f\u001b[38;5;241m.\u001b[39mreadline()\n",
      "File \u001b[0;32m~/miniconda3/envs/pypsa-eur-221227/lib/python3.10/subprocess.py:1204\u001b[0m, in \u001b[0;36mPopen.wait\u001b[0;34m(self, timeout)\u001b[0m\n\u001b[1;32m   1202\u001b[0m     endtime \u001b[38;5;241m=\u001b[39m _time() \u001b[38;5;241m+\u001b[39m timeout\n\u001b[1;32m   1203\u001b[0m \u001b[38;5;28;01mtry\u001b[39;00m:\n\u001b[0;32m-> 1204\u001b[0m     \u001b[38;5;28;01mreturn\u001b[39;00m \u001b[38;5;28;43mself\u001b[39;49m\u001b[38;5;241;43m.\u001b[39;49m\u001b[43m_wait\u001b[49m\u001b[43m(\u001b[49m\u001b[43mtimeout\u001b[49m\u001b[38;5;241;43m=\u001b[39;49m\u001b[43mtimeout\u001b[49m\u001b[43m)\u001b[49m\n\u001b[1;32m   1205\u001b[0m \u001b[38;5;28;01mexcept\u001b[39;00m \u001b[38;5;167;01mKeyboardInterrupt\u001b[39;00m:\n\u001b[1;32m   1206\u001b[0m     \u001b[38;5;66;03m# https://bugs.python.org/issue25942\u001b[39;00m\n\u001b[1;32m   1207\u001b[0m     \u001b[38;5;66;03m# The first keyboard interrupt waits briefly for the child to\u001b[39;00m\n\u001b[1;32m   1208\u001b[0m     \u001b[38;5;66;03m# exit under the common assumption that it also received the ^C\u001b[39;00m\n\u001b[1;32m   1209\u001b[0m     \u001b[38;5;66;03m# generated SIGINT and will exit rapidly.\u001b[39;00m\n\u001b[1;32m   1210\u001b[0m     \u001b[38;5;28;01mif\u001b[39;00m timeout \u001b[38;5;129;01mis\u001b[39;00m \u001b[38;5;129;01mnot\u001b[39;00m \u001b[38;5;28;01mNone\u001b[39;00m:\n",
      "File \u001b[0;32m~/miniconda3/envs/pypsa-eur-221227/lib/python3.10/subprocess.py:1938\u001b[0m, in \u001b[0;36mPopen._wait\u001b[0;34m(self, timeout)\u001b[0m\n\u001b[1;32m   1936\u001b[0m \u001b[38;5;28;01mif\u001b[39;00m \u001b[38;5;28mself\u001b[39m\u001b[38;5;241m.\u001b[39mreturncode \u001b[38;5;129;01mis\u001b[39;00m \u001b[38;5;129;01mnot\u001b[39;00m \u001b[38;5;28;01mNone\u001b[39;00m:\n\u001b[1;32m   1937\u001b[0m     \u001b[38;5;28;01mbreak\u001b[39;00m  \u001b[38;5;66;03m# Another thread waited.\u001b[39;00m\n\u001b[0;32m-> 1938\u001b[0m (pid, sts) \u001b[38;5;241m=\u001b[39m \u001b[38;5;28;43mself\u001b[39;49m\u001b[38;5;241;43m.\u001b[39;49m\u001b[43m_try_wait\u001b[49m\u001b[43m(\u001b[49m\u001b[38;5;241;43m0\u001b[39;49m\u001b[43m)\u001b[49m\n\u001b[1;32m   1939\u001b[0m \u001b[38;5;66;03m# Check the pid and loop as waitpid has been known to\u001b[39;00m\n\u001b[1;32m   1940\u001b[0m \u001b[38;5;66;03m# return 0 even without WNOHANG in odd situations.\u001b[39;00m\n\u001b[1;32m   1941\u001b[0m \u001b[38;5;66;03m# http://bugs.python.org/issue14396.\u001b[39;00m\n\u001b[1;32m   1942\u001b[0m \u001b[38;5;28;01mif\u001b[39;00m pid \u001b[38;5;241m==\u001b[39m \u001b[38;5;28mself\u001b[39m\u001b[38;5;241m.\u001b[39mpid:\n",
      "File \u001b[0;32m~/miniconda3/envs/pypsa-eur-221227/lib/python3.10/subprocess.py:1896\u001b[0m, in \u001b[0;36mPopen._try_wait\u001b[0;34m(self, wait_flags)\u001b[0m\n\u001b[1;32m   1894\u001b[0m \u001b[38;5;124;03m\"\"\"All callers to this function MUST hold self._waitpid_lock.\"\"\"\u001b[39;00m\n\u001b[1;32m   1895\u001b[0m \u001b[38;5;28;01mtry\u001b[39;00m:\n\u001b[0;32m-> 1896\u001b[0m     (pid, sts) \u001b[38;5;241m=\u001b[39m \u001b[43mos\u001b[49m\u001b[38;5;241;43m.\u001b[39;49m\u001b[43mwaitpid\u001b[49m\u001b[43m(\u001b[49m\u001b[38;5;28;43mself\u001b[39;49m\u001b[38;5;241;43m.\u001b[39;49m\u001b[43mpid\u001b[49m\u001b[43m,\u001b[49m\u001b[43m \u001b[49m\u001b[43mwait_flags\u001b[49m\u001b[43m)\u001b[49m\n\u001b[1;32m   1897\u001b[0m \u001b[38;5;28;01mexcept\u001b[39;00m \u001b[38;5;167;01mChildProcessError\u001b[39;00m:\n\u001b[1;32m   1898\u001b[0m     \u001b[38;5;66;03m# This happens if SIGCLD is set to be ignored or waiting\u001b[39;00m\n\u001b[1;32m   1899\u001b[0m     \u001b[38;5;66;03m# for child processes has otherwise been disabled for our\u001b[39;00m\n\u001b[1;32m   1900\u001b[0m     \u001b[38;5;66;03m# process.  This child is dead, we can't get the status.\u001b[39;00m\n\u001b[1;32m   1901\u001b[0m     pid \u001b[38;5;241m=\u001b[39m \u001b[38;5;28mself\u001b[39m\u001b[38;5;241m.\u001b[39mpid\n",
      "\u001b[0;31mKeyboardInterrupt\u001b[0m: "
     ]
    }
   ],
   "source": [
    "sensitivity = {}\n",
    "for co2 in [150,100,50,25,0]:\n",
    "    n.global_constraints.loc[\"CO2Limit\", \"constant\"] = co2 * 1e6\n",
    "    n.lopf(solver_name='cbc')\n",
    "    sensitivity[co2] = system_cost(n)"
   ]
  },
  {
   "cell_type": "code",
   "execution_count": null,
   "metadata": {},
   "outputs": [],
   "source": [
    "df = pd.DataFrame(sensitivity).T.div(1e3) # billion Euro/a\n",
    "df.plot.area(\n",
    "    stacked=True,\n",
    "    linewidth=0,\n",
    "    color=df.columns.map(n.carriers.color),\n",
    "    figsize=(4,4),\n",
    "    xlim=(0,150),\n",
    "    xlabel=r\"CO$_2$ emissions [Mt/a]\",\n",
    "    ylabel=\"System cost [bn€/a]\",\n",
    "    ylim=(0,100),\n",
    ")\n",
    "plt.legend(frameon=False, loc=(1.05, 0))"
   ]
  },
  {
   "cell_type": "raw",
   "metadata": {},
   "source": [
    "sensitivity = {}\n",
    "for solar_cost in [0, 20, 40, 60, 80, 100, 150]:\n",
    "    n.generators.loc[\"solar\", \"capital_cost\"] = solar_cost * 1e3\n",
    "    n.lopf(solver_name='cbc')\n",
    "    sensitivity[solar_cost] = system_cost(n)\n",
    "n.generators.loc[\"solar\", \"capital_cost\"] = 40 * 1e3"
   ]
  },
  {
   "cell_type": "raw",
   "metadata": {},
   "source": [
    "df = pd.DataFrame(sensitivity).T.div(1e3) # billion Euro/a\n",
    "df.plot.area(\n",
    "    stacked=True,\n",
    "    linewidth=0,\n",
    "    color=df.columns.map(n.carriers.color),\n",
    "    figsize=(4,4),\n",
    "    xlim=(0,150),\n",
    "    xlabel=\"Solar Capital Cost [€/MW/a]\",\n",
    "    ylabel=\"System cost [bn€/a]\",\n",
    "    ylim=(0,100),\n",
    ")"
   ]
  },
  {
   "cell_type": "raw",
   "metadata": {},
   "source": [
    "sensitivity = {}\n",
    "for offwind_potential in [0, 50, 100, 150]:\n",
    "    n.generators.loc[\"offwind\", \"p_nom_max\"] = offwind_potential * 1e3\n",
    "    n.lopf(solver_name='cbc')\n",
    "    sensitivity[offwind_potential] = system_cost(n)"
   ]
  },
  {
   "cell_type": "raw",
   "metadata": {},
   "source": [
    "df = pd.DataFrame(sensitivity).T.div(1e3) # billion Euro/a\n",
    "df.plot.area(\n",
    "    stacked=True,\n",
    "    linewidth=0,\n",
    "    color=df.columns.map(n.carriers.color),\n",
    "    figsize=(4,4),\n",
    "    xlim=(0,150),\n",
    "    xlabel=\"Offshore Wind Potential [GW]\",\n",
    "    ylabel=\"System cost [bn€/a]\",\n",
    "    ylim=(0,100),\n",
    ")"
   ]
  },
  {
   "cell_type": "markdown",
   "metadata": {},
   "source": [
    "## Exercises"
   ]
  },
  {
   "cell_type": "markdown",
   "metadata": {},
   "source": [
    "Explore the model by changing the assumptions and available technologies. Here are a few inspirations:\n",
    "\n",
    "- Rerun the model with cost assumptions for 2050.\n",
    "- What if either hydrogen or battery storage cannot be expanded?\n",
    "- What if you can either only build solar or only build wind?\n",
    "- What if we had a flat electricity demand profile (like in [model.energy](https://model.energy), i.e. average the demand time series)?\n",
    "- Vary the energy-to-power ratio of the hydrogen storage. What ratio leads to lowest costs?\n",
    "- How bad is the 4-hourly resolution used for demonstration? How does it compare to hourly or 2-hourly resolution?\n",
    "- On [model.energy](https://model.energy), you can download capacity factors for onshore wind and solar for any region in the world. Drop offshore wind from the model and use the onshore wind and solar prices from another region of the world. Try a few. What changes?\n",
    "- Add nuclear as another dispatchable low-emission generation technology (similar to OCGT). Perform a sensitivity analysis trying to answer how low the capital cost of a nuclear plant would need to be to be chosen."
   ]
  },
  {
   "cell_type": "raw",
   "metadata": {},
   "source": [
    "n.export_to_netcdf(\"network-cem.nc\");"
   ]
  },
  {
   "cell_type": "raw",
   "metadata": {},
   "source": [
    "n.export_to_netcdf(\"network-assignment-5.nc\");"
   ]
  },
  {
   "cell_type": "code",
   "execution_count": null,
   "metadata": {},
   "outputs": [],
   "source": []
  }
 ],
 "metadata": {
  "kernelspec": {
   "display_name": "Python 3 (ipykernel)",
   "language": "python",
   "name": "python3"
  },
  "language_info": {
   "codemirror_mode": {
    "name": "ipython",
    "version": 3
   },
   "file_extension": ".py",
   "mimetype": "text/x-python",
   "name": "python",
   "nbconvert_exporter": "python",
   "pygments_lexer": "ipython3",
   "version": "3.10.0"
  },
  "vscode": {
   "interpreter": {
    "hash": "3dbeba6011cecc2c49b5c018fffe2544bd8d2e61881820091494f4a582a08f2d"
   }
  }
 },
 "nbformat": 4,
 "nbformat_minor": 4
}
