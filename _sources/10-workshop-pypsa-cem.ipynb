{
 "cells": [
  {
   "cell_type": "markdown",
   "metadata": {},
   "source": [
    "# Capacity Expansion Planning with `pypsa`"
   ]
  },
  {
   "cell_type": "markdown",
   "metadata": {},
   "source": [
    "<img src=\"https://github.com/fneum/data-science-for-esm/raw/main/data-science-for-esm/pypsa-logo.png\" width=\"300px\" />"
   ]
  },
  {
   "cell_type": "markdown",
   "metadata": {},
   "source": [
    ":::{note}\n",
    "Also in this tutorial, you might want to refer to the PyPSA documentation: https://pypsa.readthedocs.io.\n",
    ":::"
   ]
  },
  {
   "cell_type": "markdown",
   "metadata": {
    "tags": []
   },
   "source": [
    "## From electricity market modelling to capacity expansion planning\n",
    "\n",
    "Review the problem formulation of the electricity market model. Below you can find an adapted version\n",
    "where the capacity limits have been promoted to **decision variables** with corresponding terms\n",
    "in the *objective function* and *new constraints for their expansion limits* (e.g. wind and solar potentials). This is known as **capacity expansion problem**.\n",
    "\n",
    "\\begin{equation*}\n",
    "    \\min_{g,e,f,G,E,F} \\quad \\sum_{i,s,t} w_t o_{s} g_{i,s,t} + \\sum_{i,s} c_sG_{i,s}  + c_{r,\\text{dis/charge}}G_{i,r, \\text{dis/charge}} +   c_{r}E_{i,r}  + c_\\ell F_{\\ell}\n",
    "  \\end{equation*}\n",
    "such that\n",
    "  \\begin{align*}\n",
    "    d_{i,t} &= \\sum_s g_{i,s,t}  - \\sum_\\ell K_{i\\ell} f_{\\ell,t}   & \\text{energy balance} \\\\\n",
    "    0 &\\leq g_{i,s,t} \\leq \\hat{g}_{i,s,t} G_{i,s} & \\text{generator limits}\\\\\n",
    "    0 & \\leq g_{i,r,t,\\text{dis/charge}} \\leq G_{i,r,\\text{dis/charge}}& \\text{storage dis/charge limits} \\\\\n",
    "    0 & \\leq e_{i,r,t} \\leq E_{r} & \\text{storage energy limits} \\\\ \n",
    "    e_{i,r,t} &= \\eta^0_{i,r,t} e_{i,r,t-1} + \\eta^1_{r}g_{i,r,t,\\text{charge}} -  \\frac{1}{\\eta^2_{r}} g_{i,r,t,\\text{discharge}} & \\text{storage consistency} \\\\\n",
    "    -F_\\ell &\\leq f_{\\ell,t} \\leq F_\\ell  & \\text{line limits} \\\\\n",
    "    0 &= \\sum_\\ell C_{\\ell c} x_\\ell f_{\\ell,t} & \\text{KVL} \\\\\n",
    "        \\underline{G}_{i,s} & \\leq G_{i,s} \\leq \\overline{G}_{i,s} & \\text{generator capacity expansion limits} \\\\\n",
    "    \\underline{G}_{i,r, \\text{dis/charge}} & \\leq G_{i,r, \\text{dis/charge}} \\leq \\overline{G}_{i,r, \\text{dis/charge}} & \\text{storage power capacity expansion limits} \\\\\n",
    "    \\underline{E}_{i,r} & \\leq E_{i,r} \\leq \\overline{E}_{i,r} & \\text{storage energy expansion limits} \\\\\n",
    "    \\underline{F}_{\\ell} & \\leq F_{\\ell} \\leq \\overline{F}_{\\ell} & \\text{line capacity expansion limits}\n",
    "  \\end{align*}\n",
    "\n",
    "**New decision variables for capacity expansion planning:**\n",
    "\n",
    "- $G_{i,s}$ is the generator capacity at bus $i$, technology $s$,\n",
    "- $F_{\\ell}$ is the transmission capacity of line $\\ell$,\n",
    "- $G_{i,r,\\text{dis-/charge}}$ denotes the charge and discharge capacities of storage unit $r$ at bus $i$,\n",
    "- $E_{i,r}$ is the energy capacity of storage $r$ at bus $i$ and time step $t$.\n",
    "\n",
    "**New parameters for capacity expansion planning:**\n",
    "\n",
    "- $c_{\\star}$ is the capital cost of technology $\\star$ at bus $i$\n",
    "- $w_t$ is the weighting of time step $t$ (e.g. number of hours it represents)\n",
    "- $\\underline{G}_\\star, \\underline{F}_\\star, \\underline{E}_\\star$ are the minimum capacities per technology and location/connection.\n",
    "- $\\underline{G}_\\star, \\underline{F}_\\star, \\underline{E}_\\star$ are the maximum capacities per technology and location.\n",
    "\n",
    ":::{note}\n",
    "For a full reference to the optimisation problem description, see https://pypsa.readthedocs.io/en/latest/optimal_power_flow.html\n",
    ":::\n"
   ]
  },
  {
   "cell_type": "markdown",
   "metadata": {},
   "source": [
    "\n",
    ":::{note}\n",
    "If you have not yet set up Python on your computer, you can execute this tutorial in your browser via Google Colab. Click on the rocket in the top right corner and launch \"Colab\". If you have not yet set up Python on your computer, you can execute this tutorial in your browser via [Google Colab](https://colab.research.google.com/). Click on the rocket in the top right corner and launch \"Colab\". If that doesn't work download the `.ipynb` file and import it in [Google Colab](https://colab.research.google.com/).\n",
    "\n",
    "Then install the following packages by executing the following command in a Jupyter cell at the top of the notebook.\n",
    "\n",
    "```sh\n",
    "!pip install pypsa pandas matplotlib\n",
    "```\n",
    ":::"
   ]
  },
  {
   "cell_type": "markdown",
   "metadata": {
    "tags": []
   },
   "source": [
    "First things first! We need a few packages for this tutorial:"
   ]
  },
  {
   "cell_type": "code",
   "execution_count": 55,
   "metadata": {
    "jp-MarkdownHeadingCollapsed": true,
    "tags": []
   },
   "outputs": [],
   "source": [
    "import pypsa\n",
    "import pandas as pd\n",
    "import matplotlib.pyplot as plt\n",
    "plt.style.use('bmh')"
   ]
  },
  {
   "cell_type": "markdown",
   "metadata": {
    "tags": []
   },
   "source": [
    "## Prerequisites: handling technology data and costs"
   ]
  },
  {
   "cell_type": "markdown",
   "metadata": {},
   "source": [
    "We maintain a database (https://github.com/PyPSA/technology-data) which collects assumptions and projections for energy system technologies (such as costs, efficiencies, lifetimes, etc.) for given years, which we can load into a `pandas.DataFrame`. This requires some pre-processing to load (e.g. converting units, setting defaults, re-arranging dimensions):"
   ]
  },
  {
   "cell_type": "code",
   "execution_count": 56,
   "metadata": {},
   "outputs": [],
   "source": [
    "year = 2030\n",
    "url = f\"https://raw.githubusercontent.com/PyPSA/technology-data/master/outputs/costs_{year}.csv\"\n",
    "costs = pd.read_csv(url, index_col=[0,1])"
   ]
  },
  {
   "cell_type": "code",
   "execution_count": 57,
   "metadata": {},
   "outputs": [],
   "source": [
    "costs.loc[costs.unit.str.contains(\"/kW\"), \"value\"] *= 1e3\n",
    "costs.unit = costs.unit.str.replace(\"/kW\", \"/MW\")\n",
    "\n",
    "defaults = {\n",
    "    \"FOM\": 0,\n",
    "    \"VOM\": 0,\n",
    "    \"efficiency\": 1,\n",
    "    \"fuel\": 0,\n",
    "    \"investment\": 0,\n",
    "    \"lifetime\": 25,\n",
    "    \"CO2 intensity\": 0,\n",
    "    \"discount rate\": 0.07,\n",
    "}\n",
    "costs = costs.value.unstack().fillna(defaults)\n",
    "\n",
    "costs.at[\"OCGT\", \"fuel\"] = costs.at[\"gas\", \"fuel\"]\n",
    "costs.at[\"CCGT\", \"fuel\"] = costs.at[\"gas\", \"fuel\"]\n",
    "costs.at[\"OCGT\", \"CO2 intensity\"] = costs.at[\"gas\", \"CO2 intensity\"]\n",
    "costs.at[\"CCGT\", \"CO2 intensity\"] = costs.at[\"gas\", \"CO2 intensity\"]"
   ]
  },
  {
   "cell_type": "markdown",
   "metadata": {},
   "source": [
    "Let's also write a small utility function that calculates the **annuity** to annualise investment costs. The formula is\n",
    "\n",
    "$$\n",
    "a(r, n) = \\frac{r}{1-(1+r)^{-n}}\n",
    "$$\n",
    "where $r$ is the discount rate and $n$ is the lifetime."
   ]
  },
  {
   "cell_type": "code",
   "execution_count": 58,
   "metadata": {},
   "outputs": [],
   "source": [
    "def annuity(r, n):\n",
    "    return r / (1.0 - 1.0 / (1.0 + r) ** n)"
   ]
  },
  {
   "cell_type": "code",
   "execution_count": 59,
   "metadata": {},
   "outputs": [
    {
     "data": {
      "text/plain": [
       "0.09439292574325567"
      ]
     },
     "execution_count": 59,
     "metadata": {},
     "output_type": "execute_result"
    }
   ],
   "source": [
    "annuity(0.07, 20)"
   ]
  },
  {
   "cell_type": "markdown",
   "metadata": {},
   "source": [
    "Based on this, we can calculate the short-term marginal generation costs (STMGC, €/MWh):"
   ]
  },
  {
   "cell_type": "code",
   "execution_count": 60,
   "metadata": {},
   "outputs": [],
   "source": [
    "costs[\"marginal_cost\"] = costs[\"VOM\"] + costs[\"fuel\"] / costs[\"efficiency\"]"
   ]
  },
  {
   "cell_type": "markdown",
   "metadata": {},
   "source": [
    "and the annualised investment costs (`capital_cost` in PyPSA terms, €/MW/a):"
   ]
  },
  {
   "cell_type": "code",
   "execution_count": 61,
   "metadata": {},
   "outputs": [],
   "source": [
    "annuity = costs.apply(lambda x: annuity(x[\"discount rate\"], x[\"lifetime\"]), axis=1)"
   ]
  },
  {
   "cell_type": "code",
   "execution_count": 62,
   "metadata": {},
   "outputs": [],
   "source": [
    "costs[\"capital_cost\"] = (annuity + costs[\"FOM\"] / 100) * costs[\"investment\"]"
   ]
  },
  {
   "cell_type": "markdown",
   "metadata": {},
   "source": [
    "## Loading time series data"
   ]
  },
  {
   "cell_type": "markdown",
   "metadata": {},
   "source": [
    "We are also going to need some time series for wind, solar and load. For now, we are going to recycle the time series we used at the beginning of the course. They are given for Germany in the year 2015."
   ]
  },
  {
   "cell_type": "code",
   "execution_count": 63,
   "metadata": {},
   "outputs": [],
   "source": [
    "url = \"https://tubcloud.tu-berlin.de/s/pKttFadrbTKSJKF/download/time-series-lecture-2.csv\"\n",
    "ts = pd.read_csv(url, index_col=0, parse_dates=True)"
   ]
  },
  {
   "cell_type": "code",
   "execution_count": 64,
   "metadata": {},
   "outputs": [
    {
     "data": {
      "text/html": [
       "<div>\n",
       "<style scoped>\n",
       "    .dataframe tbody tr th:only-of-type {\n",
       "        vertical-align: middle;\n",
       "    }\n",
       "\n",
       "    .dataframe tbody tr th {\n",
       "        vertical-align: top;\n",
       "    }\n",
       "\n",
       "    .dataframe thead th {\n",
       "        text-align: right;\n",
       "    }\n",
       "</style>\n",
       "<table border=\"1\" class=\"dataframe\">\n",
       "  <thead>\n",
       "    <tr style=\"text-align: right;\">\n",
       "      <th></th>\n",
       "      <th>load</th>\n",
       "      <th>onwind</th>\n",
       "      <th>offwind</th>\n",
       "      <th>solar</th>\n",
       "      <th>prices</th>\n",
       "    </tr>\n",
       "  </thead>\n",
       "  <tbody>\n",
       "    <tr>\n",
       "      <th>2015-01-01 00:00:00</th>\n",
       "      <td>41.151</td>\n",
       "      <td>0.1566</td>\n",
       "      <td>0.7030</td>\n",
       "      <td>0.0</td>\n",
       "      <td>NaN</td>\n",
       "    </tr>\n",
       "    <tr>\n",
       "      <th>2015-01-01 01:00:00</th>\n",
       "      <td>40.135</td>\n",
       "      <td>0.1659</td>\n",
       "      <td>0.6875</td>\n",
       "      <td>0.0</td>\n",
       "      <td>NaN</td>\n",
       "    </tr>\n",
       "    <tr>\n",
       "      <th>2015-01-01 02:00:00</th>\n",
       "      <td>39.106</td>\n",
       "      <td>0.1746</td>\n",
       "      <td>0.6535</td>\n",
       "      <td>0.0</td>\n",
       "      <td>NaN</td>\n",
       "    </tr>\n",
       "  </tbody>\n",
       "</table>\n",
       "</div>"
      ],
      "text/plain": [
       "                       load  onwind  offwind  solar  prices\n",
       "2015-01-01 00:00:00  41.151  0.1566   0.7030    0.0     NaN\n",
       "2015-01-01 01:00:00  40.135  0.1659   0.6875    0.0     NaN\n",
       "2015-01-01 02:00:00  39.106  0.1746   0.6535    0.0     NaN"
      ]
     },
     "execution_count": 64,
     "metadata": {},
     "output_type": "execute_result"
    }
   ],
   "source": [
    "ts.head(3)"
   ]
  },
  {
   "cell_type": "markdown",
   "metadata": {},
   "source": [
    "Let's convert the load time series from GW to MW, the base unit of PyPSA:"
   ]
  },
  {
   "cell_type": "code",
   "execution_count": 65,
   "metadata": {},
   "outputs": [],
   "source": [
    "ts.load *= 1e3"
   ]
  },
  {
   "cell_type": "markdown",
   "metadata": {},
   "source": [
    "We are also going to adapt the temporal resolution of the time series, e.g. sample only every other hour, to save some time:"
   ]
  },
  {
   "cell_type": "code",
   "execution_count": 66,
   "metadata": {},
   "outputs": [],
   "source": [
    "resolution = 4\n",
    "ts = ts.resample(f\"{resolution}H\").first()"
   ]
  },
  {
   "cell_type": "markdown",
   "metadata": {},
   "source": [
    "## Simple capacity expansion planning example"
   ]
  },
  {
   "cell_type": "markdown",
   "metadata": {},
   "source": [
    ":::{note}\n",
    "See also https://model.energy.\n",
    ":::"
   ]
  },
  {
   "cell_type": "markdown",
   "metadata": {},
   "source": [
    "**In this tutorial, we want to build a replica of [model.energy](https://model.energy).** This tool calculates the cost of meeting a constant electricity demand from a combination of wind power, solar power and storage for different regions of the world.\n",
    "\n",
    "We deviate from [model.energy](https://model.energy) by including offshore wind generation and electricity demand profiles rather than a constant electricity demand. Also, we are going to start with Germany only. You can adapt the code to other countries as an exercise."
   ]
  },
  {
   "cell_type": "markdown",
   "metadata": {},
   "source": [
    "### Model Initialisation"
   ]
  },
  {
   "cell_type": "markdown",
   "metadata": {},
   "source": [
    "For building the model, we start again by initialising an empty network."
   ]
  },
  {
   "cell_type": "code",
   "execution_count": 67,
   "metadata": {},
   "outputs": [],
   "source": [
    "n = pypsa.Network()"
   ]
  },
  {
   "cell_type": "markdown",
   "metadata": {},
   "source": [
    "Then, we add a single bus..."
   ]
  },
  {
   "cell_type": "code",
   "execution_count": 68,
   "metadata": {},
   "outputs": [],
   "source": [
    "n.add(\"Bus\", \"electricity\")"
   ]
  },
  {
   "cell_type": "markdown",
   "metadata": {},
   "source": [
    "...and tell the `pypsa.Network` object `n` what the snapshots of the model will be using the utility function `n.set_snapshots()`."
   ]
  },
  {
   "cell_type": "code",
   "execution_count": 69,
   "metadata": {},
   "outputs": [],
   "source": [
    "n.set_snapshots(ts.index)"
   ]
  },
  {
   "cell_type": "code",
   "execution_count": 70,
   "metadata": {},
   "outputs": [
    {
     "data": {
      "text/plain": [
       "DatetimeIndex(['2015-01-01 00:00:00', '2015-01-01 04:00:00',\n",
       "               '2015-01-01 08:00:00', '2015-01-01 12:00:00',\n",
       "               '2015-01-01 16:00:00', '2015-01-01 20:00:00',\n",
       "               '2015-01-02 00:00:00', '2015-01-02 04:00:00',\n",
       "               '2015-01-02 08:00:00', '2015-01-02 12:00:00',\n",
       "               ...\n",
       "               '2015-12-30 08:00:00', '2015-12-30 12:00:00',\n",
       "               '2015-12-30 16:00:00', '2015-12-30 20:00:00',\n",
       "               '2015-12-31 00:00:00', '2015-12-31 04:00:00',\n",
       "               '2015-12-31 08:00:00', '2015-12-31 12:00:00',\n",
       "               '2015-12-31 16:00:00', '2015-12-31 20:00:00'],\n",
       "              dtype='datetime64[ns]', name='snapshot', length=2190, freq='4H')"
      ]
     },
     "execution_count": 70,
     "metadata": {},
     "output_type": "execute_result"
    }
   ],
   "source": [
    "n.snapshots"
   ]
  },
  {
   "cell_type": "markdown",
   "metadata": {},
   "source": [
    "The weighting of the snapshots (e.g. how many hours they represent, see $w_t$ in problem formulation above) can be set in `n.snapshot_weightings`."
   ]
  },
  {
   "cell_type": "code",
   "execution_count": 71,
   "metadata": {},
   "outputs": [
    {
     "data": {
      "text/html": [
       "<div>\n",
       "<style scoped>\n",
       "    .dataframe tbody tr th:only-of-type {\n",
       "        vertical-align: middle;\n",
       "    }\n",
       "\n",
       "    .dataframe tbody tr th {\n",
       "        vertical-align: top;\n",
       "    }\n",
       "\n",
       "    .dataframe thead th {\n",
       "        text-align: right;\n",
       "    }\n",
       "</style>\n",
       "<table border=\"1\" class=\"dataframe\">\n",
       "  <thead>\n",
       "    <tr style=\"text-align: right;\">\n",
       "      <th></th>\n",
       "      <th>objective</th>\n",
       "      <th>stores</th>\n",
       "      <th>generators</th>\n",
       "    </tr>\n",
       "    <tr>\n",
       "      <th>snapshot</th>\n",
       "      <th></th>\n",
       "      <th></th>\n",
       "      <th></th>\n",
       "    </tr>\n",
       "  </thead>\n",
       "  <tbody>\n",
       "    <tr>\n",
       "      <th>2015-01-01 00:00:00</th>\n",
       "      <td>1.0</td>\n",
       "      <td>1.0</td>\n",
       "      <td>1.0</td>\n",
       "    </tr>\n",
       "    <tr>\n",
       "      <th>2015-01-01 04:00:00</th>\n",
       "      <td>1.0</td>\n",
       "      <td>1.0</td>\n",
       "      <td>1.0</td>\n",
       "    </tr>\n",
       "    <tr>\n",
       "      <th>2015-01-01 08:00:00</th>\n",
       "      <td>1.0</td>\n",
       "      <td>1.0</td>\n",
       "      <td>1.0</td>\n",
       "    </tr>\n",
       "  </tbody>\n",
       "</table>\n",
       "</div>"
      ],
      "text/plain": [
       "                     objective  stores  generators\n",
       "snapshot                                          \n",
       "2015-01-01 00:00:00        1.0     1.0         1.0\n",
       "2015-01-01 04:00:00        1.0     1.0         1.0\n",
       "2015-01-01 08:00:00        1.0     1.0         1.0"
      ]
     },
     "execution_count": 71,
     "metadata": {},
     "output_type": "execute_result"
    }
   ],
   "source": [
    "n.snapshot_weightings.head(3)"
   ]
  },
  {
   "cell_type": "code",
   "execution_count": 72,
   "metadata": {},
   "outputs": [],
   "source": [
    "n.snapshot_weightings.loc[:,:] = resolution"
   ]
  },
  {
   "cell_type": "code",
   "execution_count": 73,
   "metadata": {},
   "outputs": [
    {
     "data": {
      "text/html": [
       "<div>\n",
       "<style scoped>\n",
       "    .dataframe tbody tr th:only-of-type {\n",
       "        vertical-align: middle;\n",
       "    }\n",
       "\n",
       "    .dataframe tbody tr th {\n",
       "        vertical-align: top;\n",
       "    }\n",
       "\n",
       "    .dataframe thead th {\n",
       "        text-align: right;\n",
       "    }\n",
       "</style>\n",
       "<table border=\"1\" class=\"dataframe\">\n",
       "  <thead>\n",
       "    <tr style=\"text-align: right;\">\n",
       "      <th></th>\n",
       "      <th>objective</th>\n",
       "      <th>stores</th>\n",
       "      <th>generators</th>\n",
       "    </tr>\n",
       "    <tr>\n",
       "      <th>snapshot</th>\n",
       "      <th></th>\n",
       "      <th></th>\n",
       "      <th></th>\n",
       "    </tr>\n",
       "  </thead>\n",
       "  <tbody>\n",
       "    <tr>\n",
       "      <th>2015-01-01 00:00:00</th>\n",
       "      <td>4.0</td>\n",
       "      <td>4.0</td>\n",
       "      <td>4.0</td>\n",
       "    </tr>\n",
       "    <tr>\n",
       "      <th>2015-01-01 04:00:00</th>\n",
       "      <td>4.0</td>\n",
       "      <td>4.0</td>\n",
       "      <td>4.0</td>\n",
       "    </tr>\n",
       "    <tr>\n",
       "      <th>2015-01-01 08:00:00</th>\n",
       "      <td>4.0</td>\n",
       "      <td>4.0</td>\n",
       "      <td>4.0</td>\n",
       "    </tr>\n",
       "  </tbody>\n",
       "</table>\n",
       "</div>"
      ],
      "text/plain": [
       "                     objective  stores  generators\n",
       "snapshot                                          \n",
       "2015-01-01 00:00:00        4.0     4.0         4.0\n",
       "2015-01-01 04:00:00        4.0     4.0         4.0\n",
       "2015-01-01 08:00:00        4.0     4.0         4.0"
      ]
     },
     "execution_count": 73,
     "metadata": {},
     "output_type": "execute_result"
    }
   ],
   "source": [
    "n.snapshot_weightings.head(3)"
   ]
  },
  {
   "cell_type": "markdown",
   "metadata": {},
   "source": [
    "### Adding Components"
   ]
  },
  {
   "cell_type": "markdown",
   "metadata": {},
   "source": [
    "Then, we add all the technologies we are going to include as carriers."
   ]
  },
  {
   "cell_type": "code",
   "execution_count": 74,
   "metadata": {},
   "outputs": [
    {
     "data": {
      "text/plain": [
       "Index(['onwind', 'offwind', 'solar', 'OCGT', 'hydrogen storage underground',\n",
       "       'battery storage'],\n",
       "      dtype='object')"
      ]
     },
     "execution_count": 74,
     "metadata": {},
     "output_type": "execute_result"
    }
   ],
   "source": [
    "carriers = [\"onwind\", \"offwind\", \"solar\", \"OCGT\", \"hydrogen storage underground\", \"battery storage\"]\n",
    "\n",
    "n.madd(\n",
    "    \"Carrier\",\n",
    "    carriers, \n",
    "    color=[\"dodgerblue\", \"aquamarine\", \"gold\", \"indianred\", \"magenta\", \"yellowgreen\"],\n",
    "    co2_emissions=[costs.at[c, \"CO2 intensity\"] for c in carriers]\n",
    ")"
   ]
  },
  {
   "cell_type": "markdown",
   "metadata": {},
   "source": [
    "Next, we add the demand time series to the model."
   ]
  },
  {
   "cell_type": "code",
   "execution_count": 75,
   "metadata": {},
   "outputs": [],
   "source": [
    "n.add(\n",
    "    \"Load\",\n",
    "    \"demand\",\n",
    "    bus=\"electricity\",\n",
    "    p_set=ts.load,\n",
    ")"
   ]
  },
  {
   "cell_type": "markdown",
   "metadata": {},
   "source": [
    "Let's have a check whether the data was read-in correctly."
   ]
  },
  {
   "cell_type": "code",
   "execution_count": 76,
   "metadata": {},
   "outputs": [
    {
     "data": {
      "text/plain": [
       "<Axes: xlabel='snapshot', ylabel='MW'>"
      ]
     },
     "execution_count": 76,
     "metadata": {},
     "output_type": "execute_result"
    },
    {
     "data": {
      "image/png": "[encoded data removed]",
      "text/plain": [
       "<Figure size 600x200 with 1 Axes>"
      ]
     },
     "metadata": {},
     "output_type": "display_data"
    }
   ],
   "source": [
    "n.loads_t.p_set.plot(figsize=(6,2), ylabel=\"MW\")"
   ]
  },
  {
   "cell_type": "markdown",
   "metadata": {},
   "source": [
    "We are going to add one dispatchable generation technology to the model. This is an open-cycle gas turbine (OCGT) with CO$_2$ emissions of 0.2 t/MWh$_{th}$."
   ]
  },
  {
   "cell_type": "code",
   "execution_count": 77,
   "metadata": {},
   "outputs": [],
   "source": [
    "n.add(\n",
    "    \"Generator\",\n",
    "    \"OCGT\",\n",
    "    bus='electricity',\n",
    "    carrier=\"OCGT\",\n",
    "    capital_cost=costs.at[\"OCGT\", \"capital_cost\"],\n",
    "    marginal_cost=costs.at[\"OCGT\", \"marginal_cost\"],\n",
    "    efficiency=costs.at[\"OCGT\", \"efficiency\"],\n",
    "    p_nom_extendable=True,\n",
    ")"
   ]
  },
  {
   "cell_type": "markdown",
   "metadata": {},
   "source": [
    "Adding the variable renewable generators works almost identically, but we also need to supply the capacity factors to the model via the attribute `p_max_pu`."
   ]
  },
  {
   "cell_type": "code",
   "execution_count": 78,
   "metadata": {},
   "outputs": [],
   "source": [
    "for tech in [\"onwind\", \"offwind\", \"solar\"]:\n",
    "    n.add(\n",
    "        \"Generator\",\n",
    "        tech,\n",
    "        bus='electricity',\n",
    "        carrier=tech,\n",
    "        p_max_pu=ts[tech],\n",
    "        capital_cost=costs.at[tech, \"capital_cost\"],\n",
    "        marginal_cost=costs.at[tech, \"marginal_cost\"],\n",
    "        efficiency=costs.at[tech, \"efficiency\"],\n",
    "        p_nom_extendable=True,\n",
    "    )"
   ]
  },
  {
   "cell_type": "markdown",
   "metadata": {},
   "source": [
    "So let's make sure the capacity factors are read-in correctly."
   ]
  },
  {
   "cell_type": "code",
   "execution_count": 79,
   "metadata": {},
   "outputs": [
    {
     "data": {
      "text/plain": [
       "<Axes: xlabel='snapshot', ylabel='CF'>"
      ]
     },
     "execution_count": 79,
     "metadata": {},
     "output_type": "execute_result"
    },
    {
     "data": {
      "image/png": "[encoded data removed]",
      "text/plain": [
       "<Figure size 600x200 with 1 Axes>"
      ]
     },
     "metadata": {},
     "output_type": "display_data"
    }
   ],
   "source": [
    "n.generators_t.p_max_pu.loc[\"2015-03\"].plot(figsize=(6,2), ylabel=\"CF\")"
   ]
  },
  {
   "cell_type": "markdown",
   "metadata": {},
   "source": [
    "### Model Run"
   ]
  },
  {
   "cell_type": "markdown",
   "metadata": {},
   "source": [
    "Then, we can already solve the model for the first time. At this stage, the model does not have any storage or emission limits implemented. It's going to look for the least-cost combination of variable renewables and the gas turbine to supply demand."
   ]
  },
  {
   "cell_type": "code",
   "execution_count": 80,
   "metadata": {},
   "outputs": [
    {
     "name": "stderr",
     "output_type": "stream",
     "text": [
      "<__array_function__ internals>:200: RuntimeWarning:\n",
      "\n",
      "invalid value encountered in cast\n",
      "\n",
      "INFO:linopy.model: Solve linear problem using Cbc solver\n",
      "INFO:linopy.io: Writing time: 0.11s\n",
      "INFO:linopy.constants: Optimization successful: \n",
      "Status: ok\n",
      "Termination condition: optimal\n",
      "Solution: 8764 primals, 19714 duals\n",
      "Objective: 2.75e+10\n",
      "Solver model: not available\n",
      "Solver message: Optimal - objective value 27532289225.22750092\n",
      "\n",
      "\n"
     ]
    },
    {
     "name": "stdout",
     "output_type": "stream",
     "text": [
      "Welcome to the CBC MILP Solver \n",
      "Version: 2.10.9 \n",
      "Build Date: Apr 14 2023 \n",
      "\n",
      "command line - cbc -printingOptions all -import /tmp/linopy-problem-2eiuvfn_.lp -solve -solu /tmp/linopy-solve-h4mbmc4n.sol (default strategy 1)\n",
      "Option for printingOptions changed from normal to all\n",
      "Presolve 9900 (-9814) rows, 7714 (-1050) columns and 23130 (-10864) elements\n",
      "Perturbing problem by 0.001% of 231.67376 - largest nonzero change 0.00033155867 ( 6.8960834%) - largest zero change 0\n",
      "0  Obj 0 Primal inf 1.6937954e+08 (2190)\n",
      "273  Obj 99289248 Primal inf 1.6143953e+08 (2190)\n",
      "546  Obj 1.8929297e+08 Primal inf 1.5545163e+08 (2190)\n",
      "819  Obj 3.053471e+08 Primal inf 1.4853111e+08 (2190)\n",
      "1092  Obj 4.3229077e+08 Primal inf 1.4050834e+08 (2190)\n",
      "1365  Obj 5.7839109e+08 Primal inf 1.3256861e+08 (2190)\n",
      "1638  Obj 7.44638e+08 Primal inf 1.2422418e+08 (2190)\n",
      "1911  Obj 9.9448681e+08 Primal inf 1.1699429e+08 (2190)\n",
      "2184  Obj 4.349048e+09 Primal inf 1.0442117e+08 (2109)\n",
      "2457  Obj 4.7128424e+09 Primal inf 95575591 (2085)\n",
      "2730  Obj 5.1032609e+09 Primal inf 88029222 (2054)\n",
      "3003  Obj 5.7075703e+09 Primal inf 79560489 (2008)\n",
      "3276  Obj 6.5109548e+09 Primal inf 69850183 (1942)\n",
      "3549  Obj 7.2877291e+09 Primal inf 63779648 (1875)\n",
      "3822  Obj 8.36732e+09 Primal inf 57114484 (1788)\n",
      "4095  Obj 9.4206961e+09 Primal inf 53055330 (1706)\n",
      "4368  Obj 1.0666399e+10 Primal inf 47537061 (1605)\n",
      "4641  Obj 1.1806111e+10 Primal inf 44671707 (1518)\n",
      "4914  Obj 1.3092257e+10 Primal inf 40713437 (1421)\n",
      "5187  Obj 1.441374e+10 Primal inf 37766533 (1323)\n",
      "5460  Obj 1.5887738e+10 Primal inf 32325713 (1211)\n",
      "5733  Obj 1.7303577e+10 Primal inf 28297766 (1111)\n",
      "6006  Obj 1.8682133e+10 Primal inf 25535904 (1006)\n",
      "6279  Obj 2.0051625e+10 Primal inf 21659695 (899)\n",
      "6552  Obj 2.1669797e+10 Primal inf 17322881 (786)\n",
      "6825  Obj 2.3269216e+10 Primal inf 14052672 (670)\n",
      "7098  Obj 2.4817852e+10 Primal inf 7484725 (415)\n",
      "7371  Obj 2.6399462e+10 Primal inf 3546329.1 (263)\n",
      "7644  Obj 2.7530103e+10 Primal inf 43091.304 (79)\n",
      "7708  Obj 2.7532295e+10\n",
      "Optimal - objective value 2.7532289e+10\n",
      "After Postsolve, objective 2.7532289e+10, infeasibilities - dual 0 (0), primal 0 (0)\n",
      "Optimal objective 2.753228923e+10 - 7708 iterations time 0.282, Presolve 0.08\n",
      "Total time (CPU seconds):       0.60   (Wallclock seconds):       0.26\n",
      "\n"
     ]
    },
    {
     "data": {
      "text/plain": [
       "('ok', 'optimal')"
      ]
     },
     "execution_count": 80,
     "metadata": {},
     "output_type": "execute_result"
    }
   ],
   "source": [
    "n.optimize(solver_name='cbc')"
   ]
  },
  {
   "cell_type": "markdown",
   "metadata": {},
   "source": [
    "### Model Evaluation"
   ]
  },
  {
   "cell_type": "markdown",
   "metadata": {},
   "source": [
    "The total system cost in billion Euros per year:"
   ]
  },
  {
   "cell_type": "code",
   "execution_count": 81,
   "metadata": {},
   "outputs": [
    {
     "data": {
      "text/plain": [
       "27.5322892252275"
      ]
     },
     "execution_count": 81,
     "metadata": {},
     "output_type": "execute_result"
    }
   ],
   "source": [
    "n.objective / 1e9"
   ]
  },
  {
   "cell_type": "markdown",
   "metadata": {},
   "source": [
    "The optimised capacities in GW:"
   ]
  },
  {
   "cell_type": "code",
   "execution_count": 82,
   "metadata": {},
   "outputs": [
    {
     "data": {
      "text/plain": [
       "Generator\n",
       "OCGT       70.182246\n",
       "onwind      0.000000\n",
       "offwind    42.399533\n",
       "solar      82.323420\n",
       "Name: p_nom_opt, dtype: float64"
      ]
     },
     "execution_count": 82,
     "metadata": {},
     "output_type": "execute_result"
    }
   ],
   "source": [
    "n.generators.p_nom_opt.div(1e3) # GW"
   ]
  },
  {
   "cell_type": "markdown",
   "metadata": {},
   "source": [
    "The total energy generation by technology in GW:"
   ]
  },
  {
   "cell_type": "code",
   "execution_count": 83,
   "metadata": {},
   "outputs": [
    {
     "data": {
      "text/plain": [
       "Generator\n",
       "OCGT       258.400419\n",
       "onwind       0.000000\n",
       "offwind    131.445301\n",
       "solar       89.080020\n",
       "Name: generators, dtype: float64"
      ]
     },
     "execution_count": 83,
     "metadata": {},
     "output_type": "execute_result"
    }
   ],
   "source": [
    "n.snapshot_weightings.generators @ n.generators_t.p.div(1e6) # TWh"
   ]
  },
  {
   "cell_type": "markdown",
   "metadata": {},
   "source": [
    "While we get the objective value through `n.objective`, in many cases we want to know how the costs are distributed across the technologies"
   ]
  },
  {
   "cell_type": "code",
   "execution_count": 84,
   "metadata": {},
   "outputs": [],
   "source": [
    "opex = n.snapshot_weightings.generators @ (n.generators_t.p * n.generators.marginal_cost).div(1e6) # M€/a"
   ]
  },
  {
   "cell_type": "code",
   "execution_count": 85,
   "metadata": {},
   "outputs": [],
   "source": [
    "capex = (n.generators.p_nom_opt * n.generators.capital_cost).div(1e6) # M€/a"
   ]
  },
  {
   "cell_type": "code",
   "execution_count": 86,
   "metadata": {},
   "outputs": [
    {
     "data": {
      "text/plain": [
       "Generator\n",
       "OCGT       16995.624257\n",
       "onwind         0.000000\n",
       "offwind     6707.003125\n",
       "solar       3829.661877\n",
       "dtype: float64"
      ]
     },
     "execution_count": 86,
     "metadata": {},
     "output_type": "execute_result"
    }
   ],
   "source": [
    "capex + opex"
   ]
  },
  {
   "cell_type": "markdown",
   "metadata": {},
   "source": [
    "If you have the newest version of PyPSA installed, you can also run the following to determine the total system cost by technology:"
   ]
  },
  {
   "cell_type": "code",
   "execution_count": 87,
   "metadata": {},
   "outputs": [
    {
     "data": {
      "text/plain": [
       "           carrier\n",
       "Generator  OCGT       16995.624257\n",
       "           offwind     6707.003125\n",
       "           onwind         0.000000\n",
       "           solar       3829.661877\n",
       "dtype: float64"
      ]
     },
     "execution_count": 87,
     "metadata": {},
     "output_type": "execute_result"
    }
   ],
   "source": [
    "(n.statistics.capex() + n.statistics.opex(aggregate_time='sum')).div(1e6)"
   ]
  },
  {
   "cell_type": "markdown",
   "metadata": {},
   "source": [
    "Possibly, we are also interested in the total emissions:"
   ]
  },
  {
   "cell_type": "code",
   "execution_count": 88,
   "metadata": {},
   "outputs": [],
   "source": [
    "emissions = n.generators_t.p / n.generators.efficiency * n.generators.carrier.map(n.carriers.co2_emissions) # t/h"
   ]
  },
  {
   "cell_type": "code",
   "execution_count": 89,
   "metadata": {},
   "outputs": [
    {
     "data": {
      "text/plain": [
       "126.04898507491518"
      ]
     },
     "execution_count": 89,
     "metadata": {},
     "output_type": "execute_result"
    }
   ],
   "source": [
    "n.snapshot_weightings.generators @ emissions.sum(axis=1).div(1e6) # Mt"
   ]
  },
  {
   "cell_type": "markdown",
   "metadata": {},
   "source": [
    "### Plotting Optimal Dispatch"
   ]
  },
  {
   "cell_type": "markdown",
   "metadata": {},
   "source": [
    "This function takes the network object `n` as an argument and, optionally, a time frame. We want to plot the load time series, and stacked area charts for electricity feed-in and storage charging. Technologies should be coloured by their color defined in `n.carriers`."
   ]
  },
  {
   "cell_type": "code",
   "execution_count": 90,
   "metadata": {},
   "outputs": [],
   "source": [
    "def plot_dispatch(n, time=\"2015-07\"):\n",
    "    \n",
    "    p_by_carrier = n.generators_t.p.groupby(n.generators.carrier, axis=1).sum().div(1e3)\n",
    "    \n",
    "    if not n.storage_units.empty:\n",
    "        sto = n.storage_units_t.p.groupby(n.storage_units.carrier, axis=1).sum().div(1e3)\n",
    "        p_by_carrier = pd.concat([p_by_carrier, sto], axis=1)\n",
    "    \n",
    "    fig, ax = plt.subplots(figsize=(6, 3))\n",
    "    \n",
    "    color = p_by_carrier.columns.map(n.carriers.color)\n",
    "    \n",
    "    p_by_carrier.where(p_by_carrier>0).loc[time].plot.area(\n",
    "        ax=ax,\n",
    "        linewidth=0,\n",
    "        color=color,\n",
    "    )\n",
    "    \n",
    "    charge = p_by_carrier.where(p_by_carrier<0).dropna(how='all', axis=1).loc[time]\n",
    "    \n",
    "    if not charge.empty:\n",
    "\n",
    "        charge.plot.area(\n",
    "            ax=ax,\n",
    "            linewidth=0,\n",
    "            color=charge.columns.map(n.carriers.color),\n",
    "        )\n",
    "    \n",
    "    n.loads_t.p_set.sum(axis=1).loc[time].div(1e3).plot(ax=ax, c='k')\n",
    "\n",
    "    plt.legend(loc=(1.05,0))\n",
    "    ax.set_ylabel(\"GW\")\n",
    "    ax.set_ylim(-200, 200)"
   ]
  },
  {
   "cell_type": "markdown",
   "metadata": {},
   "source": [
    "Oje, that was complicated. Let's test it:"
   ]
  },
  {
   "cell_type": "code",
   "execution_count": 91,
   "metadata": {},
   "outputs": [
    {
     "data": {
      "image/png": "[encoded data removed]",
      "text/plain": [
       "<Figure size 600x300 with 1 Axes>"
      ]
     },
     "metadata": {},
     "output_type": "display_data"
    }
   ],
   "source": [
    "plot_dispatch(n)"
   ]
  },
  {
   "cell_type": "markdown",
   "metadata": {},
   "source": [
    "## Adding Storage Units"
   ]
  },
  {
   "cell_type": "markdown",
   "metadata": {},
   "source": [
    "Alright, but there are a few important components missing for a system with high shares of renewables? What about short-term storage options (e.g. batteries) and long-term storage options (e.g. hydrogen storage)? Let's add them too."
   ]
  },
  {
   "cell_type": "markdown",
   "metadata": {},
   "source": [
    "First, the battery storage. We are going to assume a fixed energy-to-power ratio of 6 hours, i.e. if fully charged, the battery can discharge at full capacity for 6 hours.\n",
    "For the capital cost, we have to factor in both the capacity and energy cost of the storage. We are also going to enforce a cyclic state-of-charge condition, i.e. the state of charge\n",
    "at the beginning of the optimisation period must equal the final state of charge."
   ]
  },
  {
   "cell_type": "code",
   "execution_count": 92,
   "metadata": {},
   "outputs": [],
   "source": [
    "n.add(\n",
    "    \"StorageUnit\",\n",
    "    \"battery storage\",\n",
    "    bus='electricity',\n",
    "    carrier=\"battery storage\",\n",
    "    max_hours=6,\n",
    "    capital_cost=costs.at[\"battery inverter\", \"capital_cost\"] + 6 * costs.at[\"battery storage\", \"capital_cost\"],\n",
    "    efficiency_store=costs.at[\"battery inverter\", \"efficiency\"],\n",
    "    efficiency_dispatch=costs.at[\"battery inverter\", \"efficiency\"],\n",
    "    p_nom_extendable=True,\n",
    "    cyclic_state_of_charge=True,\n",
    ")"
   ]
  },
  {
   "cell_type": "markdown",
   "metadata": {},
   "source": [
    "Second, the hydrogen storage. This one is composed of an electrolysis to convert electricity to hydrogen, a fuel cell to re-convert hydrogen to electricity and underground storage (e.g. in salt caverns). We assume an energy-to-power ratio of 168 hours, such that this type of storage can be used for weekly balancing."
   ]
  },
  {
   "cell_type": "code",
   "execution_count": 93,
   "metadata": {},
   "outputs": [],
   "source": [
    "capital_costs = (\n",
    "    costs.at[\"electrolysis\", \"capital_cost\"] +\n",
    "    costs.at[\"fuel cell\", \"capital_cost\"] +\n",
    "    168 * costs.at[\"hydrogen storage underground\", \"capital_cost\"]\n",
    ")\n",
    "\n",
    "n.add(\n",
    "    \"StorageUnit\",\n",
    "    \"hydrogen storage underground\",\n",
    "    bus=\"electricity\",\n",
    "    carrier=\"hydrogen storage underground\",\n",
    "    max_hours=168,\n",
    "    capital_cost=capital_costs,\n",
    "    efficiency_store=costs.at[\"electrolysis\", \"efficiency\"],\n",
    "    efficiency_dispatch=costs.at[\"fuel cell\", \"efficiency\"],\n",
    "    p_nom_extendable=True,\n",
    "    cyclic_state_of_charge=True,\n",
    ")"
   ]
  },
  {
   "cell_type": "markdown",
   "metadata": {},
   "source": [
    "Ok, lets run the again, now with storage, and see what's changed."
   ]
  },
  {
   "cell_type": "code",
   "execution_count": 94,
   "metadata": {
    "tags": [
     "hide-output"
    ]
   },
   "outputs": [
    {
     "name": "stderr",
     "output_type": "stream",
     "text": [
      "<__array_function__ internals>:200: RuntimeWarning:\n",
      "\n",
      "invalid value encountered in cast\n",
      "\n",
      "<__array_function__ internals>:200: RuntimeWarning:\n",
      "\n",
      "invalid value encountered in cast\n",
      "\n",
      "<__array_function__ internals>:200: RuntimeWarning:\n",
      "\n",
      "invalid value encountered in cast\n",
      "\n",
      "INFO:linopy.model: Solve linear problem using Cbc solver\n",
      "INFO:linopy.io:Writing objective.\n",
      "Writing constraints.: 100%|████████████████████████████████████████████████████████████████████████████████████████████████████████████████████████████████████████████████████████| 14/14 [00:00<00:00, 71.21it/s]\n",
      "Writing variables.: 100%|███████████████████████████████████████████████████████████████████████████████████████████████████████████████████████████████████████████████████████████| 7/7 [00:00<00:00, 193.76it/s]\n",
      "INFO:linopy.io: Writing time: 0.26s\n",
      "INFO:linopy.constants: Optimization successful: \n",
      "Status: ok\n",
      "Termination condition: optimal\n",
      "Solution: 21906 primals, 50376 duals\n",
      "Objective: 2.75e+10\n",
      "Solver model: not available\n",
      "Solver message: Optimal - objective value 27532289225.22749710\n",
      "\n",
      "\n"
     ]
    },
    {
     "name": "stdout",
     "output_type": "stream",
     "text": [
      "Welcome to the CBC MILP Solver \n",
      "Version: 2.10.9 \n",
      "Build Date: Apr 14 2023 \n",
      "\n",
      "command line - cbc -printingOptions all -import /tmp/linopy-problem-4t7pxohq.lp -solve -solu /tmp/linopy-solve-1rd4jb3_.sol (default strategy 1)\n",
      "Option for printingOptions changed from normal to all\n",
      "Presolve 27420 (-22956) rows, 20856 (-1050) columns and 75690 (-24006) elements\n",
      "Perturbing problem by 0.001% of 232.80852 - largest nonzero change 0.00033269303 ( 6.8859498%) - largest zero change 0.0003312509\n",
      "0  Obj 0 Primal inf 1.7299319e+08 (2190)\n",
      "362  Obj 1533.1194 Primal inf 2.0311713e+08 (2526)\n",
      "724  Obj 57854.02 Primal inf 2.361395e+08 (2828)\n",
      "1086  Obj 2.7945624e+09 Primal inf 2.6149484e+08 (3052)\n",
      "1448  Obj 3.028221e+09 Primal inf 2.7838941e+08 (3215)\n",
      "1810  Obj 3.2790364e+09 Primal inf 2.8919514e+08 (3325)\n",
      "2172  Obj 3.5661457e+09 Primal inf 2.9340496e+08 (3404)\n",
      "2534  Obj 3.8615063e+09 Primal inf 3.0078978e+08 (3476)\n",
      "2896  Obj 4.1368103e+09 Primal inf 3.0506133e+08 (3523)\n",
      "3258  Obj 4.3553899e+09 Primal inf 3.0659227e+08 (3566)\n",
      "3620  Obj 4.5115102e+09 Primal inf 2.9965418e+08 (3578)\n",
      "3982  Obj 4.7012691e+09 Primal inf 3.0619856e+08 (3619)\n",
      "4344  Obj 4.929369e+09 Primal inf 2.9669714e+08 (3640)\n",
      "4706  Obj 5.0927827e+09 Primal inf 2.9536912e+08 (3672)\n",
      "5068  Obj 5.4361429e+09 Primal inf 2.8590575e+08 (3668)\n",
      "5430  Obj 5.7259353e+09 Primal inf 2.7945281e+08 (3668)\n",
      "5792  Obj 6.0526507e+09 Primal inf 2.7091084e+08 (3659)\n",
      "6154  Obj 6.1922591e+09 Primal inf 2.6075623e+08 (3640)\n",
      "6516  Obj 6.5929942e+09 Primal inf 2.4730128e+08 (3596)\n",
      "6878  Obj 6.8999993e+09 Primal inf 2.3833124e+08 (3580)\n",
      "7240  Obj 7.3218479e+09 Primal inf 2.2978354e+08 (3521)\n",
      "7602  Obj 7.5556003e+09 Primal inf 2.2398372e+08 (3471)\n",
      "7964  Obj 8.053451e+09 Primal inf 2.1426713e+08 (3430)\n",
      "8326  Obj 8.3290574e+09 Primal inf 2.1103599e+08 (3397)\n",
      "8688  Obj 8.5715646e+09 Primal inf 2.0470436e+08 (3363)\n",
      "9050  Obj 9.0857329e+09 Primal inf 1.9946536e+08 (3343)\n",
      "9412  Obj 9.8510392e+09 Primal inf 1.9375143e+08 (3314)\n",
      "9774  Obj 1.0396867e+10 Primal inf 1.8183844e+08 (3211)\n",
      "10136  Obj 1.1231802e+10 Primal inf 1.6004685e+08 (3120)\n",
      "10498  Obj 1.2052908e+10 Primal inf 1.525137e+08 (3072)\n",
      "10860  Obj 1.3018316e+10 Primal inf 1.3788882e+08 (2962)\n",
      "11222  Obj 1.3982347e+10 Primal inf 1.2776496e+08 (2834)\n",
      "11584  Obj 1.5051631e+10 Primal inf 1.1522189e+08 (2716)\n",
      "11946  Obj 1.5758807e+10 Primal inf 2.8470938e+08 (6283)\n",
      "12308  Obj 1.6058235e+10 Primal inf 1.7294859e+08 (4343)\n",
      "12670  Obj 1.6270149e+10 Primal inf 1.8971485e+08 (4255)\n",
      "13032  Obj 1.6562778e+10 Primal inf 2.0878326e+08 (4109)\n",
      "13394  Obj 1.6959119e+10 Primal inf 6.2073066e+08 (6372)\n",
      "13756  Obj 1.7473907e+10 Primal inf 2.2216885e+08 (4050)\n",
      "14118  Obj 1.8336395e+10 Primal inf 5.6242226e+09 (11343)\n",
      "14480  Obj 1.9117336e+10 Primal inf 1.727e+08 (4523)\n",
      "14842  Obj 1.9820692e+10 Primal inf 3.7276671e+08 (5830)\n",
      "15204  Obj 2.0393015e+10 Primal inf 2.7500986e+08 (10819)\n",
      "15566  Obj 2.1134704e+10 Primal inf 1.0410387e+08 (3379)\n",
      "15928  Obj 2.1930196e+10 Primal inf 3.1194253e+08 (4157)\n",
      "16290  Obj 2.2657965e+10 Primal inf 86057859 (3219)\n",
      "16652  Obj 2.3411523e+10 Primal inf 3.770314e+08 (5419)\n",
      "17014  Obj 2.396333e+10 Primal inf 70903300 (3713)\n",
      "17376  Obj 2.4580669e+10 Primal inf 3.0683353e+08 (10202)\n",
      "17738  Obj 2.4930395e+10 Primal inf 1.0616585e+09 (11565)\n",
      "18100  Obj 2.5507179e+10 Primal inf 3.3763847e+08 (3981)\n",
      "18462  Obj 2.616508e+10 Primal inf 53541613 (2646)\n",
      "18824  Obj 2.6443299e+10 Primal inf 83176785 (9309)\n",
      "19186  Obj 2.6571978e+10 Primal inf 1.0298175e+08 (9801)\n",
      "19548  Obj 2.671828e+10 Primal inf 1.9134352e+08 (5568)\n",
      "19910  Obj 2.707275e+10 Primal inf 19809147 (2619)\n",
      "20272  Obj 2.7284263e+10 Primal inf 53147316 (9585)\n",
      "20634  Obj 2.7398122e+10 Primal inf 5200388.1 (686)\n",
      "20996  Obj 2.7501097e+10 Primal inf 2726966.9 (875)\n",
      "21272  Obj 2.7532295e+10\n",
      "Optimal - objective value 2.7532289e+10\n",
      "After Postsolve, objective 2.7532289e+10, infeasibilities - dual 0 (0), primal 0 (0)\n",
      "Optimal objective 2.753228923e+10 - 21272 iterations time 1.632, Presolve 0.03\n",
      "Total time (CPU seconds):       2.21   (Wallclock seconds):       1.88\n",
      "\n"
     ]
    },
    {
     "data": {
      "text/plain": [
       "('ok', 'optimal')"
      ]
     },
     "execution_count": 94,
     "metadata": {},
     "output_type": "execute_result"
    }
   ],
   "source": [
    "n.optimize(solver_name='cbc')"
   ]
  },
  {
   "cell_type": "code",
   "execution_count": 95,
   "metadata": {},
   "outputs": [
    {
     "data": {
      "text/plain": [
       "Generator\n",
       "OCGT       70182.246\n",
       "onwind         0.000\n",
       "offwind    42399.533\n",
       "solar      82323.420\n",
       "Name: p_nom_opt, dtype: float64"
      ]
     },
     "execution_count": 95,
     "metadata": {},
     "output_type": "execute_result"
    }
   ],
   "source": [
    "n.generators.p_nom_opt # MW"
   ]
  },
  {
   "cell_type": "code",
   "execution_count": 96,
   "metadata": {},
   "outputs": [
    {
     "data": {
      "text/plain": [
       "StorageUnit\n",
       "battery storage                 0.0\n",
       "hydrogen storage underground    0.0\n",
       "Name: p_nom_opt, dtype: float64"
      ]
     },
     "execution_count": 96,
     "metadata": {},
     "output_type": "execute_result"
    }
   ],
   "source": [
    "n.storage_units.p_nom_opt # MW"
   ]
  },
  {
   "cell_type": "markdown",
   "metadata": {},
   "source": [
    "**Nothing!** The objective value is the same, and no storage is built."
   ]
  },
  {
   "cell_type": "markdown",
   "metadata": {},
   "source": [
    "### Adding emission limits"
   ]
  },
  {
   "cell_type": "markdown",
   "metadata": {},
   "source": [
    "The gas power plant offers sufficient and cheap enough backup capacity to run in periods of low wind and solar generation. But what happens if this source of flexibility disappears. Let's model a 100% renewable electricity system by adding a CO$_2$ emission limit as global constraint:"
   ]
  },
  {
   "cell_type": "code",
   "execution_count": 97,
   "metadata": {},
   "outputs": [],
   "source": [
    "n.add(\n",
    "    \"GlobalConstraint\",\n",
    "    \"CO2Limit\",\n",
    "    carrier_attribute=\"co2_emissions\",\n",
    "    sense=\"<=\",\n",
    "    constant=0,\n",
    ")"
   ]
  },
  {
   "cell_type": "markdown",
   "metadata": {},
   "source": [
    "When we run the model now..."
   ]
  },
  {
   "cell_type": "code",
   "execution_count": 98,
   "metadata": {
    "tags": [
     "hide-output"
    ]
   },
   "outputs": [
    {
     "name": "stderr",
     "output_type": "stream",
     "text": [
      "<__array_function__ internals>:200: RuntimeWarning:\n",
      "\n",
      "invalid value encountered in cast\n",
      "\n",
      "<__array_function__ internals>:200: RuntimeWarning:\n",
      "\n",
      "invalid value encountered in cast\n",
      "\n",
      "<__array_function__ internals>:200: RuntimeWarning:\n",
      "\n",
      "invalid value encountered in cast\n",
      "\n",
      "INFO:linopy.model: Solve linear problem using Cbc solver\n",
      "INFO:linopy.io:Writing objective.\n",
      "Writing constraints.: 100%|████████████████████████████████████████████████████████████████████████████████████████████████████████████████████████████████████████████████████████| 15/15 [00:00<00:00, 80.62it/s]\n",
      "Writing variables.: 100%|███████████████████████████████████████████████████████████████████████████████████████████████████████████████████████████████████████████████████████████| 7/7 [00:00<00:00, 252.68it/s]\n",
      "INFO:linopy.io: Writing time: 0.24s\n"
     ]
    },
    {
     "name": "stdout",
     "output_type": "stream",
     "text": [
      "Welcome to the CBC MILP Solver \n",
      "Version: 2.10.9 \n",
      "Build Date: Apr 14 2023 \n",
      "\n",
      "command line - cbc -printingOptions all -import /tmp/linopy-problem-d_m5hq70.lp -solve -solu /tmp/linopy-solve-iec_e_hn.sol (default strategy 1)\n",
      "Option for printingOptions changed from normal to all\n",
      "Presolve 25230 (-25147) rows, 18665 (-3241) columns and 69120 (-32766) elements\n",
      "Perturbing problem by 0.001% of 232.80852 - largest nonzero change 0.00032089483 ( 6.9617437%) - largest zero change 0.00032065496\n",
      "0  Obj 0 Primal inf 1.7299319e+08 (2190)\n",
      "351  Obj 1493.2063 Primal inf 2.0196111e+08 (2516)\n",
      "702  Obj 19768.495 Primal inf 2.3707684e+08 (2831)\n",
      "1053  Obj 1.1549822e+10 Primal inf 1.9381022e+08 (2257)\n",
      "1404  Obj 1.7620177e+10 Primal inf 2.9268993e+08 (3146)\n",
      "1755  Obj 1.7620284e+10 Primal inf 3.6478163e+08 (3210)\n",
      "2106  Obj 1.7620435e+10 Primal inf 3.2845084e+08 (3259)\n",
      "2457  Obj 1.7620597e+10 Primal inf 9.9330283e+08 (3313)\n",
      "2808  Obj 1.7623491e+10 Primal inf 3.7836884e+08 (3344)\n",
      "3159  Obj 1.7623614e+10 Primal inf 3.7605744e+08 (3404)\n",
      "3510  Obj 1.7624145e+10 Primal inf 6.5527629e+08 (3584)\n",
      "3861  Obj 1.7630191e+10 Primal inf 4.836553e+08 (3558)\n",
      "4212  Obj 1.7637327e+10 Primal inf 3.6452709e+08 (3426)\n",
      "4563  Obj 1.7643675e+10 Primal inf 3.9795756e+08 (3493)\n",
      "4914  Obj 1.7644123e+10 Primal inf 5.014827e+08 (3625)\n",
      "5265  Obj 1.764462e+10 Primal inf 5.0320631e+08 (3606)\n",
      "5616  Obj 1.7652088e+10 Primal inf 5.1472048e+08 (3640)\n",
      "5967  Obj 1.76532e+10 Primal inf 5.8120096e+08 (3704)\n",
      "6318  Obj 1.7670355e+10 Primal inf 5.5904787e+08 (3774)\n",
      "6669  Obj 1.7708111e+10 Primal inf 6.5391496e+08 (3774)\n",
      "7020  Obj 1.7738024e+10 Primal inf 5.5361732e+08 (3812)\n",
      "7371  Obj 1.7758126e+10 Primal inf 8.1179349e+08 (3831)\n",
      "7722  Obj 1.776796e+10 Primal inf 7.6477978e+08 (3779)\n",
      "8073  Obj 1.7768416e+10 Primal inf 5.2827885e+08 (3867)\n",
      "8424  Obj 1.7809869e+10 Primal inf 6.8132474e+08 (3828)\n",
      "8775  Obj 1.7816457e+10 Primal inf 6.0773624e+08 (3921)\n",
      "9126  Obj 1.7816777e+10 Primal inf 6.4389109e+08 (3918)\n",
      "9477  Obj 1.7826022e+10 Primal inf 6.5040119e+08 (3950)\n",
      "9828  Obj 1.784211e+10 Primal inf 6.166331e+08 (3976)\n",
      "10179  Obj 1.7903697e+10 Primal inf 6.1843414e+08 (4074)\n",
      "10530  Obj 1.7985924e+10 Primal inf 6.4959172e+08 (4196)\n",
      "10881  Obj 3.8123052e+10 Primal inf 9.2860155e+08 (4280)\n",
      "11232  Obj 3.8193673e+10 Primal inf 6.8463573e+08 (4249)\n",
      "11583  Obj 3.8193859e+10 Primal inf 6.6242169e+08 (4323)\n",
      "11934  Obj 3.82106e+10 Primal inf 7.0990071e+08 (4388)\n",
      "12285  Obj 3.8212013e+10 Primal inf 6.3266758e+08 (4329)\n",
      "12636  Obj 3.8212282e+10 Primal inf 8.7790208e+08 (4447)\n",
      "12987  Obj 4.1035129e+10 Primal inf 3.8442473e+08 (3887)\n",
      "13338  Obj 4.1035508e+10 Primal inf 3.8191804e+08 (3925)\n",
      "13689  Obj 4.1035705e+10 Primal inf 3.765092e+08 (3890)\n",
      "14040  Obj 4.1036052e+10 Primal inf 3.9453949e+08 (3899)\n",
      "14391  Obj 4.1036193e+10 Primal inf 4.9798692e+08 (3964)\n",
      "14742  Obj 4.1568851e+10 Primal inf 3.4499258e+08 (3742)\n",
      "15093  Obj 4.5204025e+10 Primal inf 6.180943e+08 (3949)\n",
      "15444  Obj 4.5837092e+10 Primal inf 6.7152287e+08 (3933)\n",
      "15795  Obj 4.7386818e+10 Primal inf 3.7165131e+08 (3766)\n",
      "16146  Obj 4.7401427e+10 Primal inf 4.9849665e+08 (3956)\n",
      "16497  Obj 5.1970257e+10 Primal inf 2.509646e+08 (3482)\n",
      "16848  Obj 5.7424444e+10 Primal inf 8.4235339e+08 (9594)\n",
      "17199  Obj 5.8532667e+10 Primal inf 2.0016063e+10 (10734)\n",
      "17550  Obj 5.9097603e+10 Primal inf 1.0031852e+09 (8894)\n",
      "17901  Obj 5.9831208e+10 Primal inf 5.7326898e+08 (9850)\n",
      "18252  Obj 6.0022214e+10 Primal inf 1.8411839e+08 (3169)\n",
      "18603  Obj 6.1172828e+10 Primal inf 5.7151896e+09 (12368)\n",
      "18954  Obj 6.2157065e+10 Primal inf 5.9278491e+08 (8639)\n",
      "19305  Obj 6.2778333e+10 Primal inf 1.7558627e+08 (2903)\n",
      "19656  Obj 6.2955272e+10 Primal inf 2.5125718e+08 (3440)\n",
      "20007  Obj 6.3532519e+10 Primal inf 4.7918574e+08 (4282)\n",
      "20358  Obj 6.4172493e+10 Primal inf 1.9074278e+09 (6058)\n",
      "20709  Obj 6.4717823e+10 Primal inf 6.3602933e+08 (4520)\n",
      "21060  Obj 6.4900795e+10 Primal inf 2.1304668e+08 (2983)\n",
      "21411  Obj 6.525544e+10 Primal inf 5.2811631e+08 (8801)\n",
      "21762  Obj 6.5538865e+10 Primal inf 1.9975965e+08 (8334)\n",
      "22113  Obj 6.5723433e+10 Primal inf 5406475.5 (633)\n",
      "22464  Obj 6.5804542e+10 Primal inf 1330054.1 (220)\n",
      "22801  Obj 6.5813275e+10\n",
      "Optimal - objective value 6.581318e+10\n",
      "After Postsolve, objective 6.581318e+10, infeasibilities - dual 0 (0), primal 0 (0)\n",
      "Optimal objective 6.58131804e+10 - 22801 iterations time 3.262, Presolve 0.04\n",
      "Total time (CPU seconds):       3.88   (Wallclock seconds):       3.52\n",
      "\n"
     ]
    },
    {
     "name": "stderr",
     "output_type": "stream",
     "text": [
      "INFO:linopy.constants: Optimization successful: \n",
      "Status: ok\n",
      "Termination condition: optimal\n",
      "Solution: 21906 primals, 50377 duals\n",
      "Objective: 6.58e+10\n",
      "Solver model: not available\n",
      "Solver message: Optimal - objective value 65813180398.48292542\n",
      "\n",
      "\n"
     ]
    },
    {
     "data": {
      "text/plain": [
       "('ok', 'optimal')"
      ]
     },
     "execution_count": 98,
     "metadata": {},
     "output_type": "execute_result"
    }
   ],
   "source": [
    "n.optimize(solver_name='cbc')"
   ]
  },
  {
   "cell_type": "markdown",
   "metadata": {},
   "source": [
    "...and inspect the capacities built..."
   ]
  },
  {
   "cell_type": "code",
   "execution_count": 99,
   "metadata": {},
   "outputs": [
    {
     "data": {
      "text/plain": [
       "Generator\n",
       "OCGT            0.000\n",
       "onwind     225963.170\n",
       "offwind     76925.171\n",
       "solar      248437.270\n",
       "Name: p_nom_opt, dtype: float64"
      ]
     },
     "execution_count": 99,
     "metadata": {},
     "output_type": "execute_result"
    }
   ],
   "source": [
    "n.generators.p_nom_opt # MW"
   ]
  },
  {
   "cell_type": "code",
   "execution_count": 100,
   "metadata": {},
   "outputs": [
    {
     "data": {
      "text/plain": [
       "StorageUnit\n",
       "battery storage                 34106.690\n",
       "hydrogen storage underground    60603.643\n",
       "Name: p_nom_opt, dtype: float64"
      ]
     },
     "execution_count": 100,
     "metadata": {},
     "output_type": "execute_result"
    }
   ],
   "source": [
    "n.storage_units.p_nom_opt # MW"
   ]
  },
  {
   "cell_type": "code",
   "execution_count": 101,
   "metadata": {},
   "outputs": [
    {
     "data": {
      "text/plain": [
       "StorageUnit\n",
       "battery storage                   204.640140\n",
       "hydrogen storage underground    10181.412024\n",
       "dtype: float64"
      ]
     },
     "execution_count": 101,
     "metadata": {},
     "output_type": "execute_result"
    }
   ],
   "source": [
    "n.storage_units.p_nom_opt.div(1e3) * n.storage_units.max_hours # GWh"
   ]
  },
  {
   "cell_type": "markdown",
   "metadata": {},
   "source": [
    "... we see quite a bit of storage. So how does the optimised dispatch of the system look like?"
   ]
  },
  {
   "cell_type": "code",
   "execution_count": 102,
   "metadata": {},
   "outputs": [
    {
     "name": "stderr",
     "output_type": "stream",
     "text": [
      "/home/fneum/miniconda3/envs/esm-2023/lib/python3.11/site-packages/pandas/plotting/_matplotlib/core.py:1598: UserWarning:\n",
      "\n",
      "Attempting to set identical low and high ylims makes transformation singular; automatically expanding.\n",
      "\n"
     ]
    },
    {
     "data": {
      "image/png": "[encoded data removed]",
      "text/plain": [
       "<Figure size 600x300 with 1 Axes>"
      ]
     },
     "metadata": {},
     "output_type": "display_data"
    }
   ],
   "source": [
    "plot_dispatch(n)"
   ]
  },
  {
   "cell_type": "markdown",
   "metadata": {},
   "source": [
    "We are also keen to see what technologies constitute the largest cost components. For that we're going to define a small helper function:"
   ]
  },
  {
   "cell_type": "code",
   "execution_count": 103,
   "metadata": {},
   "outputs": [],
   "source": [
    "def system_cost(n):\n",
    "    tsc = n.statistics.capex() + n.statistics.opex(aggregate_time='sum')\n",
    "    return tsc.droplevel(0).div(1e6) # million €/a"
   ]
  },
  {
   "cell_type": "markdown",
   "metadata": {},
   "source": [
    ":::{note}\n",
    "If you have an older PyPSA version, the statistics accessor might not be available and you may have to use this alternative, more complicated function with individual items for each cost component:\n",
    "\n",
    "```\n",
    "def system_cost(n)\n",
    "    opex = n.snapshot_weightings.generators @ (n.generators.marginal_cost * n.generators_t.p).div(1e6) # M€/a\n",
    "    capex = (n.generators.p_nom_opt * n.generators.capital_cost).div(1e6) # M€/a\n",
    "    capex_storage = (n.storage_units.p_nom_opt * n.storage_units.capital_cost).div(1e6) # M€/a\n",
    "    return pd.concat([opex, capex, capex_storage], axis=1).sum(axis=1)\n",
    "```\n",
    ":::"
   ]
  },
  {
   "cell_type": "code",
   "execution_count": 104,
   "metadata": {},
   "outputs": [
    {
     "data": {
      "text/plain": [
       "carrier\n",
       "battery storage                  3289.077324\n",
       "hydrogen storage underground    16994.853645\n",
       "OCGT                                0.000000\n",
       "offwind                         12168.412489\n",
       "onwind                          21803.629914\n",
       "solar                           11557.207340\n",
       "dtype: float64"
      ]
     },
     "execution_count": 104,
     "metadata": {},
     "output_type": "execute_result"
    }
   ],
   "source": [
    "system_cost(n)"
   ]
  },
  {
   "cell_type": "markdown",
   "metadata": {},
   "source": [
    "This series, we can then process into plots, e.g. a pie chart:"
   ]
  },
  {
   "cell_type": "code",
   "execution_count": 105,
   "metadata": {},
   "outputs": [
    {
     "data": {
      "text/plain": [
       "<Axes: >"
      ]
     },
     "execution_count": 105,
     "metadata": {},
     "output_type": "execute_result"
    },
    {
     "data": {
      "image/png": "[encoded data removed]",
      "text/plain": [
       "<Figure size 200x200 with 1 Axes>"
      ]
     },
     "metadata": {},
     "output_type": "display_data"
    }
   ],
   "source": [
    "system_cost(n).plot.pie(figsize=(2,2))"
   ]
  },
  {
   "cell_type": "markdown",
   "metadata": {},
   "source": [
    "or use to compute the cost per unit of electricity consumed:"
   ]
  },
  {
   "cell_type": "code",
   "execution_count": 106,
   "metadata": {},
   "outputs": [],
   "source": [
    "demand = n.snapshot_weightings.generators @ n.loads_t.p_set.sum(axis=1)"
   ]
  },
  {
   "cell_type": "code",
   "execution_count": 107,
   "metadata": {},
   "outputs": [
    {
     "data": {
      "text/plain": [
       "137.41834112389753"
      ]
     },
     "execution_count": 107,
     "metadata": {},
     "output_type": "execute_result"
    }
   ],
   "source": [
    "system_cost(n).sum()*1e6 / demand.sum()"
   ]
  },
  {
   "cell_type": "markdown",
   "metadata": {},
   "source": [
    ":::{warning}\n",
    "Always consider, that the load data is given in units of power (MW) and if your resolution is not hourly, you need to multiply by the snapshot weighting to get the energy consumed!\n",
    ":::"
   ]
  },
  {
   "cell_type": "markdown",
   "metadata": {
    "tags": []
   },
   "source": [
    "## Sensitivity Analysis"
   ]
  },
  {
   "cell_type": "markdown",
   "metadata": {},
   "source": [
    "Sensitivity analyses constitute a core activity of energy system modelling. Below, you can find sensitivity analyses regarding the\n",
    "\n",
    "1. variation in allowed CO$_2$ emissions\n",
    "2. variation in solar overnight costs\n",
    "3. variation in offshore wind potentials"
   ]
  },
  {
   "cell_type": "code",
   "execution_count": 108,
   "metadata": {
    "tags": [
     "hide-output"
    ]
   },
   "outputs": [
    {
     "name": "stderr",
     "output_type": "stream",
     "text": [
      "<__array_function__ internals>:200: RuntimeWarning:\n",
      "\n",
      "invalid value encountered in cast\n",
      "\n",
      "<__array_function__ internals>:200: RuntimeWarning:\n",
      "\n",
      "invalid value encountered in cast\n",
      "\n",
      "<__array_function__ internals>:200: RuntimeWarning:\n",
      "\n",
      "invalid value encountered in cast\n",
      "\n",
      "INFO:linopy.model: Solve linear problem using Cbc solver\n",
      "INFO:linopy.io:Writing objective.\n",
      "Writing constraints.: 100%|████████████████████████████████████████████████████████████████████████████████████████████████████████████████████████████████████████████████████████| 15/15 [00:00<00:00, 77.57it/s]\n",
      "Writing variables.: 100%|███████████████████████████████████████████████████████████████████████████████████████████████████████████████████████████████████████████████████████████| 7/7 [00:00<00:00, 233.60it/s]\n",
      "INFO:linopy.io: Writing time: 0.25s\n",
      "INFO:linopy.constants: Optimization successful: \n",
      "Status: ok\n",
      "Termination condition: optimal\n",
      "Solution: 21906 primals, 50377 duals\n",
      "Objective: 2.75e+10\n",
      "Solver model: not available\n",
      "Solver message: Optimal - objective value 27532289225.22749329\n",
      "\n",
      "\n"
     ]
    },
    {
     "name": "stdout",
     "output_type": "stream",
     "text": [
      "Welcome to the CBC MILP Solver \n",
      "Version: 2.10.9 \n",
      "Build Date: Apr 14 2023 \n",
      "\n",
      "command line - cbc -printingOptions all -import /tmp/linopy-problem-k7tpycrv.lp -solve -solu /tmp/linopy-solve-15ocf8vi.sol (default strategy 1)\n",
      "Option for printingOptions changed from normal to all\n",
      "Presolve 27421 (-22956) rows, 20856 (-1050) columns and 77880 (-24006) elements\n",
      "Perturbing problem by 0.001% of 232.80852 - largest nonzero change 0.00033269303 ( 6.8859498%) - largest zero change 0.0003312509\n",
      "0  Obj 0 Primal inf 1.7299319e+08 (2190)\n",
      "362  Obj 1533.1194 Primal inf 2.0311713e+08 (2526)\n",
      "724  Obj 57854.02 Primal inf 2.361395e+08 (2828)\n",
      "1086  Obj 2.7945624e+09 Primal inf 2.6149484e+08 (3052)\n",
      "1448  Obj 3.028221e+09 Primal inf 2.7838941e+08 (3215)\n",
      "1810  Obj 3.2790364e+09 Primal inf 2.8919514e+08 (3325)\n",
      "2172  Obj 3.5661457e+09 Primal inf 2.9340496e+08 (3404)\n",
      "2534  Obj 3.8615063e+09 Primal inf 3.0078978e+08 (3476)\n",
      "2896  Obj 4.1368103e+09 Primal inf 3.0506133e+08 (3523)\n",
      "3258  Obj 4.3553899e+09 Primal inf 3.0659227e+08 (3566)\n",
      "3620  Obj 4.5115102e+09 Primal inf 2.9965418e+08 (3578)\n",
      "3982  Obj 4.7012691e+09 Primal inf 3.0619856e+08 (3619)\n",
      "4344  Obj 4.929369e+09 Primal inf 2.9669714e+08 (3640)\n",
      "4706  Obj 5.0927827e+09 Primal inf 2.9536912e+08 (3672)\n",
      "5068  Obj 5.4361429e+09 Primal inf 2.8590575e+08 (3668)\n",
      "5430  Obj 5.7259353e+09 Primal inf 2.7945281e+08 (3668)\n",
      "5792  Obj 6.0526507e+09 Primal inf 2.7091084e+08 (3659)\n",
      "6154  Obj 6.1922591e+09 Primal inf 2.6075623e+08 (3640)\n",
      "6516  Obj 6.5929942e+09 Primal inf 2.4730128e+08 (3596)\n",
      "6878  Obj 6.8999993e+09 Primal inf 2.3833124e+08 (3580)\n",
      "7240  Obj 7.3218479e+09 Primal inf 2.2978354e+08 (3521)\n",
      "7602  Obj 7.5556003e+09 Primal inf 2.2398372e+08 (3471)\n",
      "7964  Obj 8.053451e+09 Primal inf 2.1426713e+08 (3430)\n",
      "8326  Obj 8.3290574e+09 Primal inf 2.1103599e+08 (3397)\n",
      "8688  Obj 8.5715646e+09 Primal inf 2.0470436e+08 (3363)\n",
      "9050  Obj 9.0857329e+09 Primal inf 1.9946536e+08 (3343)\n",
      "9412  Obj 9.8510392e+09 Primal inf 1.9375143e+08 (3314)\n",
      "9774  Obj 1.0396867e+10 Primal inf 1.8183844e+08 (3211)\n",
      "10136  Obj 1.1231802e+10 Primal inf 1.6004685e+08 (3120)\n",
      "10498  Obj 1.2052908e+10 Primal inf 1.525137e+08 (3072)\n",
      "10860  Obj 1.3018316e+10 Primal inf 1.3788882e+08 (2962)\n",
      "11222  Obj 1.3982347e+10 Primal inf 1.2776496e+08 (2834)\n",
      "11584  Obj 1.5051631e+10 Primal inf 1.1522189e+08 (2716)\n",
      "11946  Obj 1.5758807e+10 Primal inf 2.8470938e+08 (6283)\n",
      "12308  Obj 1.6058235e+10 Primal inf 1.7294859e+08 (4343)\n",
      "12670  Obj 1.6270149e+10 Primal inf 1.8971485e+08 (4255)\n",
      "13032  Obj 1.6523674e+10 Primal inf 9.7964685e+08 (6406)\n",
      "13394  Obj 1.6822896e+10 Primal inf 2.5138217e+08 (4085)\n",
      "13756  Obj 1.7636065e+10 Primal inf 4.4388448e+08 (6159)\n",
      "14118  Obj 1.8130873e+10 Primal inf 1.4079832e+09 (6228)\n",
      "14480  Obj 1.919435e+10 Primal inf 2.7909149e+08 (4073)\n",
      "14842  Obj 1.9709456e+10 Primal inf 2.7599329e+08 (4097)\n",
      "15204  Obj 2.0413734e+10 Primal inf 1.4162136e+08 (3551)\n",
      "15566  Obj 2.1206004e+10 Primal inf 3.5625596e+08 (5607)\n",
      "15928  Obj 2.1857595e+10 Primal inf 3.4741141e+09 (10953)\n",
      "16290  Obj 2.2394765e+10 Primal inf 9.0646664e+08 (10671)\n",
      "16652  Obj 2.2875716e+10 Primal inf 99489165 (3158)\n",
      "17014  Obj 2.3641934e+10 Primal inf 1.4500407e+09 (10575)\n",
      "17376  Obj 2.4032718e+10 Primal inf 2.5010716e+08 (10009)\n",
      "17738  Obj 2.460693e+10 Primal inf 6.3366138e+09 (10859)\n",
      "18100  Obj 2.5286366e+10 Primal inf 1.3721584e+09 (4975)\n",
      "18462  Obj 2.5996959e+10 Primal inf 43827261 (3467)\n",
      "18824  Obj 2.6775268e+10 Primal inf 1.1527214e+09 (4793)\n",
      "19186  Obj 2.6865806e+10 Primal inf 5.3093979e+08 (2818)\n",
      "19548  Obj 2.7035465e+10 Primal inf 38959486 (2719)\n",
      "19910  Obj 2.7257984e+10 Primal inf 47654050 (1820)\n",
      "20272  Obj 2.7428722e+10 Primal inf 7787168.4 (1004)\n",
      "20634  Obj 2.7509752e+10 Primal inf 687225.54 (223)\n",
      "20996  Obj 2.7525164e+10 Primal inf 66402.243 (123)\n",
      "21079  Obj 2.7532295e+10\n",
      "Optimal - objective value 2.7532289e+10\n",
      "After Postsolve, objective 2.7532289e+10, infeasibilities - dual 0 (0), primal 0 (0)\n",
      "Optimal objective 2.753228923e+10 - 21079 iterations time 1.832, Presolve 0.03\n",
      "Total time (CPU seconds):       2.48   (Wallclock seconds):       2.13\n",
      "\n"
     ]
    },
    {
     "name": "stderr",
     "output_type": "stream",
     "text": [
      "<__array_function__ internals>:200: RuntimeWarning:\n",
      "\n",
      "invalid value encountered in cast\n",
      "\n",
      "<__array_function__ internals>:200: RuntimeWarning:\n",
      "\n",
      "invalid value encountered in cast\n",
      "\n",
      "<__array_function__ internals>:200: RuntimeWarning:\n",
      "\n",
      "invalid value encountered in cast\n",
      "\n",
      "INFO:linopy.model: Solve linear problem using Cbc solver\n",
      "INFO:linopy.io:Writing objective.\n",
      "Writing constraints.: 100%|████████████████████████████████████████████████████████████████████████████████████████████████████████████████████████████████████████████████████████| 15/15 [00:00<00:00, 80.53it/s]\n",
      "Writing variables.: 100%|███████████████████████████████████████████████████████████████████████████████████████████████████████████████████████████████████████████████████████████| 7/7 [00:00<00:00, 243.60it/s]\n",
      "INFO:linopy.io: Writing time: 0.24s\n",
      "INFO:linopy.constants: Optimization successful: \n",
      "Status: ok\n",
      "Termination condition: optimal\n",
      "Solution: 21906 primals, 50377 duals\n",
      "Objective: 2.79e+10\n",
      "Solver model: not available\n",
      "Solver message: Optimal - objective value 27888336158.81814957\n",
      "\n",
      "\n"
     ]
    },
    {
     "name": "stdout",
     "output_type": "stream",
     "text": [
      "Welcome to the CBC MILP Solver \n",
      "Version: 2.10.9 \n",
      "Build Date: Apr 14 2023 \n",
      "\n",
      "command line - cbc -printingOptions all -import /tmp/linopy-problem-ctzqzk0p.lp -solve -solu /tmp/linopy-solve-7djzawml.sol (default strategy 1)\n",
      "Option for printingOptions changed from normal to all\n",
      "Presolve 27421 (-22956) rows, 20856 (-1050) columns and 77880 (-24006) elements\n",
      "Perturbing problem by 0.001% of 232.80852 - largest nonzero change 0.00033269303 ( 6.8859498%) - largest zero change 0.0003312509\n",
      "0  Obj 0 Primal inf 1.7299319e+08 (2190)\n",
      "362  Obj 1533.1194 Primal inf 2.0311713e+08 (2526)\n",
      "724  Obj 57854.02 Primal inf 2.361395e+08 (2828)\n",
      "1086  Obj 2.7945624e+09 Primal inf 2.6149484e+08 (3052)\n",
      "1448  Obj 3.028221e+09 Primal inf 2.7838941e+08 (3215)\n",
      "1810  Obj 3.2790364e+09 Primal inf 2.8919514e+08 (3325)\n",
      "2172  Obj 3.5661457e+09 Primal inf 2.9340496e+08 (3404)\n",
      "2534  Obj 3.8615063e+09 Primal inf 3.0078978e+08 (3476)\n",
      "2896  Obj 4.1368103e+09 Primal inf 3.0506133e+08 (3523)\n",
      "3258  Obj 4.3553899e+09 Primal inf 3.0659227e+08 (3566)\n",
      "3620  Obj 4.5115102e+09 Primal inf 2.9965418e+08 (3578)\n",
      "3982  Obj 4.7012691e+09 Primal inf 3.0619856e+08 (3619)\n",
      "4344  Obj 4.929369e+09 Primal inf 2.9669714e+08 (3640)\n",
      "4706  Obj 5.0927827e+09 Primal inf 2.9536912e+08 (3672)\n",
      "5068  Obj 5.4361429e+09 Primal inf 2.8590575e+08 (3668)\n",
      "5430  Obj 5.7259353e+09 Primal inf 2.7945281e+08 (3668)\n",
      "5792  Obj 6.0526507e+09 Primal inf 2.7091084e+08 (3659)\n",
      "6154  Obj 6.1922591e+09 Primal inf 2.6075623e+08 (3640)\n",
      "6516  Obj 6.5929942e+09 Primal inf 2.4730128e+08 (3596)\n",
      "6878  Obj 6.8999993e+09 Primal inf 2.3833124e+08 (3580)\n",
      "7240  Obj 7.3218479e+09 Primal inf 2.2978354e+08 (3521)\n",
      "7602  Obj 7.5556003e+09 Primal inf 2.2398372e+08 (3471)\n",
      "7964  Obj 8.053451e+09 Primal inf 2.1426713e+08 (3430)\n",
      "8326  Obj 8.3290574e+09 Primal inf 2.1103599e+08 (3397)\n",
      "8688  Obj 8.5715646e+09 Primal inf 2.0470436e+08 (3363)\n",
      "9050  Obj 9.0857329e+09 Primal inf 1.9946536e+08 (3343)\n",
      "9412  Obj 9.8510392e+09 Primal inf 1.9375143e+08 (3314)\n",
      "9774  Obj 1.0396867e+10 Primal inf 1.8183844e+08 (3211)\n",
      "10136  Obj 1.1231802e+10 Primal inf 1.6004685e+08 (3120)\n",
      "10498  Obj 1.2052908e+10 Primal inf 1.525137e+08 (3072)\n",
      "10860  Obj 1.3018316e+10 Primal inf 1.3788882e+08 (2962)\n",
      "11222  Obj 1.3982347e+10 Primal inf 1.2904995e+08 (2835)\n",
      "11584  Obj 1.4668281e+10 Primal inf 1.4408637e+08 (4697)\n",
      "11946  Obj 1.5225651e+10 Primal inf 1.4863845e+08 (4638)\n",
      "12308  Obj 1.5343907e+10 Primal inf 1.8739459e+08 (4617)\n",
      "12670  Obj 1.5921383e+10 Primal inf 2.1527759e+08 (4548)\n",
      "13032  Obj 1.6124384e+10 Primal inf 2.4662286e+08 (4509)\n",
      "13394  Obj 1.6696647e+10 Primal inf 3.1412089e+08 (4543)\n",
      "13756  Obj 1.8253353e+10 Primal inf 3.1951879e+08 (4512)\n",
      "14118  Obj 1.9837632e+10 Primal inf 1.1383349e+09 (10535)\n",
      "14480  Obj 2.0550279e+10 Primal inf 4.3053973e+08 (5385)\n",
      "14842  Obj 2.185685e+10 Primal inf 1.2561336e+08 (4090)\n",
      "15204  Obj 2.2780117e+10 Primal inf 1.63224e+08 (3835)\n",
      "15566  Obj 2.3407097e+10 Primal inf 6.2795851e+08 (10071)\n",
      "15928  Obj 2.37685e+10 Primal inf 5.4194551e+08 (11161)\n",
      "16290  Obj 2.4787797e+10 Primal inf 1.000564e+09 (9962)\n",
      "16652  Obj 2.5470861e+10 Primal inf 7.0698163e+08 (6341)\n",
      "17014  Obj 2.5918473e+10 Primal inf 1.8638634e+08 (12231)\n",
      "17376  Obj 2.6324638e+10 Primal inf 5.8768627e+08 (11351)\n",
      "17738  Obj 2.6641896e+10 Primal inf 37243555 (9120)\n",
      "18100  Obj 2.6892208e+10 Primal inf 68187369 (9189)\n",
      "18462  Obj 2.7297858e+10 Primal inf 4.1617696e+08 (11598)\n",
      "18824  Obj 2.74009e+10 Primal inf 8.4856048e+08 (11659)\n",
      "19186  Obj 2.7502911e+10 Primal inf 24960851 (2107)\n",
      "19548  Obj 2.7640961e+10 Primal inf 20689409 (1634)\n",
      "19910  Obj 2.774375e+10 Primal inf 96490599 (1948)\n",
      "20272  Obj 2.7800704e+10 Primal inf 1.0636961e+08 (7455)\n",
      "20634  Obj 2.7842017e+10 Primal inf 1.5069563e+08 (8485)\n",
      "20996  Obj 2.7873614e+10 Primal inf 575697.82 (427)\n",
      "21358  Obj 2.7884284e+10 Primal inf 22647.767 (119)\n",
      "21450  Obj 2.7888342e+10\n",
      "Optimal - objective value 2.7888336e+10\n",
      "After Postsolve, objective 2.7888336e+10, infeasibilities - dual 0 (0), primal 0 (0)\n",
      "Optimal objective 2.788833616e+10 - 21450 iterations time 6.792, Presolve 0.03\n",
      "Total time (CPU seconds):       7.38   (Wallclock seconds):       7.10\n",
      "\n"
     ]
    },
    {
     "name": "stderr",
     "output_type": "stream",
     "text": [
      "<__array_function__ internals>:200: RuntimeWarning:\n",
      "\n",
      "invalid value encountered in cast\n",
      "\n",
      "<__array_function__ internals>:200: RuntimeWarning:\n",
      "\n",
      "invalid value encountered in cast\n",
      "\n",
      "<__array_function__ internals>:200: RuntimeWarning:\n",
      "\n",
      "invalid value encountered in cast\n",
      "\n",
      "INFO:linopy.model: Solve linear problem using Cbc solver\n",
      "INFO:linopy.io:Writing objective.\n",
      "Writing constraints.: 100%|████████████████████████████████████████████████████████████████████████████████████████████████████████████████████████████████████████████████████████| 15/15 [00:00<00:00, 51.66it/s]\n",
      "Writing variables.: 100%|███████████████████████████████████████████████████████████████████████████████████████████████████████████████████████████████████████████████████████████| 7/7 [00:00<00:00, 209.15it/s]\n",
      "INFO:linopy.io: Writing time: 0.37s\n"
     ]
    },
    {
     "name": "stdout",
     "output_type": "stream",
     "text": [
      "Welcome to the CBC MILP Solver \n",
      "Version: 2.10.9 \n",
      "Build Date: Apr 14 2023 \n",
      "\n",
      "command line - cbc -printingOptions all -import /tmp/linopy-problem-cmdlk9cd.lp -solve -solu /tmp/linopy-solve-67u5sw9v.sol (default strategy 1)\n",
      "Option for printingOptions changed from normal to all\n",
      "Presolve 27421 (-22956) rows, 20856 (-1050) columns and 77880 (-24006) elements\n",
      "Perturbing problem by 0.001% of 232.80852 - largest nonzero change 0.00033269303 ( 6.8859498%) - largest zero change 0.0003312509\n",
      "0  Obj 0 Primal inf 1.7299319e+08 (2190)\n",
      "362  Obj 1533.1194 Primal inf 2.0311713e+08 (2526)\n",
      "724  Obj 57854.02 Primal inf 2.361395e+08 (2828)\n",
      "1086  Obj 2.7945624e+09 Primal inf 2.6149484e+08 (3052)\n",
      "1448  Obj 3.028221e+09 Primal inf 2.7838941e+08 (3215)\n",
      "1810  Obj 3.2790364e+09 Primal inf 2.8919514e+08 (3325)\n",
      "2172  Obj 3.5661457e+09 Primal inf 2.9340496e+08 (3404)\n",
      "2534  Obj 3.8615063e+09 Primal inf 3.0078978e+08 (3476)\n",
      "2896  Obj 4.1368103e+09 Primal inf 3.0506133e+08 (3523)\n",
      "3258  Obj 4.3553899e+09 Primal inf 3.0659227e+08 (3566)\n",
      "3620  Obj 4.5115102e+09 Primal inf 2.9965418e+08 (3578)\n",
      "3982  Obj 4.7012691e+09 Primal inf 3.0619856e+08 (3619)\n",
      "4344  Obj 4.929369e+09 Primal inf 2.9669714e+08 (3640)\n",
      "4706  Obj 5.0927827e+09 Primal inf 2.9536912e+08 (3672)\n",
      "5068  Obj 5.4361429e+09 Primal inf 2.8590575e+08 (3668)\n",
      "5430  Obj 5.7259353e+09 Primal inf 2.7945281e+08 (3668)\n",
      "5792  Obj 6.0526507e+09 Primal inf 2.7091084e+08 (3659)\n",
      "6154  Obj 6.1922591e+09 Primal inf 2.6075623e+08 (3640)\n",
      "6516  Obj 6.5929942e+09 Primal inf 2.4730128e+08 (3596)\n",
      "6878  Obj 6.8999993e+09 Primal inf 2.3833124e+08 (3580)\n",
      "7240  Obj 7.3218479e+09 Primal inf 2.2978354e+08 (3521)\n",
      "7602  Obj 7.5556003e+09 Primal inf 2.2398372e+08 (3471)\n",
      "7964  Obj 8.053451e+09 Primal inf 2.1426713e+08 (3430)\n",
      "8326  Obj 8.3290574e+09 Primal inf 2.1154716e+08 (3398)\n",
      "8688  Obj 8.5715646e+09 Primal inf 2.0633832e+08 (3364)\n",
      "9050  Obj 9.6823986e+09 Primal inf 2.142781e+08 (4887)\n",
      "9412  Obj 9.6886319e+09 Primal inf 2.529289e+08 (4908)\n",
      "9774  Obj 9.7048296e+09 Primal inf 2.608447e+08 (4903)\n",
      "10136  Obj 1.07604e+10 Primal inf 2.9881935e+08 (4810)\n",
      "10498  Obj 1.0796192e+10 Primal inf 3.0219696e+08 (4837)\n",
      "10860  Obj 1.1844603e+10 Primal inf 3.4904609e+08 (4816)\n",
      "11222  Obj 1.2173459e+10 Primal inf 3.8575249e+08 (4710)\n",
      "11584  Obj 1.2631251e+10 Primal inf 3.878827e+08 (4700)\n",
      "11946  Obj 1.3439643e+10 Primal inf 4.2516472e+08 (4708)\n",
      "12308  Obj 1.5938613e+10 Primal inf 3.4965515e+08 (4128)\n",
      "12670  Obj 1.6642102e+10 Primal inf 3.3081691e+08 (4057)\n",
      "13032  Obj 1.6849796e+10 Primal inf 4.3700797e+08 (4610)\n",
      "13394  Obj 2.036208e+10 Primal inf 6.2907653e+09 (15622)\n",
      "13756  Obj 2.0615293e+10 Primal inf 3.5841315e+08 (3935)\n",
      "14118  Obj 2.1428287e+10 Primal inf 3.188088e+08 (3848)\n",
      "14480  Obj 2.276902e+10 Primal inf 3.5220546e+08 (3864)\n",
      "14842  Obj 2.3624604e+10 Primal inf 5.3951675e+08 (9349)\n",
      "15204  Obj 2.5017505e+10 Primal inf 6.2865687e+08 (9600)\n",
      "15566  Obj 2.5434414e+10 Primal inf 3.7778409e+09 (11784)\n",
      "15928  Obj 2.589461e+10 Primal inf 3.3118293e+08 (5933)\n",
      "16290  Obj 2.6367943e+10 Primal inf 1.6602299e+09 (11049)\n",
      "16652  Obj 2.6659124e+10 Primal inf 3.9721146e+08 (9787)\n",
      "17014  Obj 2.7396167e+10 Primal inf 1.4063053e+09 (10694)\n",
      "17376  Obj 2.7951021e+10 Primal inf 6.5344718e+08 (10313)\n",
      "17738  Obj 2.8493944e+10 Primal inf 1.4824982e+08 (8953)\n",
      "18100  Obj 2.8905368e+10 Primal inf 3.276e+08 (9305)\n",
      "18462  Obj 2.9238636e+10 Primal inf 1.7564424e+08 (9441)\n",
      "18824  Obj 2.9574918e+10 Primal inf 3.1799837e+08 (9645)\n",
      "19186  Obj 2.9910959e+10 Primal inf 6.324428e+08 (9125)\n",
      "19548  Obj 3.0127602e+10 Primal inf 2.0407776e+08 (9298)\n",
      "19910  Obj 3.0373179e+10 Primal inf 49144564 (2945)\n",
      "20272  Obj 3.0610533e+10 Primal inf 1.149006e+08 (3270)\n",
      "20634  Obj 3.0864147e+10 Primal inf 36141107 (2748)\n",
      "20996  Obj 3.1033486e+10 Primal inf 86657637 (3316)\n",
      "21358  Obj 3.1297573e+10 Primal inf 2.0842384e+08 (9390)\n",
      "21720  Obj 3.1559762e+10 Primal inf 62974133 (2536)\n",
      "22082  Obj 3.1734679e+10 Primal inf 63764861 (3302)\n",
      "22444  Obj 3.189282e+10 Primal inf 2.7750299e+08 (8662)\n",
      "22806  Obj 3.2046798e+10 Primal inf 10442201 (1462)\n",
      "23168  Obj 3.2152012e+10 Primal inf 1268180.6 (633)\n",
      "23530  Obj 3.2192095e+10 Primal inf 69139.295 (146)\n",
      "23613  Obj 3.2192493e+10\n",
      "Optimal - objective value 3.2192484e+10\n",
      "After Postsolve, objective 3.2192484e+10, infeasibilities - dual 0 (0), primal 4.3081284e-09 (1)\n",
      "Presolved model was optimal, full model needs cleaning up\n",
      "Optimal - objective value 3.2192484e+10\n",
      "Optimal objective 3.219248422e+10 - 23613 iterations time 7.702, Presolve 0.03\n",
      "Total time (CPU seconds):       8.29   (Wallclock seconds):       8.03\n",
      "\n"
     ]
    },
    {
     "name": "stderr",
     "output_type": "stream",
     "text": [
      "INFO:linopy.constants: Optimization successful: \n",
      "Status: ok\n",
      "Termination condition: optimal\n",
      "Solution: 21906 primals, 50377 duals\n",
      "Objective: 3.22e+10\n",
      "Solver model: not available\n",
      "Solver message: Optimal - objective value 32192484221.21506882\n",
      "\n",
      "\n",
      "<__array_function__ internals>:200: RuntimeWarning:\n",
      "\n",
      "invalid value encountered in cast\n",
      "\n",
      "<__array_function__ internals>:200: RuntimeWarning:\n",
      "\n",
      "invalid value encountered in cast\n",
      "\n",
      "<__array_function__ internals>:200: RuntimeWarning:\n",
      "\n",
      "invalid value encountered in cast\n",
      "\n",
      "INFO:linopy.model: Solve linear problem using Cbc solver\n",
      "INFO:linopy.io:Writing objective.\n",
      "Writing constraints.: 100%|████████████████████████████████████████████████████████████████████████████████████████████████████████████████████████████████████████████████████████| 15/15 [00:00<00:00, 74.63it/s]\n",
      "Writing variables.: 100%|███████████████████████████████████████████████████████████████████████████████████████████████████████████████████████████████████████████████████████████| 7/7 [00:00<00:00, 211.63it/s]\n",
      "INFO:linopy.io: Writing time: 0.27s\n"
     ]
    },
    {
     "name": "stdout",
     "output_type": "stream",
     "text": [
      "Welcome to the CBC MILP Solver \n",
      "Version: 2.10.9 \n",
      "Build Date: Apr 14 2023 \n",
      "\n",
      "command line - cbc -printingOptions all -import /tmp/linopy-problem-f_7xb3w5.lp -solve -solu /tmp/linopy-solve-xhuok5u5.sol (default strategy 1)\n",
      "Option for printingOptions changed from normal to all\n",
      "Presolve 27421 (-22956) rows, 20856 (-1050) columns and 77880 (-24006) elements\n",
      "Perturbing problem by 0.001% of 232.80852 - largest nonzero change 0.00033269303 ( 6.8859498%) - largest zero change 0.0003312509\n",
      "0  Obj 0 Primal inf 1.7299319e+08 (2190)\n",
      "362  Obj 1533.1194 Primal inf 2.0311713e+08 (2526)\n",
      "724  Obj 57854.02 Primal inf 2.361395e+08 (2828)\n",
      "1086  Obj 2.7945624e+09 Primal inf 2.6149484e+08 (3052)\n",
      "1448  Obj 3.028221e+09 Primal inf 2.7838941e+08 (3215)\n",
      "1810  Obj 3.2790364e+09 Primal inf 2.8919514e+08 (3325)\n",
      "2172  Obj 3.5661457e+09 Primal inf 2.9340496e+08 (3404)\n",
      "2534  Obj 3.8615063e+09 Primal inf 3.0078978e+08 (3476)\n",
      "2896  Obj 4.1368103e+09 Primal inf 3.0506133e+08 (3523)\n",
      "3258  Obj 4.3553899e+09 Primal inf 3.0659227e+08 (3566)\n",
      "3620  Obj 4.5115102e+09 Primal inf 2.9965418e+08 (3578)\n",
      "3982  Obj 4.7012691e+09 Primal inf 3.0619856e+08 (3619)\n",
      "4344  Obj 4.929369e+09 Primal inf 2.9669714e+08 (3640)\n",
      "4706  Obj 5.0927827e+09 Primal inf 2.9536912e+08 (3672)\n",
      "5068  Obj 5.4361429e+09 Primal inf 2.8590575e+08 (3668)\n",
      "5430  Obj 5.6866904e+09 Primal inf 2.8082087e+08 (3669)\n",
      "5792  Obj 7.2536031e+09 Primal inf 2.7428801e+08 (4606)\n",
      "6154  Obj 7.2537266e+09 Primal inf 2.8242567e+08 (4622)\n",
      "6516  Obj 7.2602496e+09 Primal inf 2.9143249e+08 (4643)\n",
      "6878  Obj 8.466229e+09 Primal inf 3.0149257e+08 (4602)\n",
      "7240  Obj 8.4667281e+09 Primal inf 3.2981265e+08 (4621)\n",
      "7602  Obj 8.4669507e+09 Primal inf 3.1838927e+08 (4608)\n",
      "7964  Obj 8.4676276e+09 Primal inf 3.6410692e+08 (4625)\n",
      "8326  Obj 8.4681239e+09 Primal inf 3.8987487e+08 (4600)\n",
      "8688  Obj 8.486861e+09 Primal inf 4.1481508e+08 (4604)\n",
      "9050  Obj 8.5355467e+09 Primal inf 3.9885201e+08 (4619)\n",
      "9412  Obj 8.5367434e+09 Primal inf 4.1181767e+08 (4593)\n",
      "9774  Obj 8.5372608e+09 Primal inf 4.4445776e+08 (4591)\n",
      "10136  Obj 8.5396287e+09 Primal inf 4.5677095e+08 (4545)\n",
      "10498  Obj 8.573146e+09 Primal inf 4.7041794e+08 (4578)\n",
      "10860  Obj 9.443411e+09 Primal inf 5.7035942e+08 (4538)\n",
      "11222  Obj 1.042025e+10 Primal inf 4.8428356e+08 (4494)\n",
      "11584  Obj 1.0450365e+10 Primal inf 5.3067131e+08 (4445)\n",
      "11946  Obj 1.1326814e+10 Primal inf 5.9901304e+08 (4410)\n",
      "12308  Obj 1.1327243e+10 Primal inf 6.0425777e+08 (4423)\n",
      "12670  Obj 1.1396958e+10 Primal inf 6.29464e+08 (4465)\n",
      "13032  Obj 1.2585236e+10 Primal inf 5.6668184e+09 (9777)\n",
      "13394  Obj 1.4028002e+10 Primal inf 6.1422766e+08 (4893)\n",
      "13756  Obj 1.5565359e+10 Primal inf 3.7448983e+09 (9745)\n",
      "14118  Obj 1.6898579e+10 Primal inf 1.5081662e+09 (9460)\n",
      "14480  Obj 1.7836642e+10 Primal inf 4.8840024e+08 (8963)\n",
      "14842  Obj 1.7915658e+10 Primal inf 1.1816291e+09 (9717)\n",
      "15204  Obj 1.8364471e+10 Primal inf 3.9809789e+08 (3721)\n",
      "15566  Obj 1.9627603e+10 Primal inf 4.1100646e+08 (3767)\n",
      "15928  Obj 2.1997716e+10 Primal inf 4.6581052e+08 (5705)\n",
      "16290  Obj 2.2232969e+10 Primal inf 1.4666882e+09 (11709)\n",
      "16652  Obj 2.2382393e+10 Primal inf 1.2622277e+09 (11656)\n",
      "17014  Obj 2.4316492e+10 Primal inf 2.471002e+09 (15479)\n",
      "17376  Obj 2.5791401e+10 Primal inf 6.7307218e+09 (9996)\n",
      "17738  Obj 2.7268544e+10 Primal inf 1.0132455e+09 (11910)\n",
      "18100  Obj 2.8186789e+10 Primal inf 2.5641763e+08 (4397)\n",
      "18462  Obj 2.9083822e+10 Primal inf 1.2041696e+09 (9814)\n",
      "18824  Obj 2.9626495e+10 Primal inf 4.6721907e+08 (9335)\n",
      "19186  Obj 3.0522782e+10 Primal inf 2.7454358e+08 (4999)\n",
      "19548  Obj 3.1305711e+10 Primal inf 1.8207596e+08 (3989)\n",
      "19910  Obj 3.2135114e+10 Primal inf 3.4493632e+08 (9547)\n",
      "20272  Obj 3.3128274e+10 Primal inf 3.5185179e+08 (8343)\n",
      "20634  Obj 3.364899e+10 Primal inf 1.8638536e+08 (8888)\n",
      "20996  Obj 3.4036547e+10 Primal inf 2.1976718e+08 (2876)\n",
      "21358  Obj 3.4585973e+10 Primal inf 1.4026282e+08 (3757)\n",
      "21720  Obj 3.4994305e+10 Primal inf 62563577 (2928)\n",
      "22082  Obj 3.5191946e+10 Primal inf 48947595 (2571)\n",
      "22444  Obj 3.5645316e+10 Primal inf 1.6405757e+08 (9309)\n",
      "22806  Obj 3.6023301e+10 Primal inf 1.2454776e+08 (8664)\n"
     ]
    },
    {
     "name": "stderr",
     "output_type": "stream",
     "text": [
      "INFO:linopy.constants: Optimization successful: \n",
      "Status: ok\n",
      "Termination condition: optimal\n",
      "Solution: 21906 primals, 50377 duals\n",
      "Objective: 3.76e+10\n",
      "Solver model: not available\n",
      "Solver message: Optimal - objective value 37628517831.69555664\n",
      "\n",
      "\n"
     ]
    },
    {
     "name": "stdout",
     "output_type": "stream",
     "text": [
      "23168  Obj 3.6451207e+10 Primal inf 56014434 (2342)\n",
      "23530  Obj 3.6729899e+10 Primal inf 23380610 (1991)\n",
      "23892  Obj 3.6985376e+10 Primal inf 12788319 (1589)\n",
      "24254  Obj 3.7258081e+10 Primal inf 57408719 (2343)\n",
      "24616  Obj 3.7444133e+10 Primal inf 1.1556788e+08 (8484)\n",
      "24978  Obj 3.7539026e+10 Primal inf 12343098 (1414)\n",
      "25340  Obj 3.7602564e+10 Primal inf 2558856.2 (482)\n",
      "25702  Obj 3.7623011e+10 Primal inf 3166611.3 (2507)\n",
      "25987  Obj 3.7628535e+10\n",
      "Optimal - objective value 3.7628518e+10\n",
      "After Postsolve, objective 3.7628518e+10, infeasibilities - dual 0 (0), primal 0 (0)\n",
      "Optimal objective 3.762851783e+10 - 25987 iterations time 7.182, Presolve 0.03\n",
      "Total time (CPU seconds):       7.81   (Wallclock seconds):       7.45\n",
      "\n"
     ]
    },
    {
     "name": "stderr",
     "output_type": "stream",
     "text": [
      "<__array_function__ internals>:200: RuntimeWarning:\n",
      "\n",
      "invalid value encountered in cast\n",
      "\n",
      "<__array_function__ internals>:200: RuntimeWarning:\n",
      "\n",
      "invalid value encountered in cast\n",
      "\n",
      "<__array_function__ internals>:200: RuntimeWarning:\n",
      "\n",
      "invalid value encountered in cast\n",
      "\n",
      "INFO:linopy.model: Solve linear problem using Cbc solver\n",
      "INFO:linopy.io:Writing objective.\n",
      "Writing constraints.: 100%|████████████████████████████████████████████████████████████████████████████████████████████████████████████████████████████████████████████████████████| 15/15 [00:00<00:00, 74.86it/s]\n",
      "Writing variables.: 100%|███████████████████████████████████████████████████████████████████████████████████████████████████████████████████████████████████████████████████████████| 7/7 [00:00<00:00, 230.04it/s]\n",
      "INFO:linopy.io: Writing time: 0.26s\n"
     ]
    },
    {
     "name": "stdout",
     "output_type": "stream",
     "text": [
      "Welcome to the CBC MILP Solver \n",
      "Version: 2.10.9 \n",
      "Build Date: Apr 14 2023 \n",
      "\n",
      "command line - cbc -printingOptions all -import /tmp/linopy-problem-xp52xnq6.lp -solve -solu /tmp/linopy-solve-5r40nouz.sol (default strategy 1)\n",
      "Option for printingOptions changed from normal to all\n",
      "Presolve 25230 (-25147) rows, 18665 (-3241) columns and 69120 (-32766) elements\n",
      "Perturbing problem by 0.001% of 232.80852 - largest nonzero change 0.00032089483 ( 6.9617437%) - largest zero change 0.00032065496\n",
      "0  Obj 0 Primal inf 1.7299319e+08 (2190)\n",
      "351  Obj 1493.2063 Primal inf 2.0196111e+08 (2516)\n",
      "702  Obj 19768.495 Primal inf 2.3707684e+08 (2831)\n",
      "1053  Obj 1.1549822e+10 Primal inf 1.9381022e+08 (2257)\n",
      "1404  Obj 1.7620177e+10 Primal inf 2.9268993e+08 (3146)\n",
      "1755  Obj 1.7620284e+10 Primal inf 3.6478163e+08 (3210)\n",
      "2106  Obj 1.7620435e+10 Primal inf 3.2845084e+08 (3259)\n",
      "2457  Obj 1.7620597e+10 Primal inf 9.9330283e+08 (3313)\n",
      "2808  Obj 1.7623491e+10 Primal inf 3.7836884e+08 (3344)\n",
      "3159  Obj 1.7623614e+10 Primal inf 3.7605744e+08 (3404)\n",
      "3510  Obj 1.7624145e+10 Primal inf 6.5527629e+08 (3584)\n",
      "3861  Obj 1.7630191e+10 Primal inf 4.836553e+08 (3558)\n",
      "4212  Obj 1.7637327e+10 Primal inf 3.6452709e+08 (3426)\n",
      "4563  Obj 1.7643675e+10 Primal inf 3.9795756e+08 (3493)\n",
      "4914  Obj 1.7644123e+10 Primal inf 5.014827e+08 (3625)\n",
      "5265  Obj 1.764462e+10 Primal inf 5.0320631e+08 (3606)\n",
      "5616  Obj 1.7652088e+10 Primal inf 5.1472048e+08 (3640)\n",
      "5967  Obj 1.76532e+10 Primal inf 5.8120096e+08 (3704)\n",
      "6318  Obj 1.7670355e+10 Primal inf 5.5904787e+08 (3774)\n",
      "6669  Obj 1.7708111e+10 Primal inf 6.5391496e+08 (3774)\n",
      "7020  Obj 1.7738024e+10 Primal inf 5.5361732e+08 (3812)\n",
      "7371  Obj 1.7758126e+10 Primal inf 8.1179349e+08 (3831)\n",
      "7722  Obj 1.776796e+10 Primal inf 7.6477978e+08 (3779)\n",
      "8073  Obj 1.7768416e+10 Primal inf 5.2827885e+08 (3867)\n",
      "8424  Obj 1.7809869e+10 Primal inf 6.8132474e+08 (3828)\n",
      "8775  Obj 1.7816457e+10 Primal inf 6.0773624e+08 (3921)\n",
      "9126  Obj 1.7816777e+10 Primal inf 6.4389109e+08 (3918)\n",
      "9477  Obj 1.7826022e+10 Primal inf 6.5040119e+08 (3950)\n",
      "9828  Obj 1.784211e+10 Primal inf 6.166331e+08 (3976)\n",
      "10179  Obj 1.7903697e+10 Primal inf 6.1843414e+08 (4074)\n",
      "10530  Obj 1.7985924e+10 Primal inf 6.4959172e+08 (4196)\n",
      "10881  Obj 3.8123052e+10 Primal inf 9.2860155e+08 (4280)\n",
      "11232  Obj 3.8193673e+10 Primal inf 6.8463573e+08 (4249)\n",
      "11583  Obj 3.8193859e+10 Primal inf 6.6242169e+08 (4323)\n",
      "11934  Obj 3.82106e+10 Primal inf 7.0990071e+08 (4388)\n",
      "12285  Obj 3.8212013e+10 Primal inf 6.3266758e+08 (4329)\n",
      "12636  Obj 3.8212282e+10 Primal inf 8.7790208e+08 (4447)\n",
      "12987  Obj 4.1035129e+10 Primal inf 3.8442473e+08 (3887)\n",
      "13338  Obj 4.1035508e+10 Primal inf 3.8191804e+08 (3925)\n",
      "13689  Obj 4.1035705e+10 Primal inf 3.765092e+08 (3890)\n",
      "14040  Obj 4.1036052e+10 Primal inf 3.9453949e+08 (3899)\n",
      "14391  Obj 4.1036193e+10 Primal inf 4.9798692e+08 (3964)\n",
      "14742  Obj 4.1568851e+10 Primal inf 3.4499258e+08 (3742)\n",
      "15093  Obj 4.5204025e+10 Primal inf 6.180943e+08 (3949)\n",
      "15444  Obj 4.5837092e+10 Primal inf 6.7152287e+08 (3933)\n",
      "15795  Obj 4.7386818e+10 Primal inf 3.7165131e+08 (3766)\n",
      "16146  Obj 4.7401427e+10 Primal inf 4.9849665e+08 (3956)\n",
      "16497  Obj 5.1970257e+10 Primal inf 2.509646e+08 (3482)\n",
      "16848  Obj 5.7424444e+10 Primal inf 8.4235339e+08 (9594)\n",
      "17199  Obj 5.8532667e+10 Primal inf 2.0016063e+10 (10734)\n",
      "17550  Obj 5.9097603e+10 Primal inf 1.0031852e+09 (8894)\n",
      "17901  Obj 5.9831208e+10 Primal inf 5.7326898e+08 (9850)\n",
      "18252  Obj 6.0022214e+10 Primal inf 1.8411839e+08 (3169)\n",
      "18603  Obj 6.1172828e+10 Primal inf 5.7151896e+09 (12368)\n",
      "18954  Obj 6.2157065e+10 Primal inf 5.9278491e+08 (8639)\n",
      "19305  Obj 6.2778333e+10 Primal inf 1.7558627e+08 (2903)\n",
      "19656  Obj 6.2955272e+10 Primal inf 2.5125718e+08 (3440)\n",
      "20007  Obj 6.3532519e+10 Primal inf 4.7918574e+08 (4282)\n",
      "20358  Obj 6.4172493e+10 Primal inf 1.9074278e+09 (6058)\n",
      "20709  Obj 6.4717823e+10 Primal inf 6.3602933e+08 (4520)\n",
      "21060  Obj 6.4900795e+10 Primal inf 2.1304668e+08 (2983)\n",
      "21411  Obj 6.525544e+10 Primal inf 5.2811631e+08 (8801)\n",
      "21762  Obj 6.5538865e+10 Primal inf 1.9975965e+08 (8334)\n",
      "22113  Obj 6.5723433e+10 Primal inf 5406475.5 (633)\n",
      "22464  Obj 6.5804542e+10 Primal inf 1330054.1 (220)\n",
      "22801  Obj 6.5813275e+10\n",
      "Optimal - objective value 6.581318e+10\n",
      "After Postsolve, objective 6.581318e+10, infeasibilities - dual 0 (0), primal 0 (0)\n",
      "Optimal objective 6.58131804e+10 - 22801 iterations time 3.222, Presolve 0.03\n",
      "Total time (CPU seconds):       3.82   (Wallclock seconds):       3.53\n",
      "\n"
     ]
    },
    {
     "name": "stderr",
     "output_type": "stream",
     "text": [
      "INFO:linopy.constants: Optimization successful: \n",
      "Status: ok\n",
      "Termination condition: optimal\n",
      "Solution: 21906 primals, 50377 duals\n",
      "Objective: 6.58e+10\n",
      "Solver model: not available\n",
      "Solver message: Optimal - objective value 65813180398.48292542\n",
      "\n",
      "\n"
     ]
    }
   ],
   "source": [
    "sensitivity = {}\n",
    "for co2 in [150,100,50,25,0]:\n",
    "    n.global_constraints.loc[\"CO2Limit\", \"constant\"] = co2 * 1e6\n",
    "    n.optimize(solver_name='cbc')\n",
    "    sensitivity[co2] = system_cost(n)"
   ]
  },
  {
   "cell_type": "code",
   "execution_count": 109,
   "metadata": {},
   "outputs": [
    {
     "data": {
      "text/plain": [
       "<matplotlib.legend.Legend at 0x7fa2d1de5910>"
      ]
     },
     "execution_count": 109,
     "metadata": {},
     "output_type": "execute_result"
    },
    {
     "data": {
      "image/png": "[encoded data removed]",
      "text/plain": [
       "<Figure size 400x400 with 1 Axes>"
      ]
     },
     "metadata": {},
     "output_type": "display_data"
    }
   ],
   "source": [
    "df = pd.DataFrame(sensitivity).T.div(1e3) # billion Euro/a\n",
    "df.plot.area(\n",
    "    stacked=True,\n",
    "    linewidth=0,\n",
    "    color=df.columns.map(n.carriers.color),\n",
    "    figsize=(4,4),\n",
    "    xlim=(0,150),\n",
    "    xlabel=r\"CO$_2$ emissions [Mt/a]\",\n",
    "    ylabel=\"System cost [bn€/a]\",\n",
    "    ylim=(0,100),\n",
    ")\n",
    "plt.legend(frameon=False, loc=(1.05, 0))"
   ]
  },
  {
   "cell_type": "raw",
   "metadata": {},
   "source": [
    "sensitivity = {}\n",
    "for solar_cost in [0, 20, 40, 60, 80, 100, 150]:\n",
    "    n.generators.loc[\"solar\", \"capital_cost\"] = solar_cost * 1e3\n",
    "    n.optimize(solver_name='cbc')\n",
    "    sensitivity[solar_cost] = system_cost(n)\n",
    "n.generators.loc[\"solar\", \"capital_cost\"] = 40 * 1e3"
   ]
  },
  {
   "cell_type": "raw",
   "metadata": {},
   "source": [
    "df = pd.DataFrame(sensitivity).T.div(1e3) # billion Euro/a\n",
    "df.plot.area(\n",
    "    stacked=True,\n",
    "    linewidth=0,\n",
    "    color=df.columns.map(n.carriers.color),\n",
    "    figsize=(4,4),\n",
    "    xlim=(0,150),\n",
    "    xlabel=\"Solar Capital Cost [€/MW/a]\",\n",
    "    ylabel=\"System cost [bn€/a]\",\n",
    "    ylim=(0,100),\n",
    ")"
   ]
  },
  {
   "cell_type": "raw",
   "metadata": {},
   "source": [
    "sensitivity = {}\n",
    "for offwind_potential in [0, 50, 100, 150]:\n",
    "    n.generators.loc[\"offwind\", \"p_nom_max\"] = offwind_potential * 1e3\n",
    "    n.optimize(solver_name='cbc')\n",
    "    sensitivity[offwind_potential] = system_cost(n)"
   ]
  },
  {
   "cell_type": "raw",
   "metadata": {
    "tags": [
     "hide-cell"
    ]
   },
   "source": [
    "df = pd.DataFrame(sensitivity).T.div(1e3) # billion Euro/a\n",
    "df.plot.area(\n",
    "    stacked=True,\n",
    "    linewidth=0,\n",
    "    color=df.columns.map(n.carriers.color),\n",
    "    figsize=(4,4),\n",
    "    xlim=(0,150),\n",
    "    xlabel=\"Offshore Wind Potential [GW]\",\n",
    "    ylabel=\"System cost [bn€/a]\",\n",
    "    ylim=(0,100),\n",
    ")"
   ]
  },
  {
   "cell_type": "markdown",
   "metadata": {},
   "source": [
    "## Exercises"
   ]
  },
  {
   "cell_type": "markdown",
   "metadata": {},
   "source": [
    "Explore the model by changing the assumptions and available technologies. Here are a few inspirations:\n",
    "\n",
    "- Rerun the model with cost assumptions for 2050.\n",
    "- What if either hydrogen or battery storage cannot be expanded?\n",
    "- What if you can either only build solar or only build wind?\n",
    "- What if we had a flat electricity demand profile (like in [model.energy](https://model.energy), i.e. average the demand time series)?\n",
    "- Vary the energy-to-power ratio of the hydrogen storage. What ratio leads to lowest costs?\n",
    "- How bad is the 4-hourly resolution used for demonstration? How does it compare to hourly or 2-hourly resolution?\n",
    "- On [model.energy](https://model.energy), you can download capacity factors for onshore wind and solar for any region in the world. Drop offshore wind from the model and use the onshore wind and solar prices from another region of the world. Try a few. What changes?\n",
    "- Add nuclear as another dispatchable low-emission generation technology (similar to OCGT). Perform a sensitivity analysis trying to answer how low the capital cost of a nuclear plant would need to be to be chosen."
   ]
  },
  {
   "cell_type": "raw",
   "metadata": {},
   "source": []
  },
  {
   "cell_type": "code",
   "execution_count": null,
   "metadata": {},
   "outputs": [],
   "source": []
  }
 ],
 "metadata": {
  "kernelspec": {
   "display_name": "Python 3 (ipykernel)",
   "language": "python",
   "name": "python3"
  },
  "language_info": {
   "codemirror_mode": {
    "name": "ipython",
    "version": 3
   },
   "file_extension": ".py",
   "mimetype": "text/x-python",
   "name": "python",
   "nbconvert_exporter": "python",
   "pygments_lexer": "ipython3",
   "version": "3.11.3"
  },
  "vscode": {
   "interpreter": {
    "hash": "69786ae8c799a179d39b18fbc76c1e4e4ca1662535939a7096f8f45ee1440c35"
   }
  }
 },
 "nbformat": 4,
 "nbformat_minor": 4
}
