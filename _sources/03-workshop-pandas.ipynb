{
 "cells": [
  {
   "cell_type": "markdown",
   "metadata": {},
   "source": [
    "# Introduction to `pandas`"
   ]
  },
  {
   "cell_type": "markdown",
   "metadata": {},
   "source": [
    ":::{note}\n",
    "This material is mostly adapted from the following resources:\n",
    "- https://earth-env-data-science.github.io/lectures/pandas/pandas_intro.html\n",
    "- https://www.tomasbeuzen.com/python-programming-for-data-science/chapters/chapter7-pandas.html\n",
    ":::"
   ]
  },
  {
   "cell_type": "markdown",
   "metadata": {},
   "source": [
    "<img src=\"https://pandas.pydata.org/static/img/pandas.svg\" width=\"300px\" />\n",
    "\n",
    "[Pandas](http://pandas.pydata.org/) is a an open source library providing high-performance, easy-to-use data structures and data analysis tools. Pandas is particularly suited to the analysis of _tabular_ data, i.e. data that can can go into a table. In other words, if you can imagine the data in an Excel spreadsheet, then Pandas is the tool for the job.\n",
    "\n",
    "- A fast and efficient DataFrame object for data manipulation with indexing;\n",
    "- Tools for reading and writing data: CSV and text files, Excel, SQL;\n",
    "- Intelligent data alignment and integrated handling of missing data;\n",
    "- Flexible reshaping and pivoting of data sets;\n",
    "- Intelligent label-based slicing, indexing, and subsetting of large data sets;\n",
    "- High performance aggregating, merging, joining or transforming data;\n",
    "- Hierarchical indexing provides an intuitive way of working with high-dimensional data;\n",
    "- Time series-functionality: date-based indexing, frequency conversion, moving windows, date shifting and lagging;"
   ]
  },
  {
   "cell_type": "code",
   "execution_count": 102,
   "metadata": {},
   "outputs": [
    {
     "data": {
      "text/html": [
       "<img src=\"https://media.geeksforgeeks.org/wp-content/cdn-uploads/creating_dataframe1.png\" width=\"720\"/>"
      ],
      "text/plain": [
       "<IPython.core.display.Image object>"
      ]
     },
     "execution_count": 102,
     "metadata": {},
     "output_type": "execute_result"
    }
   ],
   "source": [
    "from IPython.display import Image\n",
    "Image(url='https://media.geeksforgeeks.org/wp-content/cdn-uploads/creating_dataframe1.png',\n",
    "     width=720)"
   ]
  },
  {
   "cell_type": "markdown",
   "metadata": {},
   "source": [
    ":::{note}\n",
    "Documentation for this package is available at https://pandas.pydata.org/docs/.\n",
    ":::"
   ]
  },
  {
   "cell_type": "code",
   "execution_count": 103,
   "metadata": {},
   "outputs": [],
   "source": [
    "import pandas as pd\n",
    "import numpy as np\n",
    "import matplotlib.pyplot as plt"
   ]
  },
  {
   "cell_type": "markdown",
   "metadata": {
    "tags": []
   },
   "source": [
    "## Pandas Data Structures: Series\n",
    "\n",
    "A Series represents a one-dimensional array of data. The main difference between a Series and numpy array is that a Series has an **index**. The index contains the labels that we use to access the data.\n",
    "\n",
    "There are many ways to [create a Series](https://pandas.pydata.org/pandas-docs/stable/dsintro.html#series). We will just show a few. The core constructor is `pd.Series()`.\n",
    "\n",
    "(Data are from Wikipedia's [List of power stations in Germany](https://en.wikipedia.org/wiki/List_of_power_stations_in_Germany#Nuclear).)"
   ]
  },
  {
   "cell_type": "code",
   "execution_count": 104,
   "metadata": {},
   "outputs": [
    {
     "data": {
      "text/plain": [
       "Neckarwestheim    1269\n",
       "Essenbach         1365\n",
       "Emsland           1290\n",
       "dtype: int64"
      ]
     },
     "execution_count": 104,
     "metadata": {},
     "output_type": "execute_result"
    }
   ],
   "source": [
    "names = ['Neckarwestheim', 'Essenbach', 'Emsland']\n",
    "values = [1269, 1365, 1290]\n",
    "s = pd.Series(values, index=names)\n",
    "s"
   ]
  },
  {
   "cell_type": "code",
   "execution_count": 105,
   "metadata": {},
   "outputs": [
    {
     "data": {
      "text/plain": [
       "Neckarwestheim    1269\n",
       "Essenbach         1365\n",
       "Emsland           1290\n",
       "dtype: int64"
      ]
     },
     "execution_count": 105,
     "metadata": {},
     "output_type": "execute_result"
    }
   ],
   "source": [
    "dictionary = {\n",
    "    'Neckarwestheim': 1269,\n",
    "    'Essenbach': 1365,\n",
    "    'Emsland': 1290,\n",
    "}\n",
    "s = pd.Series(dictionary)\n",
    "s"
   ]
  },
  {
   "cell_type": "markdown",
   "metadata": {},
   "source": [
    "Arithmetic operations and most `numpy` functions can be applied to `pd.Series`.\n",
    "An important point is that the Series keep their index during such operations."
   ]
  },
  {
   "cell_type": "code",
   "execution_count": 106,
   "metadata": {},
   "outputs": [
    {
     "data": {
      "text/plain": [
       "Neckarwestheim    0.200600\n",
       "Essenbach         0.195391\n",
       "Emsland           0.199418\n",
       "dtype: float64"
      ]
     },
     "execution_count": 106,
     "metadata": {},
     "output_type": "execute_result"
    }
   ],
   "source": [
    "np.log(s) / s**0.5"
   ]
  },
  {
   "cell_type": "markdown",
   "metadata": {},
   "source": [
    "We can access the underlying index object if we need to:"
   ]
  },
  {
   "cell_type": "code",
   "execution_count": 107,
   "metadata": {},
   "outputs": [
    {
     "data": {
      "text/plain": [
       "Index(['Neckarwestheim', 'Essenbach', 'Emsland'], dtype='object')"
      ]
     },
     "execution_count": 107,
     "metadata": {},
     "output_type": "execute_result"
    }
   ],
   "source": [
    "s.index"
   ]
  },
  {
   "cell_type": "markdown",
   "metadata": {},
   "source": [
    "We can get values back out using the index via the `.loc` attribute"
   ]
  },
  {
   "cell_type": "code",
   "execution_count": 108,
   "metadata": {},
   "outputs": [
    {
     "data": {
      "text/plain": [
       "1290"
      ]
     },
     "execution_count": 108,
     "metadata": {},
     "output_type": "execute_result"
    }
   ],
   "source": [
    "s.loc['Emsland']"
   ]
  },
  {
   "cell_type": "markdown",
   "metadata": {},
   "source": [
    "Or by raw position using `.iloc`"
   ]
  },
  {
   "cell_type": "code",
   "execution_count": 109,
   "metadata": {},
   "outputs": [
    {
     "data": {
      "text/plain": [
       "1290"
      ]
     },
     "execution_count": 109,
     "metadata": {},
     "output_type": "execute_result"
    }
   ],
   "source": [
    "s.iloc[2]"
   ]
  },
  {
   "cell_type": "markdown",
   "metadata": {},
   "source": [
    "We can pass a list or array to loc to get multiple rows back:"
   ]
  },
  {
   "cell_type": "code",
   "execution_count": 110,
   "metadata": {},
   "outputs": [
    {
     "data": {
      "text/plain": [
       "Neckarwestheim    1269\n",
       "Emsland           1290\n",
       "dtype: int64"
      ]
     },
     "execution_count": 110,
     "metadata": {},
     "output_type": "execute_result"
    }
   ],
   "source": [
    "s.loc[['Neckarwestheim', 'Emsland']]"
   ]
  },
  {
   "cell_type": "markdown",
   "metadata": {},
   "source": [
    "And we can even use slice notation"
   ]
  },
  {
   "cell_type": "code",
   "execution_count": 111,
   "metadata": {},
   "outputs": [
    {
     "data": {
      "text/plain": [
       "Neckarwestheim    1269\n",
       "Essenbach         1365\n",
       "Emsland           1290\n",
       "dtype: int64"
      ]
     },
     "execution_count": 111,
     "metadata": {},
     "output_type": "execute_result"
    }
   ],
   "source": [
    "s.loc['Neckarwestheim':'Emsland']"
   ]
  },
  {
   "cell_type": "code",
   "execution_count": 112,
   "metadata": {},
   "outputs": [
    {
     "data": {
      "text/plain": [
       "Neckarwestheim    1269\n",
       "Essenbach         1365\n",
       "dtype: int64"
      ]
     },
     "execution_count": 112,
     "metadata": {},
     "output_type": "execute_result"
    }
   ],
   "source": [
    "s.iloc[:2]"
   ]
  },
  {
   "cell_type": "markdown",
   "metadata": {},
   "source": [
    "If we need to, we can always get the raw data back out as well"
   ]
  },
  {
   "cell_type": "code",
   "execution_count": 113,
   "metadata": {},
   "outputs": [
    {
     "data": {
      "text/plain": [
       "array([1269, 1365, 1290])"
      ]
     },
     "execution_count": 113,
     "metadata": {},
     "output_type": "execute_result"
    }
   ],
   "source": [
    "s.values # a numpy array"
   ]
  },
  {
   "cell_type": "markdown",
   "metadata": {},
   "source": [
    "## Pandas Data Structures: DataFrame\n",
    "\n",
    "There is a lot more to Series, but they are limit to a single **column**. A more useful Pandas data structure is the **DataFrame**. A DataFrame is basically a bunch of series that share the same index. It's a lot like a table in a spreadsheet.\n",
    "\n",
    "The core constructor is `pd.DataFrame()`\n",
    "\n",
    "Below we create a DataFrame."
   ]
  },
  {
   "cell_type": "code",
   "execution_count": 114,
   "metadata": {},
   "outputs": [
    {
     "data": {
      "text/html": [
       "<div>\n",
       "<style scoped>\n",
       "    .dataframe tbody tr th:only-of-type {\n",
       "        vertical-align: middle;\n",
       "    }\n",
       "\n",
       "    .dataframe tbody tr th {\n",
       "        vertical-align: top;\n",
       "    }\n",
       "\n",
       "    .dataframe thead th {\n",
       "        text-align: right;\n",
       "    }\n",
       "</style>\n",
       "<table border=\"1\" class=\"dataframe\">\n",
       "  <thead>\n",
       "    <tr style=\"text-align: right;\">\n",
       "      <th></th>\n",
       "      <th>capacity</th>\n",
       "      <th>type</th>\n",
       "      <th>start_year</th>\n",
       "      <th>end_year</th>\n",
       "    </tr>\n",
       "  </thead>\n",
       "  <tbody>\n",
       "    <tr>\n",
       "      <th>Neckarwestheim</th>\n",
       "      <td>1269</td>\n",
       "      <td>PWR</td>\n",
       "      <td>1989</td>\n",
       "      <td>NaN</td>\n",
       "    </tr>\n",
       "    <tr>\n",
       "      <th>Essenbach</th>\n",
       "      <td>1365</td>\n",
       "      <td>PWR</td>\n",
       "      <td>1988</td>\n",
       "      <td>NaN</td>\n",
       "    </tr>\n",
       "    <tr>\n",
       "      <th>Emsland</th>\n",
       "      <td>1290</td>\n",
       "      <td>PWR</td>\n",
       "      <td>1988</td>\n",
       "      <td>NaN</td>\n",
       "    </tr>\n",
       "  </tbody>\n",
       "</table>\n",
       "</div>"
      ],
      "text/plain": [
       "                capacity type  start_year  end_year\n",
       "Neckarwestheim      1269  PWR        1989       NaN\n",
       "Essenbach           1365  PWR        1988       NaN\n",
       "Emsland             1290  PWR        1988       NaN"
      ]
     },
     "execution_count": 114,
     "metadata": {},
     "output_type": "execute_result"
    }
   ],
   "source": [
    "# first we create a dictionary\n",
    "data = {'capacity': [1269, 1365, 1290], # MW\n",
    "        'type': [\"PWR\", \"PWR\", \"PWR\"],\n",
    "        'start_year': [1989, 1988, 1988],\n",
    "        'end_year': [np.nan, np.nan, np.nan]\n",
    "       }\n",
    "df = pd.DataFrame(data, index=['Neckarwestheim', 'Essenbach', 'Emsland'])\n",
    "df"
   ]
  },
  {
   "cell_type": "markdown",
   "metadata": {},
   "source": [
    "We can also switch columns and rows very easily."
   ]
  },
  {
   "cell_type": "code",
   "execution_count": 115,
   "metadata": {},
   "outputs": [
    {
     "data": {
      "text/html": [
       "<div>\n",
       "<style scoped>\n",
       "    .dataframe tbody tr th:only-of-type {\n",
       "        vertical-align: middle;\n",
       "    }\n",
       "\n",
       "    .dataframe tbody tr th {\n",
       "        vertical-align: top;\n",
       "    }\n",
       "\n",
       "    .dataframe thead th {\n",
       "        text-align: right;\n",
       "    }\n",
       "</style>\n",
       "<table border=\"1\" class=\"dataframe\">\n",
       "  <thead>\n",
       "    <tr style=\"text-align: right;\">\n",
       "      <th></th>\n",
       "      <th>Neckarwestheim</th>\n",
       "      <th>Essenbach</th>\n",
       "      <th>Emsland</th>\n",
       "    </tr>\n",
       "  </thead>\n",
       "  <tbody>\n",
       "    <tr>\n",
       "      <th>capacity</th>\n",
       "      <td>1269</td>\n",
       "      <td>1365</td>\n",
       "      <td>1290</td>\n",
       "    </tr>\n",
       "    <tr>\n",
       "      <th>type</th>\n",
       "      <td>PWR</td>\n",
       "      <td>PWR</td>\n",
       "      <td>PWR</td>\n",
       "    </tr>\n",
       "    <tr>\n",
       "      <th>start_year</th>\n",
       "      <td>1989</td>\n",
       "      <td>1988</td>\n",
       "      <td>1988</td>\n",
       "    </tr>\n",
       "    <tr>\n",
       "      <th>end_year</th>\n",
       "      <td>NaN</td>\n",
       "      <td>NaN</td>\n",
       "      <td>NaN</td>\n",
       "    </tr>\n",
       "  </tbody>\n",
       "</table>\n",
       "</div>"
      ],
      "text/plain": [
       "           Neckarwestheim Essenbach Emsland\n",
       "capacity             1269      1365    1290\n",
       "type                  PWR       PWR     PWR\n",
       "start_year           1989      1988    1988\n",
       "end_year              NaN       NaN     NaN"
      ]
     },
     "execution_count": 115,
     "metadata": {},
     "output_type": "execute_result"
    }
   ],
   "source": [
    "df.T"
   ]
  },
  {
   "cell_type": "markdown",
   "metadata": {},
   "source": [
    "A wide range of statistical functions are available on both Series and DataFrames."
   ]
  },
  {
   "cell_type": "code",
   "execution_count": 116,
   "metadata": {},
   "outputs": [
    {
     "data": {
      "text/plain": [
       "capacity      1269\n",
       "type           PWR\n",
       "start_year    1988\n",
       "end_year       NaN\n",
       "dtype: object"
      ]
     },
     "execution_count": 116,
     "metadata": {},
     "output_type": "execute_result"
    }
   ],
   "source": [
    "df.min()"
   ]
  },
  {
   "cell_type": "code",
   "execution_count": 117,
   "metadata": {},
   "outputs": [
    {
     "data": {
      "text/plain": [
       "capacity      1308.000000\n",
       "start_year    1988.333333\n",
       "end_year              NaN\n",
       "dtype: float64"
      ]
     },
     "execution_count": 117,
     "metadata": {},
     "output_type": "execute_result"
    }
   ],
   "source": [
    "df.mean(numeric_only=True)"
   ]
  },
  {
   "cell_type": "code",
   "execution_count": 118,
   "metadata": {},
   "outputs": [
    {
     "data": {
      "text/plain": [
       "capacity      50.467812\n",
       "start_year     0.577350\n",
       "end_year            NaN\n",
       "dtype: float64"
      ]
     },
     "execution_count": 118,
     "metadata": {},
     "output_type": "execute_result"
    }
   ],
   "source": [
    "df.std(numeric_only=True)"
   ]
  },
  {
   "cell_type": "code",
   "execution_count": 119,
   "metadata": {},
   "outputs": [
    {
     "data": {
      "text/html": [
       "<div>\n",
       "<style scoped>\n",
       "    .dataframe tbody tr th:only-of-type {\n",
       "        vertical-align: middle;\n",
       "    }\n",
       "\n",
       "    .dataframe tbody tr th {\n",
       "        vertical-align: top;\n",
       "    }\n",
       "\n",
       "    .dataframe thead th {\n",
       "        text-align: right;\n",
       "    }\n",
       "</style>\n",
       "<table border=\"1\" class=\"dataframe\">\n",
       "  <thead>\n",
       "    <tr style=\"text-align: right;\">\n",
       "      <th></th>\n",
       "      <th>capacity</th>\n",
       "      <th>start_year</th>\n",
       "      <th>end_year</th>\n",
       "    </tr>\n",
       "  </thead>\n",
       "  <tbody>\n",
       "    <tr>\n",
       "      <th>count</th>\n",
       "      <td>3.000000</td>\n",
       "      <td>3.000000</td>\n",
       "      <td>0.0</td>\n",
       "    </tr>\n",
       "    <tr>\n",
       "      <th>mean</th>\n",
       "      <td>1308.000000</td>\n",
       "      <td>1988.333333</td>\n",
       "      <td>NaN</td>\n",
       "    </tr>\n",
       "    <tr>\n",
       "      <th>std</th>\n",
       "      <td>50.467812</td>\n",
       "      <td>0.577350</td>\n",
       "      <td>NaN</td>\n",
       "    </tr>\n",
       "    <tr>\n",
       "      <th>min</th>\n",
       "      <td>1269.000000</td>\n",
       "      <td>1988.000000</td>\n",
       "      <td>NaN</td>\n",
       "    </tr>\n",
       "    <tr>\n",
       "      <th>25%</th>\n",
       "      <td>1279.500000</td>\n",
       "      <td>1988.000000</td>\n",
       "      <td>NaN</td>\n",
       "    </tr>\n",
       "    <tr>\n",
       "      <th>50%</th>\n",
       "      <td>1290.000000</td>\n",
       "      <td>1988.000000</td>\n",
       "      <td>NaN</td>\n",
       "    </tr>\n",
       "    <tr>\n",
       "      <th>75%</th>\n",
       "      <td>1327.500000</td>\n",
       "      <td>1988.500000</td>\n",
       "      <td>NaN</td>\n",
       "    </tr>\n",
       "    <tr>\n",
       "      <th>max</th>\n",
       "      <td>1365.000000</td>\n",
       "      <td>1989.000000</td>\n",
       "      <td>NaN</td>\n",
       "    </tr>\n",
       "  </tbody>\n",
       "</table>\n",
       "</div>"
      ],
      "text/plain": [
       "          capacity   start_year  end_year\n",
       "count     3.000000     3.000000       0.0\n",
       "mean   1308.000000  1988.333333       NaN\n",
       "std      50.467812     0.577350       NaN\n",
       "min    1269.000000  1988.000000       NaN\n",
       "25%    1279.500000  1988.000000       NaN\n",
       "50%    1290.000000  1988.000000       NaN\n",
       "75%    1327.500000  1988.500000       NaN\n",
       "max    1365.000000  1989.000000       NaN"
      ]
     },
     "execution_count": 119,
     "metadata": {},
     "output_type": "execute_result"
    }
   ],
   "source": [
    "df.describe()"
   ]
  },
  {
   "cell_type": "markdown",
   "metadata": {},
   "source": [
    "We can get a single column as a Series using python's getitem syntax on the DataFrame object."
   ]
  },
  {
   "cell_type": "code",
   "execution_count": 120,
   "metadata": {},
   "outputs": [
    {
     "data": {
      "text/plain": [
       "Neckarwestheim    1269\n",
       "Essenbach         1365\n",
       "Emsland           1290\n",
       "Name: capacity, dtype: int64"
      ]
     },
     "execution_count": 120,
     "metadata": {},
     "output_type": "execute_result"
    }
   ],
   "source": [
    "df['capacity']"
   ]
  },
  {
   "cell_type": "markdown",
   "metadata": {},
   "source": [
    "...or using attribute syntax."
   ]
  },
  {
   "cell_type": "code",
   "execution_count": 121,
   "metadata": {},
   "outputs": [
    {
     "data": {
      "text/plain": [
       "Neckarwestheim    1269\n",
       "Essenbach         1365\n",
       "Emsland           1290\n",
       "Name: capacity, dtype: int64"
      ]
     },
     "execution_count": 121,
     "metadata": {},
     "output_type": "execute_result"
    }
   ],
   "source": [
    "df.capacity"
   ]
  },
  {
   "cell_type": "markdown",
   "metadata": {},
   "source": [
    "Indexing works very similar to series"
   ]
  },
  {
   "cell_type": "code",
   "execution_count": 122,
   "metadata": {},
   "outputs": [
    {
     "data": {
      "text/plain": [
       "capacity      1290\n",
       "type           PWR\n",
       "start_year    1988\n",
       "end_year       NaN\n",
       "Name: Emsland, dtype: object"
      ]
     },
     "execution_count": 122,
     "metadata": {},
     "output_type": "execute_result"
    }
   ],
   "source": [
    "df.loc['Emsland']"
   ]
  },
  {
   "cell_type": "code",
   "execution_count": 123,
   "metadata": {},
   "outputs": [
    {
     "data": {
      "text/plain": [
       "capacity      1290\n",
       "type           PWR\n",
       "start_year    1988\n",
       "end_year       NaN\n",
       "Name: Emsland, dtype: object"
      ]
     },
     "execution_count": 123,
     "metadata": {},
     "output_type": "execute_result"
    }
   ],
   "source": [
    "df.iloc[2]"
   ]
  },
  {
   "cell_type": "markdown",
   "metadata": {},
   "source": [
    "But we can also specify the column(s) and row(s) we want to access"
   ]
  },
  {
   "cell_type": "code",
   "execution_count": 124,
   "metadata": {},
   "outputs": [
    {
     "data": {
      "text/plain": [
       "1988"
      ]
     },
     "execution_count": 124,
     "metadata": {},
     "output_type": "execute_result"
    }
   ],
   "source": [
    "df.loc['Emsland', 'start_year']"
   ]
  },
  {
   "cell_type": "code",
   "execution_count": 125,
   "metadata": {},
   "outputs": [
    {
     "data": {
      "text/html": [
       "<div>\n",
       "<style scoped>\n",
       "    .dataframe tbody tr th:only-of-type {\n",
       "        vertical-align: middle;\n",
       "    }\n",
       "\n",
       "    .dataframe tbody tr th {\n",
       "        vertical-align: top;\n",
       "    }\n",
       "\n",
       "    .dataframe thead th {\n",
       "        text-align: right;\n",
       "    }\n",
       "</style>\n",
       "<table border=\"1\" class=\"dataframe\">\n",
       "  <thead>\n",
       "    <tr style=\"text-align: right;\">\n",
       "      <th></th>\n",
       "      <th>start_year</th>\n",
       "      <th>end_year</th>\n",
       "    </tr>\n",
       "  </thead>\n",
       "  <tbody>\n",
       "    <tr>\n",
       "      <th>Emsland</th>\n",
       "      <td>1988</td>\n",
       "      <td>NaN</td>\n",
       "    </tr>\n",
       "    <tr>\n",
       "      <th>Neckarwestheim</th>\n",
       "      <td>1989</td>\n",
       "      <td>NaN</td>\n",
       "    </tr>\n",
       "  </tbody>\n",
       "</table>\n",
       "</div>"
      ],
      "text/plain": [
       "                start_year  end_year\n",
       "Emsland               1988       NaN\n",
       "Neckarwestheim        1989       NaN"
      ]
     },
     "execution_count": 125,
     "metadata": {},
     "output_type": "execute_result"
    }
   ],
   "source": [
    "df.loc[['Emsland', \"Neckarwestheim\"], ['start_year', \"end_year\"]]"
   ]
  },
  {
   "cell_type": "code",
   "execution_count": 126,
   "metadata": {},
   "outputs": [
    {
     "data": {
      "text/plain": [
       "Neckarwestheim    1015.2\n",
       "Essenbach         1092.0\n",
       "Emsland           1032.0\n",
       "Name: capacity, dtype: float64"
      ]
     },
     "execution_count": 126,
     "metadata": {},
     "output_type": "execute_result"
    }
   ],
   "source": [
    "df.capacity * 0.8"
   ]
  },
  {
   "cell_type": "markdown",
   "metadata": {},
   "source": [
    "Which we can easily add as another column to the DataFrame:"
   ]
  },
  {
   "cell_type": "code",
   "execution_count": 127,
   "metadata": {},
   "outputs": [
    {
     "data": {
      "text/html": [
       "<div>\n",
       "<style scoped>\n",
       "    .dataframe tbody tr th:only-of-type {\n",
       "        vertical-align: middle;\n",
       "    }\n",
       "\n",
       "    .dataframe tbody tr th {\n",
       "        vertical-align: top;\n",
       "    }\n",
       "\n",
       "    .dataframe thead th {\n",
       "        text-align: right;\n",
       "    }\n",
       "</style>\n",
       "<table border=\"1\" class=\"dataframe\">\n",
       "  <thead>\n",
       "    <tr style=\"text-align: right;\">\n",
       "      <th></th>\n",
       "      <th>capacity</th>\n",
       "      <th>type</th>\n",
       "      <th>start_year</th>\n",
       "      <th>end_year</th>\n",
       "      <th>reduced_capacity</th>\n",
       "    </tr>\n",
       "  </thead>\n",
       "  <tbody>\n",
       "    <tr>\n",
       "      <th>Neckarwestheim</th>\n",
       "      <td>1269</td>\n",
       "      <td>PWR</td>\n",
       "      <td>1989</td>\n",
       "      <td>NaN</td>\n",
       "      <td>1015.2</td>\n",
       "    </tr>\n",
       "    <tr>\n",
       "      <th>Essenbach</th>\n",
       "      <td>1365</td>\n",
       "      <td>PWR</td>\n",
       "      <td>1988</td>\n",
       "      <td>NaN</td>\n",
       "      <td>1092.0</td>\n",
       "    </tr>\n",
       "    <tr>\n",
       "      <th>Emsland</th>\n",
       "      <td>1290</td>\n",
       "      <td>PWR</td>\n",
       "      <td>1988</td>\n",
       "      <td>NaN</td>\n",
       "      <td>1032.0</td>\n",
       "    </tr>\n",
       "  </tbody>\n",
       "</table>\n",
       "</div>"
      ],
      "text/plain": [
       "                capacity type  start_year  end_year  reduced_capacity\n",
       "Neckarwestheim      1269  PWR        1989       NaN            1015.2\n",
       "Essenbach           1365  PWR        1988       NaN            1092.0\n",
       "Emsland             1290  PWR        1988       NaN            1032.0"
      ]
     },
     "execution_count": 127,
     "metadata": {},
     "output_type": "execute_result"
    }
   ],
   "source": [
    "df['reduced_capacity'] = df.capacity * 0.8\n",
    "df"
   ]
  },
  {
   "cell_type": "markdown",
   "metadata": {},
   "source": [
    "We can also remove columns or rows from a DataFrame:"
   ]
  },
  {
   "cell_type": "code",
   "execution_count": 128,
   "metadata": {},
   "outputs": [
    {
     "data": {
      "text/html": [
       "<div>\n",
       "<style scoped>\n",
       "    .dataframe tbody tr th:only-of-type {\n",
       "        vertical-align: middle;\n",
       "    }\n",
       "\n",
       "    .dataframe tbody tr th {\n",
       "        vertical-align: top;\n",
       "    }\n",
       "\n",
       "    .dataframe thead th {\n",
       "        text-align: right;\n",
       "    }\n",
       "</style>\n",
       "<table border=\"1\" class=\"dataframe\">\n",
       "  <thead>\n",
       "    <tr style=\"text-align: right;\">\n",
       "      <th></th>\n",
       "      <th>capacity</th>\n",
       "      <th>type</th>\n",
       "      <th>start_year</th>\n",
       "      <th>end_year</th>\n",
       "    </tr>\n",
       "  </thead>\n",
       "  <tbody>\n",
       "    <tr>\n",
       "      <th>Neckarwestheim</th>\n",
       "      <td>1269</td>\n",
       "      <td>PWR</td>\n",
       "      <td>1989</td>\n",
       "      <td>NaN</td>\n",
       "    </tr>\n",
       "    <tr>\n",
       "      <th>Essenbach</th>\n",
       "      <td>1365</td>\n",
       "      <td>PWR</td>\n",
       "      <td>1988</td>\n",
       "      <td>NaN</td>\n",
       "    </tr>\n",
       "    <tr>\n",
       "      <th>Emsland</th>\n",
       "      <td>1290</td>\n",
       "      <td>PWR</td>\n",
       "      <td>1988</td>\n",
       "      <td>NaN</td>\n",
       "    </tr>\n",
       "  </tbody>\n",
       "</table>\n",
       "</div>"
      ],
      "text/plain": [
       "                capacity type  start_year  end_year\n",
       "Neckarwestheim      1269  PWR        1989       NaN\n",
       "Essenbach           1365  PWR        1988       NaN\n",
       "Emsland             1290  PWR        1988       NaN"
      ]
     },
     "execution_count": 128,
     "metadata": {},
     "output_type": "execute_result"
    }
   ],
   "source": [
    "df.drop(\"reduced_capacity\", axis='columns')"
   ]
  },
  {
   "cell_type": "markdown",
   "metadata": {},
   "source": [
    "We can update the variable `df` by either overwriting `df` or passing an `inplace` keyword:"
   ]
  },
  {
   "cell_type": "code",
   "execution_count": 129,
   "metadata": {},
   "outputs": [],
   "source": [
    "df.drop(\"reduced_capacity\", axis='columns', inplace=True)"
   ]
  },
  {
   "cell_type": "raw",
   "metadata": {},
   "source": [
    "df = df.drop(\"reduced_capacity\", axis='columns')"
   ]
  },
  {
   "cell_type": "markdown",
   "metadata": {},
   "source": [
    "We can also drop columns with only NaN values"
   ]
  },
  {
   "cell_type": "code",
   "execution_count": 130,
   "metadata": {},
   "outputs": [
    {
     "data": {
      "text/html": [
       "<div>\n",
       "<style scoped>\n",
       "    .dataframe tbody tr th:only-of-type {\n",
       "        vertical-align: middle;\n",
       "    }\n",
       "\n",
       "    .dataframe tbody tr th {\n",
       "        vertical-align: top;\n",
       "    }\n",
       "\n",
       "    .dataframe thead th {\n",
       "        text-align: right;\n",
       "    }\n",
       "</style>\n",
       "<table border=\"1\" class=\"dataframe\">\n",
       "  <thead>\n",
       "    <tr style=\"text-align: right;\">\n",
       "      <th></th>\n",
       "      <th>capacity</th>\n",
       "      <th>type</th>\n",
       "      <th>start_year</th>\n",
       "    </tr>\n",
       "  </thead>\n",
       "  <tbody>\n",
       "    <tr>\n",
       "      <th>Neckarwestheim</th>\n",
       "      <td>1269</td>\n",
       "      <td>PWR</td>\n",
       "      <td>1989</td>\n",
       "    </tr>\n",
       "    <tr>\n",
       "      <th>Essenbach</th>\n",
       "      <td>1365</td>\n",
       "      <td>PWR</td>\n",
       "      <td>1988</td>\n",
       "    </tr>\n",
       "    <tr>\n",
       "      <th>Emsland</th>\n",
       "      <td>1290</td>\n",
       "      <td>PWR</td>\n",
       "      <td>1988</td>\n",
       "    </tr>\n",
       "  </tbody>\n",
       "</table>\n",
       "</div>"
      ],
      "text/plain": [
       "                capacity type  start_year\n",
       "Neckarwestheim      1269  PWR        1989\n",
       "Essenbach           1365  PWR        1988\n",
       "Emsland             1290  PWR        1988"
      ]
     },
     "execution_count": 130,
     "metadata": {},
     "output_type": "execute_result"
    }
   ],
   "source": [
    "df.dropna(axis=1)"
   ]
  },
  {
   "cell_type": "markdown",
   "metadata": {},
   "source": [
    "Or fill it up with default \"fallback\" data:"
   ]
  },
  {
   "cell_type": "code",
   "execution_count": 131,
   "metadata": {},
   "outputs": [
    {
     "data": {
      "text/html": [
       "<div>\n",
       "<style scoped>\n",
       "    .dataframe tbody tr th:only-of-type {\n",
       "        vertical-align: middle;\n",
       "    }\n",
       "\n",
       "    .dataframe tbody tr th {\n",
       "        vertical-align: top;\n",
       "    }\n",
       "\n",
       "    .dataframe thead th {\n",
       "        text-align: right;\n",
       "    }\n",
       "</style>\n",
       "<table border=\"1\" class=\"dataframe\">\n",
       "  <thead>\n",
       "    <tr style=\"text-align: right;\">\n",
       "      <th></th>\n",
       "      <th>capacity</th>\n",
       "      <th>type</th>\n",
       "      <th>start_year</th>\n",
       "      <th>end_year</th>\n",
       "    </tr>\n",
       "  </thead>\n",
       "  <tbody>\n",
       "    <tr>\n",
       "      <th>Neckarwestheim</th>\n",
       "      <td>1269</td>\n",
       "      <td>PWR</td>\n",
       "      <td>1989</td>\n",
       "      <td>2023.0</td>\n",
       "    </tr>\n",
       "    <tr>\n",
       "      <th>Essenbach</th>\n",
       "      <td>1365</td>\n",
       "      <td>PWR</td>\n",
       "      <td>1988</td>\n",
       "      <td>2023.0</td>\n",
       "    </tr>\n",
       "    <tr>\n",
       "      <th>Emsland</th>\n",
       "      <td>1290</td>\n",
       "      <td>PWR</td>\n",
       "      <td>1988</td>\n",
       "      <td>2023.0</td>\n",
       "    </tr>\n",
       "  </tbody>\n",
       "</table>\n",
       "</div>"
      ],
      "text/plain": [
       "                capacity type  start_year  end_year\n",
       "Neckarwestheim      1269  PWR        1989    2023.0\n",
       "Essenbach           1365  PWR        1988    2023.0\n",
       "Emsland             1290  PWR        1988    2023.0"
      ]
     },
     "execution_count": 131,
     "metadata": {},
     "output_type": "execute_result"
    }
   ],
   "source": [
    "df.fillna(2023)"
   ]
  },
  {
   "cell_type": "markdown",
   "metadata": {},
   "source": [
    "Say, we already have one value for `end_year` and want to fill up the missing data:"
   ]
  },
  {
   "cell_type": "code",
   "execution_count": 132,
   "metadata": {},
   "outputs": [],
   "source": [
    "df.loc[\"Emsland\", \"end_year\"] = 2023"
   ]
  },
  {
   "cell_type": "code",
   "execution_count": 133,
   "metadata": {},
   "outputs": [
    {
     "data": {
      "text/html": [
       "<div>\n",
       "<style scoped>\n",
       "    .dataframe tbody tr th:only-of-type {\n",
       "        vertical-align: middle;\n",
       "    }\n",
       "\n",
       "    .dataframe tbody tr th {\n",
       "        vertical-align: top;\n",
       "    }\n",
       "\n",
       "    .dataframe thead th {\n",
       "        text-align: right;\n",
       "    }\n",
       "</style>\n",
       "<table border=\"1\" class=\"dataframe\">\n",
       "  <thead>\n",
       "    <tr style=\"text-align: right;\">\n",
       "      <th></th>\n",
       "      <th>capacity</th>\n",
       "      <th>type</th>\n",
       "      <th>start_year</th>\n",
       "      <th>end_year</th>\n",
       "    </tr>\n",
       "  </thead>\n",
       "  <tbody>\n",
       "    <tr>\n",
       "      <th>Neckarwestheim</th>\n",
       "      <td>1269</td>\n",
       "      <td>PWR</td>\n",
       "      <td>1989</td>\n",
       "      <td>2023.0</td>\n",
       "    </tr>\n",
       "    <tr>\n",
       "      <th>Essenbach</th>\n",
       "      <td>1365</td>\n",
       "      <td>PWR</td>\n",
       "      <td>1988</td>\n",
       "      <td>2023.0</td>\n",
       "    </tr>\n",
       "    <tr>\n",
       "      <th>Emsland</th>\n",
       "      <td>1290</td>\n",
       "      <td>PWR</td>\n",
       "      <td>1988</td>\n",
       "      <td>2023.0</td>\n",
       "    </tr>\n",
       "  </tbody>\n",
       "</table>\n",
       "</div>"
      ],
      "text/plain": [
       "                capacity type  start_year  end_year\n",
       "Neckarwestheim      1269  PWR        1989    2023.0\n",
       "Essenbach           1365  PWR        1988    2023.0\n",
       "Emsland             1290  PWR        1988    2023.0"
      ]
     },
     "execution_count": 133,
     "metadata": {},
     "output_type": "execute_result"
    }
   ],
   "source": [
    "# backward (upwards) fill from non-nan values\n",
    "df.fillna(method='bfill')"
   ]
  },
  {
   "cell_type": "markdown",
   "metadata": {},
   "source": [
    "## Sorting Data"
   ]
  },
  {
   "cell_type": "markdown",
   "metadata": {},
   "source": [
    "We can also sort the entries in dataframes, e.g. alphabetically by index or numerically by column values"
   ]
  },
  {
   "cell_type": "code",
   "execution_count": 134,
   "metadata": {},
   "outputs": [
    {
     "data": {
      "text/html": [
       "<div>\n",
       "<style scoped>\n",
       "    .dataframe tbody tr th:only-of-type {\n",
       "        vertical-align: middle;\n",
       "    }\n",
       "\n",
       "    .dataframe tbody tr th {\n",
       "        vertical-align: top;\n",
       "    }\n",
       "\n",
       "    .dataframe thead th {\n",
       "        text-align: right;\n",
       "    }\n",
       "</style>\n",
       "<table border=\"1\" class=\"dataframe\">\n",
       "  <thead>\n",
       "    <tr style=\"text-align: right;\">\n",
       "      <th></th>\n",
       "      <th>capacity</th>\n",
       "      <th>type</th>\n",
       "      <th>start_year</th>\n",
       "      <th>end_year</th>\n",
       "    </tr>\n",
       "  </thead>\n",
       "  <tbody>\n",
       "    <tr>\n",
       "      <th>Emsland</th>\n",
       "      <td>1290</td>\n",
       "      <td>PWR</td>\n",
       "      <td>1988</td>\n",
       "      <td>2023.0</td>\n",
       "    </tr>\n",
       "    <tr>\n",
       "      <th>Essenbach</th>\n",
       "      <td>1365</td>\n",
       "      <td>PWR</td>\n",
       "      <td>1988</td>\n",
       "      <td>NaN</td>\n",
       "    </tr>\n",
       "    <tr>\n",
       "      <th>Neckarwestheim</th>\n",
       "      <td>1269</td>\n",
       "      <td>PWR</td>\n",
       "      <td>1989</td>\n",
       "      <td>NaN</td>\n",
       "    </tr>\n",
       "  </tbody>\n",
       "</table>\n",
       "</div>"
      ],
      "text/plain": [
       "                capacity type  start_year  end_year\n",
       "Emsland             1290  PWR        1988    2023.0\n",
       "Essenbach           1365  PWR        1988       NaN\n",
       "Neckarwestheim      1269  PWR        1989       NaN"
      ]
     },
     "execution_count": 134,
     "metadata": {},
     "output_type": "execute_result"
    }
   ],
   "source": [
    "df.sort_index()"
   ]
  },
  {
   "cell_type": "code",
   "execution_count": 135,
   "metadata": {},
   "outputs": [
    {
     "data": {
      "text/html": [
       "<div>\n",
       "<style scoped>\n",
       "    .dataframe tbody tr th:only-of-type {\n",
       "        vertical-align: middle;\n",
       "    }\n",
       "\n",
       "    .dataframe tbody tr th {\n",
       "        vertical-align: top;\n",
       "    }\n",
       "\n",
       "    .dataframe thead th {\n",
       "        text-align: right;\n",
       "    }\n",
       "</style>\n",
       "<table border=\"1\" class=\"dataframe\">\n",
       "  <thead>\n",
       "    <tr style=\"text-align: right;\">\n",
       "      <th></th>\n",
       "      <th>capacity</th>\n",
       "      <th>type</th>\n",
       "      <th>start_year</th>\n",
       "      <th>end_year</th>\n",
       "    </tr>\n",
       "  </thead>\n",
       "  <tbody>\n",
       "    <tr>\n",
       "      <th>Essenbach</th>\n",
       "      <td>1365</td>\n",
       "      <td>PWR</td>\n",
       "      <td>1988</td>\n",
       "      <td>NaN</td>\n",
       "    </tr>\n",
       "    <tr>\n",
       "      <th>Emsland</th>\n",
       "      <td>1290</td>\n",
       "      <td>PWR</td>\n",
       "      <td>1988</td>\n",
       "      <td>2023.0</td>\n",
       "    </tr>\n",
       "    <tr>\n",
       "      <th>Neckarwestheim</th>\n",
       "      <td>1269</td>\n",
       "      <td>PWR</td>\n",
       "      <td>1989</td>\n",
       "      <td>NaN</td>\n",
       "    </tr>\n",
       "  </tbody>\n",
       "</table>\n",
       "</div>"
      ],
      "text/plain": [
       "                capacity type  start_year  end_year\n",
       "Essenbach           1365  PWR        1988       NaN\n",
       "Emsland             1290  PWR        1988    2023.0\n",
       "Neckarwestheim      1269  PWR        1989       NaN"
      ]
     },
     "execution_count": 135,
     "metadata": {},
     "output_type": "execute_result"
    }
   ],
   "source": [
    "df.sort_values(by='capacity', ascending=False)"
   ]
  },
  {
   "cell_type": "markdown",
   "metadata": {},
   "source": [
    "If we make a calculation using columns from the DataFrame, it will keep the same index:"
   ]
  },
  {
   "cell_type": "markdown",
   "metadata": {},
   "source": [
    "## Merging Data\n",
    "\n",
    "Pandas supports a wide range of methods for merging different datasets. These are described extensively in the [documentation](https://pandas.pydata.org/pandas-docs/stable/merging.html). Here we just give a few examples."
   ]
  },
  {
   "cell_type": "code",
   "execution_count": 136,
   "metadata": {},
   "outputs": [
    {
     "data": {
      "text/html": [
       "<div>\n",
       "<style scoped>\n",
       "    .dataframe tbody tr th:only-of-type {\n",
       "        vertical-align: middle;\n",
       "    }\n",
       "\n",
       "    .dataframe tbody tr th {\n",
       "        vertical-align: top;\n",
       "    }\n",
       "\n",
       "    .dataframe thead th {\n",
       "        text-align: right;\n",
       "    }\n",
       "</style>\n",
       "<table border=\"1\" class=\"dataframe\">\n",
       "  <thead>\n",
       "    <tr style=\"text-align: right;\">\n",
       "      <th></th>\n",
       "      <th>capacity</th>\n",
       "      <th>type</th>\n",
       "      <th>start_year</th>\n",
       "      <th>end_year</th>\n",
       "      <th>x</th>\n",
       "      <th>y</th>\n",
       "    </tr>\n",
       "  </thead>\n",
       "  <tbody>\n",
       "    <tr>\n",
       "      <th>Gundremmingen</th>\n",
       "      <td>1288</td>\n",
       "      <td>BWR</td>\n",
       "      <td>1985</td>\n",
       "      <td>2021</td>\n",
       "      <td>10.40</td>\n",
       "      <td>48.51</td>\n",
       "    </tr>\n",
       "    <tr>\n",
       "      <th>Grohnde</th>\n",
       "      <td>1360</td>\n",
       "      <td>PWR</td>\n",
       "      <td>1985</td>\n",
       "      <td>2021</td>\n",
       "      <td>9.41</td>\n",
       "      <td>52.03</td>\n",
       "    </tr>\n",
       "    <tr>\n",
       "      <th>Brokdorf</th>\n",
       "      <td>1326</td>\n",
       "      <td>PWR</td>\n",
       "      <td>1986</td>\n",
       "      <td>2021</td>\n",
       "      <td>9.35</td>\n",
       "      <td>53.85</td>\n",
       "    </tr>\n",
       "  </tbody>\n",
       "</table>\n",
       "</div>"
      ],
      "text/plain": [
       "               capacity type  start_year  end_year      x      y\n",
       "Gundremmingen      1288  BWR        1985      2021  10.40  48.51\n",
       "Grohnde            1360  PWR        1985      2021   9.41  52.03\n",
       "Brokdorf           1326  PWR        1986      2021   9.35  53.85"
      ]
     },
     "execution_count": 136,
     "metadata": {},
     "output_type": "execute_result"
    }
   ],
   "source": [
    "data = {'capacity': [1288, 1360, 1326], # MW\n",
    "        'type': [\"BWR\", \"PWR\", \"PWR\"],\n",
    "        'start_year': [1985, 1985, 1986],\n",
    "        'end_year': [2021, 2021, 2021],\n",
    "        'x': [10.40, 9.41, 9.35],\n",
    "        'y': [48.51, 52.03, 53.85]\n",
    "       }\n",
    "df2 = pd.DataFrame(data, index=['Gundremmingen', 'Grohnde', 'Brokdorf'])\n",
    "df2"
   ]
  },
  {
   "cell_type": "markdown",
   "metadata": {},
   "source": [
    "We can now add this additional data to the `df` object"
   ]
  },
  {
   "cell_type": "code",
   "execution_count": 137,
   "metadata": {},
   "outputs": [],
   "source": [
    "df = pd.concat([df, df2])"
   ]
  },
  {
   "cell_type": "markdown",
   "metadata": {},
   "source": [
    "We can also index using a boolean series obtained from a condition. This is very useful"
   ]
  },
  {
   "cell_type": "markdown",
   "metadata": {
    "tags": []
   },
   "source": [
    "## Filtering Data"
   ]
  },
  {
   "cell_type": "code",
   "execution_count": 138,
   "metadata": {},
   "outputs": [
    {
     "data": {
      "text/plain": [
       "Neckarwestheim    False\n",
       "Essenbach          True\n",
       "Emsland           False\n",
       "Gundremmingen     False\n",
       "Grohnde            True\n",
       "Brokdorf           True\n",
       "Name: capacity, dtype: bool"
      ]
     },
     "execution_count": 138,
     "metadata": {},
     "output_type": "execute_result"
    }
   ],
   "source": [
    "df.capacity > 1300"
   ]
  },
  {
   "cell_type": "code",
   "execution_count": 139,
   "metadata": {},
   "outputs": [
    {
     "data": {
      "text/html": [
       "<div>\n",
       "<style scoped>\n",
       "    .dataframe tbody tr th:only-of-type {\n",
       "        vertical-align: middle;\n",
       "    }\n",
       "\n",
       "    .dataframe tbody tr th {\n",
       "        vertical-align: top;\n",
       "    }\n",
       "\n",
       "    .dataframe thead th {\n",
       "        text-align: right;\n",
       "    }\n",
       "</style>\n",
       "<table border=\"1\" class=\"dataframe\">\n",
       "  <thead>\n",
       "    <tr style=\"text-align: right;\">\n",
       "      <th></th>\n",
       "      <th>capacity</th>\n",
       "      <th>type</th>\n",
       "      <th>start_year</th>\n",
       "      <th>end_year</th>\n",
       "      <th>x</th>\n",
       "      <th>y</th>\n",
       "    </tr>\n",
       "  </thead>\n",
       "  <tbody>\n",
       "    <tr>\n",
       "      <th>Essenbach</th>\n",
       "      <td>1365</td>\n",
       "      <td>PWR</td>\n",
       "      <td>1988</td>\n",
       "      <td>NaN</td>\n",
       "      <td>NaN</td>\n",
       "      <td>NaN</td>\n",
       "    </tr>\n",
       "    <tr>\n",
       "      <th>Grohnde</th>\n",
       "      <td>1360</td>\n",
       "      <td>PWR</td>\n",
       "      <td>1985</td>\n",
       "      <td>2021.0</td>\n",
       "      <td>9.41</td>\n",
       "      <td>52.03</td>\n",
       "    </tr>\n",
       "    <tr>\n",
       "      <th>Brokdorf</th>\n",
       "      <td>1326</td>\n",
       "      <td>PWR</td>\n",
       "      <td>1986</td>\n",
       "      <td>2021.0</td>\n",
       "      <td>9.35</td>\n",
       "      <td>53.85</td>\n",
       "    </tr>\n",
       "  </tbody>\n",
       "</table>\n",
       "</div>"
      ],
      "text/plain": [
       "           capacity type  start_year  end_year     x      y\n",
       "Essenbach      1365  PWR        1988       NaN   NaN    NaN\n",
       "Grohnde        1360  PWR        1985    2021.0  9.41  52.03\n",
       "Brokdorf       1326  PWR        1986    2021.0  9.35  53.85"
      ]
     },
     "execution_count": 139,
     "metadata": {},
     "output_type": "execute_result"
    }
   ],
   "source": [
    "df[df.capacity > 1300]"
   ]
  },
  {
   "cell_type": "markdown",
   "metadata": {},
   "source": [
    "We can also combine multiple conditions, but need to take care of brackets!"
   ]
  },
  {
   "cell_type": "code",
   "execution_count": 140,
   "metadata": {},
   "outputs": [
    {
     "data": {
      "text/html": [
       "<div>\n",
       "<style scoped>\n",
       "    .dataframe tbody tr th:only-of-type {\n",
       "        vertical-align: middle;\n",
       "    }\n",
       "\n",
       "    .dataframe tbody tr th {\n",
       "        vertical-align: top;\n",
       "    }\n",
       "\n",
       "    .dataframe thead th {\n",
       "        text-align: right;\n",
       "    }\n",
       "</style>\n",
       "<table border=\"1\" class=\"dataframe\">\n",
       "  <thead>\n",
       "    <tr style=\"text-align: right;\">\n",
       "      <th></th>\n",
       "      <th>capacity</th>\n",
       "      <th>type</th>\n",
       "      <th>start_year</th>\n",
       "      <th>end_year</th>\n",
       "      <th>x</th>\n",
       "      <th>y</th>\n",
       "    </tr>\n",
       "  </thead>\n",
       "  <tbody>\n",
       "    <tr>\n",
       "      <th>Essenbach</th>\n",
       "      <td>1365</td>\n",
       "      <td>PWR</td>\n",
       "      <td>1988</td>\n",
       "      <td>NaN</td>\n",
       "      <td>NaN</td>\n",
       "      <td>NaN</td>\n",
       "    </tr>\n",
       "  </tbody>\n",
       "</table>\n",
       "</div>"
      ],
      "text/plain": [
       "           capacity type  start_year  end_year   x   y\n",
       "Essenbach      1365  PWR        1988       NaN NaN NaN"
      ]
     },
     "execution_count": 140,
     "metadata": {},
     "output_type": "execute_result"
    }
   ],
   "source": [
    "df[(df.capacity > 1300) & (df.start_year >= 1988)]"
   ]
  },
  {
   "cell_type": "markdown",
   "metadata": {},
   "source": [
    "Or we make [SQL-like](https://en.wikipedia.org/wiki/SQL) queries:"
   ]
  },
  {
   "cell_type": "code",
   "execution_count": 141,
   "metadata": {},
   "outputs": [
    {
     "data": {
      "text/html": [
       "<div>\n",
       "<style scoped>\n",
       "    .dataframe tbody tr th:only-of-type {\n",
       "        vertical-align: middle;\n",
       "    }\n",
       "\n",
       "    .dataframe tbody tr th {\n",
       "        vertical-align: top;\n",
       "    }\n",
       "\n",
       "    .dataframe thead th {\n",
       "        text-align: right;\n",
       "    }\n",
       "</style>\n",
       "<table border=\"1\" class=\"dataframe\">\n",
       "  <thead>\n",
       "    <tr style=\"text-align: right;\">\n",
       "      <th></th>\n",
       "      <th>capacity</th>\n",
       "      <th>type</th>\n",
       "      <th>start_year</th>\n",
       "      <th>end_year</th>\n",
       "      <th>x</th>\n",
       "      <th>y</th>\n",
       "    </tr>\n",
       "  </thead>\n",
       "  <tbody>\n",
       "    <tr>\n",
       "      <th>Essenbach</th>\n",
       "      <td>1365</td>\n",
       "      <td>PWR</td>\n",
       "      <td>1988</td>\n",
       "      <td>NaN</td>\n",
       "      <td>NaN</td>\n",
       "      <td>NaN</td>\n",
       "    </tr>\n",
       "    <tr>\n",
       "      <th>Emsland</th>\n",
       "      <td>1290</td>\n",
       "      <td>PWR</td>\n",
       "      <td>1988</td>\n",
       "      <td>2023.0</td>\n",
       "      <td>NaN</td>\n",
       "      <td>NaN</td>\n",
       "    </tr>\n",
       "  </tbody>\n",
       "</table>\n",
       "</div>"
      ],
      "text/plain": [
       "           capacity type  start_year  end_year   x   y\n",
       "Essenbach      1365  PWR        1988       NaN NaN NaN\n",
       "Emsland        1290  PWR        1988    2023.0 NaN NaN"
      ]
     },
     "execution_count": 141,
     "metadata": {},
     "output_type": "execute_result"
    }
   ],
   "source": [
    "df.query(\"start_year == 1988\")"
   ]
  },
  {
   "cell_type": "code",
   "execution_count": 142,
   "metadata": {},
   "outputs": [
    {
     "data": {
      "text/html": [
       "<div>\n",
       "<style scoped>\n",
       "    .dataframe tbody tr th:only-of-type {\n",
       "        vertical-align: middle;\n",
       "    }\n",
       "\n",
       "    .dataframe tbody tr th {\n",
       "        vertical-align: top;\n",
       "    }\n",
       "\n",
       "    .dataframe thead th {\n",
       "        text-align: right;\n",
       "    }\n",
       "</style>\n",
       "<table border=\"1\" class=\"dataframe\">\n",
       "  <thead>\n",
       "    <tr style=\"text-align: right;\">\n",
       "      <th></th>\n",
       "      <th>capacity</th>\n",
       "      <th>type</th>\n",
       "      <th>start_year</th>\n",
       "      <th>end_year</th>\n",
       "      <th>x</th>\n",
       "      <th>y</th>\n",
       "    </tr>\n",
       "  </thead>\n",
       "  <tbody>\n",
       "    <tr>\n",
       "      <th>Essenbach</th>\n",
       "      <td>1365</td>\n",
       "      <td>PWR</td>\n",
       "      <td>1988</td>\n",
       "      <td>NaN</td>\n",
       "      <td>NaN</td>\n",
       "      <td>NaN</td>\n",
       "    </tr>\n",
       "  </tbody>\n",
       "</table>\n",
       "</div>"
      ],
      "text/plain": [
       "           capacity type  start_year  end_year   x   y\n",
       "Essenbach      1365  PWR        1988       NaN NaN NaN"
      ]
     },
     "execution_count": 142,
     "metadata": {},
     "output_type": "execute_result"
    }
   ],
   "source": [
    "threshold = 1300\n",
    "df.query(\"start_year == 1988 and capacity > @threshold\")"
   ]
  },
  {
   "cell_type": "markdown",
   "metadata": {},
   "source": [
    "## Modifying Values\n",
    "\n",
    "We often want to modify values in a dataframe based on some rule. To modify values, we need to use `.loc` or `.iloc`"
   ]
  },
  {
   "cell_type": "code",
   "execution_count": 143,
   "metadata": {},
   "outputs": [
    {
     "data": {
      "text/html": [
       "<div>\n",
       "<style scoped>\n",
       "    .dataframe tbody tr th:only-of-type {\n",
       "        vertical-align: middle;\n",
       "    }\n",
       "\n",
       "    .dataframe tbody tr th {\n",
       "        vertical-align: top;\n",
       "    }\n",
       "\n",
       "    .dataframe thead th {\n",
       "        text-align: right;\n",
       "    }\n",
       "</style>\n",
       "<table border=\"1\" class=\"dataframe\">\n",
       "  <thead>\n",
       "    <tr style=\"text-align: right;\">\n",
       "      <th></th>\n",
       "      <th>capacity</th>\n",
       "      <th>type</th>\n",
       "      <th>start_year</th>\n",
       "      <th>end_year</th>\n",
       "      <th>x</th>\n",
       "      <th>y</th>\n",
       "    </tr>\n",
       "  </thead>\n",
       "  <tbody>\n",
       "    <tr>\n",
       "      <th>Neckarwestheim</th>\n",
       "      <td>1269</td>\n",
       "      <td>PWR</td>\n",
       "      <td>1989</td>\n",
       "      <td>NaN</td>\n",
       "      <td>NaN</td>\n",
       "      <td>NaN</td>\n",
       "    </tr>\n",
       "    <tr>\n",
       "      <th>Essenbach</th>\n",
       "      <td>1365</td>\n",
       "      <td>PWR</td>\n",
       "      <td>1988</td>\n",
       "      <td>NaN</td>\n",
       "      <td>12.29</td>\n",
       "      <td>NaN</td>\n",
       "    </tr>\n",
       "    <tr>\n",
       "      <th>Emsland</th>\n",
       "      <td>1290</td>\n",
       "      <td>PWR</td>\n",
       "      <td>1988</td>\n",
       "      <td>2023.0</td>\n",
       "      <td>NaN</td>\n",
       "      <td>NaN</td>\n",
       "    </tr>\n",
       "    <tr>\n",
       "      <th>Gundremmingen</th>\n",
       "      <td>1288</td>\n",
       "      <td>BWR</td>\n",
       "      <td>1985</td>\n",
       "      <td>2021.0</td>\n",
       "      <td>10.40</td>\n",
       "      <td>48.51</td>\n",
       "    </tr>\n",
       "    <tr>\n",
       "      <th>Grohnde</th>\n",
       "      <td>1361</td>\n",
       "      <td>PWR</td>\n",
       "      <td>1985</td>\n",
       "      <td>2021.0</td>\n",
       "      <td>9.41</td>\n",
       "      <td>52.03</td>\n",
       "    </tr>\n",
       "    <tr>\n",
       "      <th>Brokdorf</th>\n",
       "      <td>1326</td>\n",
       "      <td>PWR</td>\n",
       "      <td>1986</td>\n",
       "      <td>2021.0</td>\n",
       "      <td>9.35</td>\n",
       "      <td>53.85</td>\n",
       "    </tr>\n",
       "  </tbody>\n",
       "</table>\n",
       "</div>"
      ],
      "text/plain": [
       "                capacity type  start_year  end_year      x      y\n",
       "Neckarwestheim      1269  PWR        1989       NaN    NaN    NaN\n",
       "Essenbach           1365  PWR        1988       NaN  12.29    NaN\n",
       "Emsland             1290  PWR        1988    2023.0    NaN    NaN\n",
       "Gundremmingen       1288  BWR        1985    2021.0  10.40  48.51\n",
       "Grohnde             1361  PWR        1985    2021.0   9.41  52.03\n",
       "Brokdorf            1326  PWR        1986    2021.0   9.35  53.85"
      ]
     },
     "execution_count": 143,
     "metadata": {},
     "output_type": "execute_result"
    }
   ],
   "source": [
    "df.loc['Essenbach', 'x'] = 12.29\n",
    "df.loc['Grohnde', 'capacity'] += 1\n",
    "df"
   ]
  },
  {
   "cell_type": "code",
   "execution_count": 144,
   "metadata": {},
   "outputs": [
    {
     "data": {
      "text/html": [
       "<div>\n",
       "<style scoped>\n",
       "    .dataframe tbody tr th:only-of-type {\n",
       "        vertical-align: middle;\n",
       "    }\n",
       "\n",
       "    .dataframe tbody tr th {\n",
       "        vertical-align: top;\n",
       "    }\n",
       "\n",
       "    .dataframe thead th {\n",
       "        text-align: right;\n",
       "    }\n",
       "</style>\n",
       "<table border=\"1\" class=\"dataframe\">\n",
       "  <thead>\n",
       "    <tr style=\"text-align: right;\">\n",
       "      <th></th>\n",
       "      <th>capacity</th>\n",
       "      <th>type</th>\n",
       "      <th>start_year</th>\n",
       "      <th>end_year</th>\n",
       "      <th>x</th>\n",
       "      <th>y</th>\n",
       "    </tr>\n",
       "  </thead>\n",
       "  <tbody>\n",
       "    <tr>\n",
       "      <th>Neckarwestheim</th>\n",
       "      <td>1269</td>\n",
       "      <td>PWR</td>\n",
       "      <td>1989</td>\n",
       "      <td>NaN</td>\n",
       "      <td>NaN</td>\n",
       "      <td>49.04</td>\n",
       "    </tr>\n",
       "    <tr>\n",
       "      <th>Essenbach</th>\n",
       "      <td>1365</td>\n",
       "      <td>PWR</td>\n",
       "      <td>1988</td>\n",
       "      <td>NaN</td>\n",
       "      <td>12.29</td>\n",
       "      <td>48.61</td>\n",
       "    </tr>\n",
       "    <tr>\n",
       "      <th>Emsland</th>\n",
       "      <td>1290</td>\n",
       "      <td>PWR</td>\n",
       "      <td>1988</td>\n",
       "      <td>2023.0</td>\n",
       "      <td>NaN</td>\n",
       "      <td>52.47</td>\n",
       "    </tr>\n",
       "    <tr>\n",
       "      <th>Gundremmingen</th>\n",
       "      <td>1288</td>\n",
       "      <td>BWR</td>\n",
       "      <td>1985</td>\n",
       "      <td>2021.0</td>\n",
       "      <td>10.40</td>\n",
       "      <td>48.51</td>\n",
       "    </tr>\n",
       "    <tr>\n",
       "      <th>Grohnde</th>\n",
       "      <td>1361</td>\n",
       "      <td>PWR</td>\n",
       "      <td>1985</td>\n",
       "      <td>2021.0</td>\n",
       "      <td>9.41</td>\n",
       "      <td>52.03</td>\n",
       "    </tr>\n",
       "    <tr>\n",
       "      <th>Brokdorf</th>\n",
       "      <td>1326</td>\n",
       "      <td>PWR</td>\n",
       "      <td>1986</td>\n",
       "      <td>2021.0</td>\n",
       "      <td>9.35</td>\n",
       "      <td>53.85</td>\n",
       "    </tr>\n",
       "  </tbody>\n",
       "</table>\n",
       "</div>"
      ],
      "text/plain": [
       "                capacity type  start_year  end_year      x      y\n",
       "Neckarwestheim      1269  PWR        1989       NaN    NaN  49.04\n",
       "Essenbach           1365  PWR        1988       NaN  12.29  48.61\n",
       "Emsland             1290  PWR        1988    2023.0    NaN  52.47\n",
       "Gundremmingen       1288  BWR        1985    2021.0  10.40  48.51\n",
       "Grohnde             1361  PWR        1985    2021.0   9.41  52.03\n",
       "Brokdorf            1326  PWR        1986    2021.0   9.35  53.85"
      ]
     },
     "execution_count": 144,
     "metadata": {},
     "output_type": "execute_result"
    }
   ],
   "source": [
    "operational = ['Neckarwestheim', 'Essenbach', 'Emsland']\n",
    "df.loc[operational, 'y'] = [49.04, 48.61, 52.47]\n",
    "df"
   ]
  },
  {
   "cell_type": "markdown",
   "metadata": {
    "tags": []
   },
   "source": [
    "## Applying Functions"
   ]
  },
  {
   "cell_type": "markdown",
   "metadata": {},
   "source": [
    "Sometimes it can be useful apply a function to all values of a column/row. For instance, we might be interested in normalised capacities relative to the largest nuclear power plant:"
   ]
  },
  {
   "cell_type": "code",
   "execution_count": 145,
   "metadata": {},
   "outputs": [
    {
     "data": {
      "text/plain": [
       "Neckarwestheim    0.929670\n",
       "Essenbach         1.000000\n",
       "Emsland           0.945055\n",
       "Gundremmingen     0.943590\n",
       "Grohnde           0.997070\n",
       "Brokdorf          0.971429\n",
       "Name: capacity, dtype: float64"
      ]
     },
     "execution_count": 145,
     "metadata": {},
     "output_type": "execute_result"
    }
   ],
   "source": [
    "df.capacity.apply(lambda x: x / df.capacity.max())"
   ]
  },
  {
   "cell_type": "code",
   "execution_count": 146,
   "metadata": {},
   "outputs": [
    {
     "data": {
      "text/plain": [
       "Neckarwestheim    0.929670\n",
       "Essenbach         1.000000\n",
       "Emsland           0.945055\n",
       "Gundremmingen     0.943590\n",
       "Grohnde           0.997070\n",
       "Brokdorf          0.971429\n",
       "Name: capacity, dtype: float64"
      ]
     },
     "execution_count": 146,
     "metadata": {},
     "output_type": "execute_result"
    }
   ],
   "source": [
    "df.capacity.map(lambda x: x / df.capacity.max())"
   ]
  },
  {
   "cell_type": "markdown",
   "metadata": {},
   "source": [
    "For simple functions, there's often an easier alternative:"
   ]
  },
  {
   "cell_type": "code",
   "execution_count": 147,
   "metadata": {},
   "outputs": [
    {
     "data": {
      "text/plain": [
       "Neckarwestheim    0.929670\n",
       "Essenbach         1.000000\n",
       "Emsland           0.945055\n",
       "Gundremmingen     0.943590\n",
       "Grohnde           0.997070\n",
       "Brokdorf          0.971429\n",
       "Name: capacity, dtype: float64"
      ]
     },
     "execution_count": 147,
     "metadata": {},
     "output_type": "execute_result"
    }
   ],
   "source": [
    "df.capacity / df.capacity.max()"
   ]
  },
  {
   "cell_type": "markdown",
   "metadata": {},
   "source": [
    "But `.apply()` and `.map()` often give you more flexibility."
   ]
  },
  {
   "cell_type": "markdown",
   "metadata": {},
   "source": [
    "## Renaming Indices / Columns"
   ]
  },
  {
   "cell_type": "markdown",
   "metadata": {},
   "source": [
    "Sometimes it can be useful to rename columns:"
   ]
  },
  {
   "cell_type": "code",
   "execution_count": 148,
   "metadata": {},
   "outputs": [
    {
     "data": {
      "text/html": [
       "<div>\n",
       "<style scoped>\n",
       "    .dataframe tbody tr th:only-of-type {\n",
       "        vertical-align: middle;\n",
       "    }\n",
       "\n",
       "    .dataframe tbody tr th {\n",
       "        vertical-align: top;\n",
       "    }\n",
       "\n",
       "    .dataframe thead th {\n",
       "        text-align: right;\n",
       "    }\n",
       "</style>\n",
       "<table border=\"1\" class=\"dataframe\">\n",
       "  <thead>\n",
       "    <tr style=\"text-align: right;\">\n",
       "      <th></th>\n",
       "      <th>capacity</th>\n",
       "      <th>type</th>\n",
       "      <th>start_year</th>\n",
       "      <th>end_year</th>\n",
       "      <th>lat</th>\n",
       "      <th>lon</th>\n",
       "    </tr>\n",
       "  </thead>\n",
       "  <tbody>\n",
       "    <tr>\n",
       "      <th>Neckarwestheim</th>\n",
       "      <td>1269</td>\n",
       "      <td>PWR</td>\n",
       "      <td>1989</td>\n",
       "      <td>NaN</td>\n",
       "      <td>NaN</td>\n",
       "      <td>49.04</td>\n",
       "    </tr>\n",
       "    <tr>\n",
       "      <th>Essenbach</th>\n",
       "      <td>1365</td>\n",
       "      <td>PWR</td>\n",
       "      <td>1988</td>\n",
       "      <td>NaN</td>\n",
       "      <td>12.29</td>\n",
       "      <td>48.61</td>\n",
       "    </tr>\n",
       "    <tr>\n",
       "      <th>Emsland</th>\n",
       "      <td>1290</td>\n",
       "      <td>PWR</td>\n",
       "      <td>1988</td>\n",
       "      <td>2023.0</td>\n",
       "      <td>NaN</td>\n",
       "      <td>52.47</td>\n",
       "    </tr>\n",
       "    <tr>\n",
       "      <th>Gundremmingen</th>\n",
       "      <td>1288</td>\n",
       "      <td>BWR</td>\n",
       "      <td>1985</td>\n",
       "      <td>2021.0</td>\n",
       "      <td>10.40</td>\n",
       "      <td>48.51</td>\n",
       "    </tr>\n",
       "    <tr>\n",
       "      <th>Grohnde</th>\n",
       "      <td>1361</td>\n",
       "      <td>PWR</td>\n",
       "      <td>1985</td>\n",
       "      <td>2021.0</td>\n",
       "      <td>9.41</td>\n",
       "      <td>52.03</td>\n",
       "    </tr>\n",
       "    <tr>\n",
       "      <th>Brokdorf</th>\n",
       "      <td>1326</td>\n",
       "      <td>PWR</td>\n",
       "      <td>1986</td>\n",
       "      <td>2021.0</td>\n",
       "      <td>9.35</td>\n",
       "      <td>53.85</td>\n",
       "    </tr>\n",
       "  </tbody>\n",
       "</table>\n",
       "</div>"
      ],
      "text/plain": [
       "                capacity type  start_year  end_year    lat    lon\n",
       "Neckarwestheim      1269  PWR        1989       NaN    NaN  49.04\n",
       "Essenbach           1365  PWR        1988       NaN  12.29  48.61\n",
       "Emsland             1290  PWR        1988    2023.0    NaN  52.47\n",
       "Gundremmingen       1288  BWR        1985    2021.0  10.40  48.51\n",
       "Grohnde             1361  PWR        1985    2021.0   9.41  52.03\n",
       "Brokdorf            1326  PWR        1986    2021.0   9.35  53.85"
      ]
     },
     "execution_count": 148,
     "metadata": {},
     "output_type": "execute_result"
    }
   ],
   "source": [
    "df.rename(columns=dict(x='lat', y='lon'))"
   ]
  },
  {
   "cell_type": "markdown",
   "metadata": {},
   "source": [
    "## Replacing Values"
   ]
  },
  {
   "cell_type": "markdown",
   "metadata": {},
   "source": [
    "Sometimes it can be useful to replace values:"
   ]
  },
  {
   "cell_type": "code",
   "execution_count": 149,
   "metadata": {},
   "outputs": [
    {
     "data": {
      "text/html": [
       "<div>\n",
       "<style scoped>\n",
       "    .dataframe tbody tr th:only-of-type {\n",
       "        vertical-align: middle;\n",
       "    }\n",
       "\n",
       "    .dataframe tbody tr th {\n",
       "        vertical-align: top;\n",
       "    }\n",
       "\n",
       "    .dataframe thead th {\n",
       "        text-align: right;\n",
       "    }\n",
       "</style>\n",
       "<table border=\"1\" class=\"dataframe\">\n",
       "  <thead>\n",
       "    <tr style=\"text-align: right;\">\n",
       "      <th></th>\n",
       "      <th>capacity</th>\n",
       "      <th>type</th>\n",
       "      <th>start_year</th>\n",
       "      <th>end_year</th>\n",
       "      <th>x</th>\n",
       "      <th>y</th>\n",
       "    </tr>\n",
       "  </thead>\n",
       "  <tbody>\n",
       "    <tr>\n",
       "      <th>Neckarwestheim</th>\n",
       "      <td>1269</td>\n",
       "      <td>Pressurized water reactor</td>\n",
       "      <td>1989</td>\n",
       "      <td>NaN</td>\n",
       "      <td>NaN</td>\n",
       "      <td>49.04</td>\n",
       "    </tr>\n",
       "    <tr>\n",
       "      <th>Essenbach</th>\n",
       "      <td>1365</td>\n",
       "      <td>Pressurized water reactor</td>\n",
       "      <td>1988</td>\n",
       "      <td>NaN</td>\n",
       "      <td>12.29</td>\n",
       "      <td>48.61</td>\n",
       "    </tr>\n",
       "    <tr>\n",
       "      <th>Emsland</th>\n",
       "      <td>1290</td>\n",
       "      <td>Pressurized water reactor</td>\n",
       "      <td>1988</td>\n",
       "      <td>2023.0</td>\n",
       "      <td>NaN</td>\n",
       "      <td>52.47</td>\n",
       "    </tr>\n",
       "    <tr>\n",
       "      <th>Gundremmingen</th>\n",
       "      <td>1288</td>\n",
       "      <td>BWR</td>\n",
       "      <td>1985</td>\n",
       "      <td>2021.0</td>\n",
       "      <td>10.40</td>\n",
       "      <td>48.51</td>\n",
       "    </tr>\n",
       "    <tr>\n",
       "      <th>Grohnde</th>\n",
       "      <td>1361</td>\n",
       "      <td>Pressurized water reactor</td>\n",
       "      <td>1985</td>\n",
       "      <td>2021.0</td>\n",
       "      <td>9.41</td>\n",
       "      <td>52.03</td>\n",
       "    </tr>\n",
       "    <tr>\n",
       "      <th>Brokdorf</th>\n",
       "      <td>1326</td>\n",
       "      <td>Pressurized water reactor</td>\n",
       "      <td>1986</td>\n",
       "      <td>2021.0</td>\n",
       "      <td>9.35</td>\n",
       "      <td>53.85</td>\n",
       "    </tr>\n",
       "  </tbody>\n",
       "</table>\n",
       "</div>"
      ],
      "text/plain": [
       "                capacity                       type  start_year  end_year  \\\n",
       "Neckarwestheim      1269  Pressurized water reactor        1989       NaN   \n",
       "Essenbach           1365  Pressurized water reactor        1988       NaN   \n",
       "Emsland             1290  Pressurized water reactor        1988    2023.0   \n",
       "Gundremmingen       1288                        BWR        1985    2021.0   \n",
       "Grohnde             1361  Pressurized water reactor        1985    2021.0   \n",
       "Brokdorf            1326  Pressurized water reactor        1986    2021.0   \n",
       "\n",
       "                    x      y  \n",
       "Neckarwestheim    NaN  49.04  \n",
       "Essenbach       12.29  48.61  \n",
       "Emsland           NaN  52.47  \n",
       "Gundremmingen   10.40  48.51  \n",
       "Grohnde          9.41  52.03  \n",
       "Brokdorf         9.35  53.85  "
      ]
     },
     "execution_count": 149,
     "metadata": {},
     "output_type": "execute_result"
    }
   ],
   "source": [
    "df.replace({'PWR': \"Pressurized water reactor\"})"
   ]
  },
  {
   "cell_type": "markdown",
   "metadata": {},
   "source": [
    "## Plotting\n",
    "\n",
    "DataFrames have all kinds of [useful plotting](https://pandas.pydata.org/pandas-docs/stable/visualization.html) built in."
   ]
  },
  {
   "cell_type": "code",
   "execution_count": 150,
   "metadata": {},
   "outputs": [
    {
     "data": {
      "text/plain": [
       "<AxesSubplot:xlabel='start_year', ylabel='capacity'>"
      ]
     },
     "execution_count": 150,
     "metadata": {},
     "output_type": "execute_result"
    },
    {
     "data": {
      "image/png": "[encoded data removed]",
      "text/plain": [
       "<Figure size 432x288 with 1 Axes>"
      ]
     },
     "metadata": {
      "needs_background": "light"
     },
     "output_type": "display_data"
    }
   ],
   "source": [
    "df.plot(kind='scatter', x='start_year', y='capacity')"
   ]
  },
  {
   "cell_type": "code",
   "execution_count": 151,
   "metadata": {},
   "outputs": [
    {
     "data": {
      "text/plain": [
       "<AxesSubplot:>"
      ]
     },
     "execution_count": 151,
     "metadata": {},
     "output_type": "execute_result"
    },
    {
     "data": {
      "image/png": "[encoded data removed]",
      "text/plain": [
       "<Figure size 432x288 with 1 Axes>"
      ]
     },
     "metadata": {
      "needs_background": "light"
     },
     "output_type": "display_data"
    }
   ],
   "source": [
    "df.capacity.plot.barh(color='orange')"
   ]
  },
  {
   "cell_type": "markdown",
   "metadata": {},
   "source": [
    "## Time Indexes\n",
    "\n",
    "Indexes are very powerful. They are a big part of why Pandas is so useful. There are different indices for different types of data. Time Indexes are especially great!"
   ]
  },
  {
   "cell_type": "code",
   "execution_count": 152,
   "metadata": {},
   "outputs": [
    {
     "data": {
      "text/plain": [
       "<AxesSubplot:>"
      ]
     },
     "execution_count": 152,
     "metadata": {},
     "output_type": "execute_result"
    },
    {
     "data": {
      "image/png": "[encoded data removed]",
      "text/plain": [
       "<Figure size 432x288 with 1 Axes>"
      ]
     },
     "metadata": {
      "needs_background": "light"
     },
     "output_type": "display_data"
    }
   ],
   "source": [
    "time = pd.date_range(start='2021-01-01', end='2023-01-01', freq='D')\n",
    "values = np.sin(2 * np.pi * time.dayofyear / 365)\n",
    "ts = pd.Series(values, index=time)\n",
    "ts.plot()"
   ]
  },
  {
   "cell_type": "markdown",
   "metadata": {},
   "source": [
    "We can use python's slicing notation inside `.loc` to select a date range."
   ]
  },
  {
   "cell_type": "code",
   "execution_count": 153,
   "metadata": {},
   "outputs": [
    {
     "data": {
      "text/plain": [
       "<AxesSubplot:>"
      ]
     },
     "execution_count": 153,
     "metadata": {},
     "output_type": "execute_result"
    },
    {
     "data": {
      "image/png": "[encoded data removed]",
      "text/plain": [
       "<Figure size 432x288 with 1 Axes>"
      ]
     },
     "metadata": {
      "needs_background": "light"
     },
     "output_type": "display_data"
    }
   ],
   "source": [
    "ts.loc['2021-01-01':'2021-07-01'].plot()"
   ]
  },
  {
   "cell_type": "code",
   "execution_count": 154,
   "metadata": {},
   "outputs": [
    {
     "data": {
      "text/plain": [
       "<AxesSubplot:>"
      ]
     },
     "execution_count": 154,
     "metadata": {},
     "output_type": "execute_result"
    },
    {
     "data": {
      "image/png": "[encoded data removed]",
      "text/plain": [
       "<Figure size 432x288 with 1 Axes>"
      ]
     },
     "metadata": {
      "needs_background": "light"
     },
     "output_type": "display_data"
    }
   ],
   "source": [
    "ts.loc['2021-05'].plot()"
   ]
  },
  {
   "cell_type": "markdown",
   "metadata": {},
   "source": [
    "The TimeIndex object has lots of useful attributes"
   ]
  },
  {
   "cell_type": "code",
   "execution_count": 155,
   "metadata": {},
   "outputs": [
    {
     "data": {
      "text/plain": [
       "Int64Index([ 1,  1,  1,  1,  1,  1,  1,  1,  1,  1,\n",
       "            ...\n",
       "            12, 12, 12, 12, 12, 12, 12, 12, 12,  1],\n",
       "           dtype='int64', length=731)"
      ]
     },
     "execution_count": 155,
     "metadata": {},
     "output_type": "execute_result"
    }
   ],
   "source": [
    "ts.index.month"
   ]
  },
  {
   "cell_type": "code",
   "execution_count": 156,
   "metadata": {},
   "outputs": [
    {
     "data": {
      "text/plain": [
       "Int64Index([ 1,  2,  3,  4,  5,  6,  7,  8,  9, 10,\n",
       "            ...\n",
       "            23, 24, 25, 26, 27, 28, 29, 30, 31,  1],\n",
       "           dtype='int64', length=731)"
      ]
     },
     "execution_count": 156,
     "metadata": {},
     "output_type": "execute_result"
    }
   ],
   "source": [
    "ts.index.day"
   ]
  },
  {
   "cell_type": "markdown",
   "metadata": {},
   "source": [
    "Another common operation is to change the resolution of a dataset by resampling in time. Pandas exposes this through the [resample](http://pandas.pydata.org/pandas-docs/stable/timeseries.html#resampling) function. The resample periods are specified using pandas [offset index](http://pandas.pydata.org/pandas-docs/stable/timeseries.html#offset-aliases) syntax.\n",
    "\n",
    "Below we resample the dataset by taking the mean over each month."
   ]
  },
  {
   "cell_type": "code",
   "execution_count": 157,
   "metadata": {},
   "outputs": [
    {
     "data": {
      "text/plain": [
       "2021-01-31    0.268746\n",
       "2021-02-28    0.698782\n",
       "2021-03-31    0.949778\n",
       "2021-04-30    0.959332\n",
       "2021-05-31    0.709200\n",
       "Freq: M, dtype: float64"
      ]
     },
     "execution_count": 157,
     "metadata": {},
     "output_type": "execute_result"
    }
   ],
   "source": [
    "ts.resample(\"M\").mean().head()"
   ]
  },
  {
   "cell_type": "code",
   "execution_count": 158,
   "metadata": {},
   "outputs": [
    {
     "data": {
      "text/plain": [
       "<AxesSubplot:>"
      ]
     },
     "execution_count": 158,
     "metadata": {},
     "output_type": "execute_result"
    },
    {
     "data": {
      "image/png": "[encoded data removed]",
      "text/plain": [
       "<Figure size 432x288 with 1 Axes>"
      ]
     },
     "metadata": {
      "needs_background": "light"
     },
     "output_type": "display_data"
    }
   ],
   "source": [
    "ts.resample(\"M\").mean().plot()"
   ]
  },
  {
   "cell_type": "markdown",
   "metadata": {},
   "source": [
    "## Reading and Writing Files"
   ]
  },
  {
   "cell_type": "markdown",
   "metadata": {},
   "source": [
    "To read data into pandas, we can use for instance the [`pd.read_csv()`](https://pandas.pydata.org/pandas-docs/stable/generated/pandas.read_csv.html) function. This function is incredibly powerful and complex with a multitude of settings. You can use it to extract data from almost any text file."
   ]
  },
  {
   "cell_type": "markdown",
   "metadata": {},
   "source": [
    "The `pd.read_csv()` function can take a path to a local file as an input or even a link to an online text file."
   ]
  },
  {
   "cell_type": "markdown",
   "metadata": {},
   "source": [
    "Let's import a slightly larger dataset about the power plant fleet in Europe"
   ]
  },
  {
   "cell_type": "code",
   "execution_count": 159,
   "metadata": {},
   "outputs": [],
   "source": [
    "fn = \"https://raw.githubusercontent.com/PyPSA/powerplantmatching/master/powerplants.csv\""
   ]
  },
  {
   "cell_type": "code",
   "execution_count": 160,
   "metadata": {},
   "outputs": [
    {
     "data": {
      "text/html": [
       "<div>\n",
       "<style scoped>\n",
       "    .dataframe tbody tr th:only-of-type {\n",
       "        vertical-align: middle;\n",
       "    }\n",
       "\n",
       "    .dataframe tbody tr th {\n",
       "        vertical-align: top;\n",
       "    }\n",
       "\n",
       "    .dataframe thead th {\n",
       "        text-align: right;\n",
       "    }\n",
       "</style>\n",
       "<table border=\"1\" class=\"dataframe\">\n",
       "  <thead>\n",
       "    <tr style=\"text-align: right;\">\n",
       "      <th></th>\n",
       "      <th>Name</th>\n",
       "      <th>Fueltype</th>\n",
       "      <th>Technology</th>\n",
       "      <th>Set</th>\n",
       "      <th>Country</th>\n",
       "      <th>Capacity</th>\n",
       "      <th>Efficiency</th>\n",
       "      <th>DateIn</th>\n",
       "      <th>DateRetrofit</th>\n",
       "      <th>DateOut</th>\n",
       "    </tr>\n",
       "    <tr>\n",
       "      <th>id</th>\n",
       "      <th></th>\n",
       "      <th></th>\n",
       "      <th></th>\n",
       "      <th></th>\n",
       "      <th></th>\n",
       "      <th></th>\n",
       "      <th></th>\n",
       "      <th></th>\n",
       "      <th></th>\n",
       "      <th></th>\n",
       "    </tr>\n",
       "  </thead>\n",
       "  <tbody>\n",
       "    <tr>\n",
       "      <th>0</th>\n",
       "      <td>Doel</td>\n",
       "      <td>Nuclear</td>\n",
       "      <td>Steam Turbine</td>\n",
       "      <td>PP</td>\n",
       "      <td>Belgium</td>\n",
       "      <td>2911.0</td>\n",
       "      <td>NaN</td>\n",
       "      <td>1975.0</td>\n",
       "      <td>NaN</td>\n",
       "      <td>2022.0</td>\n",
       "    </tr>\n",
       "    <tr>\n",
       "      <th>1</th>\n",
       "      <td>Sarrans</td>\n",
       "      <td>Hydro</td>\n",
       "      <td>Reservoir</td>\n",
       "      <td>Store</td>\n",
       "      <td>France</td>\n",
       "      <td>183.0</td>\n",
       "      <td>NaN</td>\n",
       "      <td>1932.0</td>\n",
       "      <td>NaN</td>\n",
       "      <td>NaN</td>\n",
       "    </tr>\n",
       "    <tr>\n",
       "      <th>2</th>\n",
       "      <td>Pragneres</td>\n",
       "      <td>Hydro</td>\n",
       "      <td>Reservoir</td>\n",
       "      <td>Store</td>\n",
       "      <td>France</td>\n",
       "      <td>189.2</td>\n",
       "      <td>NaN</td>\n",
       "      <td>1953.0</td>\n",
       "      <td>NaN</td>\n",
       "      <td>NaN</td>\n",
       "    </tr>\n",
       "    <tr>\n",
       "      <th>3</th>\n",
       "      <td>Revin</td>\n",
       "      <td>Hydro</td>\n",
       "      <td>Pumped Storage</td>\n",
       "      <td>Store</td>\n",
       "      <td>France</td>\n",
       "      <td>808.0</td>\n",
       "      <td>NaN</td>\n",
       "      <td>1974.0</td>\n",
       "      <td>NaN</td>\n",
       "      <td>NaN</td>\n",
       "    </tr>\n",
       "    <tr>\n",
       "      <th>4</th>\n",
       "      <td>Rhinau</td>\n",
       "      <td>Hydro</td>\n",
       "      <td>Run-Of-River</td>\n",
       "      <td>PP</td>\n",
       "      <td>France</td>\n",
       "      <td>152.0</td>\n",
       "      <td>NaN</td>\n",
       "      <td>2016.0</td>\n",
       "      <td>2016.0</td>\n",
       "      <td>NaN</td>\n",
       "    </tr>\n",
       "  </tbody>\n",
       "</table>\n",
       "</div>"
      ],
      "text/plain": [
       "         Name Fueltype      Technology    Set  Country  Capacity  Efficiency  \\\n",
       "id                                                                             \n",
       "0        Doel  Nuclear   Steam Turbine     PP  Belgium    2911.0         NaN   \n",
       "1     Sarrans    Hydro       Reservoir  Store   France     183.0         NaN   \n",
       "2   Pragneres    Hydro       Reservoir  Store   France     189.2         NaN   \n",
       "3       Revin    Hydro  Pumped Storage  Store   France     808.0         NaN   \n",
       "4      Rhinau    Hydro    Run-Of-River     PP   France     152.0         NaN   \n",
       "\n",
       "    DateIn  DateRetrofit  DateOut  \n",
       "id                                 \n",
       "0   1975.0           NaN   2022.0  \n",
       "1   1932.0           NaN      NaN  \n",
       "2   1953.0           NaN      NaN  \n",
       "3   1974.0           NaN      NaN  \n",
       "4   2016.0        2016.0      NaN  "
      ]
     },
     "execution_count": 160,
     "metadata": {},
     "output_type": "execute_result"
    }
   ],
   "source": [
    "df = pd.read_csv(fn, index_col=0)\n",
    "df.iloc[:5,:10]"
   ]
  },
  {
   "cell_type": "code",
   "execution_count": 161,
   "metadata": {},
   "outputs": [
    {
     "name": "stdout",
     "output_type": "stream",
     "text": [
      "<class 'pandas.core.frame.DataFrame'>\n",
      "Int64Index: 5010 entries, 0 to 5076\n",
      "Data columns (total 18 columns):\n",
      " #   Column               Non-Null Count  Dtype  \n",
      "---  ------               --------------  -----  \n",
      " 0   Name                 5010 non-null   object \n",
      " 1   Fueltype             5010 non-null   object \n",
      " 2   Technology           3987 non-null   object \n",
      " 3   Set                  5010 non-null   object \n",
      " 4   Country              5010 non-null   object \n",
      " 5   Capacity             5010 non-null   float64\n",
      " 6   Efficiency           510 non-null    float64\n",
      " 7   DateIn               2976 non-null   float64\n",
      " 8   DateRetrofit         1832 non-null   float64\n",
      " 9   DateOut              154 non-null    float64\n",
      " 10  lat                  5010 non-null   float64\n",
      " 11  lon                  5010 non-null   float64\n",
      " 12  Duration             448 non-null    float64\n",
      " 13  Volume_Mm3           5010 non-null   float64\n",
      " 14  DamHeight_m          5010 non-null   float64\n",
      " 15  StorageCapacity_MWh  5010 non-null   float64\n",
      " 16  EIC                  5010 non-null   object \n",
      " 17  projectID            5010 non-null   object \n",
      "dtypes: float64(11), object(7)\n",
      "memory usage: 743.7+ KB\n"
     ]
    }
   ],
   "source": [
    "df.info()"
   ]
  },
  {
   "cell_type": "code",
   "execution_count": 162,
   "metadata": {},
   "outputs": [
    {
     "data": {
      "text/html": [
       "<div>\n",
       "<style scoped>\n",
       "    .dataframe tbody tr th:only-of-type {\n",
       "        vertical-align: middle;\n",
       "    }\n",
       "\n",
       "    .dataframe tbody tr th {\n",
       "        vertical-align: top;\n",
       "    }\n",
       "\n",
       "    .dataframe thead th {\n",
       "        text-align: right;\n",
       "    }\n",
       "</style>\n",
       "<table border=\"1\" class=\"dataframe\">\n",
       "  <thead>\n",
       "    <tr style=\"text-align: right;\">\n",
       "      <th></th>\n",
       "      <th>Capacity</th>\n",
       "      <th>Efficiency</th>\n",
       "      <th>DateIn</th>\n",
       "      <th>DateRetrofit</th>\n",
       "      <th>DateOut</th>\n",
       "      <th>lat</th>\n",
       "      <th>lon</th>\n",
       "      <th>Duration</th>\n",
       "      <th>Volume_Mm3</th>\n",
       "      <th>DamHeight_m</th>\n",
       "      <th>StorageCapacity_MWh</th>\n",
       "    </tr>\n",
       "  </thead>\n",
       "  <tbody>\n",
       "    <tr>\n",
       "      <th>count</th>\n",
       "      <td>5010.000000</td>\n",
       "      <td>510.000000</td>\n",
       "      <td>2976.000000</td>\n",
       "      <td>1832.000000</td>\n",
       "      <td>154.000000</td>\n",
       "      <td>5010.000000</td>\n",
       "      <td>5010.000000</td>\n",
       "      <td>448.000000</td>\n",
       "      <td>5010.000000</td>\n",
       "      <td>5010.000000</td>\n",
       "      <td>5.010000e+03</td>\n",
       "    </tr>\n",
       "    <tr>\n",
       "      <th>mean</th>\n",
       "      <td>151.363414</td>\n",
       "      <td>0.486821</td>\n",
       "      <td>1980.047715</td>\n",
       "      <td>1984.816048</td>\n",
       "      <td>2026.883117</td>\n",
       "      <td>48.844509</td>\n",
       "      <td>8.511741</td>\n",
       "      <td>1202.280996</td>\n",
       "      <td>14.637022</td>\n",
       "      <td>8.233239</td>\n",
       "      <td>1.807718e+03</td>\n",
       "    </tr>\n",
       "    <tr>\n",
       "      <th>std</th>\n",
       "      <td>412.728137</td>\n",
       "      <td>0.180187</td>\n",
       "      <td>24.986943</td>\n",
       "      <td>25.003845</td>\n",
       "      <td>8.234272</td>\n",
       "      <td>7.054305</td>\n",
       "      <td>8.648696</td>\n",
       "      <td>1610.022363</td>\n",
       "      <td>178.497746</td>\n",
       "      <td>59.251280</td>\n",
       "      <td>4.897179e+04</td>\n",
       "    </tr>\n",
       "    <tr>\n",
       "      <th>min</th>\n",
       "      <td>0.000000</td>\n",
       "      <td>0.187765</td>\n",
       "      <td>1899.000000</td>\n",
       "      <td>1899.000000</td>\n",
       "      <td>2020.000000</td>\n",
       "      <td>35.003800</td>\n",
       "      <td>-9.422700</td>\n",
       "      <td>0.007907</td>\n",
       "      <td>0.000000</td>\n",
       "      <td>0.000000</td>\n",
       "      <td>0.000000e+00</td>\n",
       "    </tr>\n",
       "    <tr>\n",
       "      <th>25%</th>\n",
       "      <td>4.600000</td>\n",
       "      <td>0.359237</td>\n",
       "      <td>1962.000000</td>\n",
       "      <td>1966.750000</td>\n",
       "      <td>2021.000000</td>\n",
       "      <td>43.450527</td>\n",
       "      <td>2.340625</td>\n",
       "      <td>33.280117</td>\n",
       "      <td>0.000000</td>\n",
       "      <td>0.000000</td>\n",
       "      <td>0.000000e+00</td>\n",
       "    </tr>\n",
       "    <tr>\n",
       "      <th>50%</th>\n",
       "      <td>24.000000</td>\n",
       "      <td>0.389400</td>\n",
       "      <td>1982.000000</td>\n",
       "      <td>1991.000000</td>\n",
       "      <td>2024.000000</td>\n",
       "      <td>47.653396</td>\n",
       "      <td>8.902054</td>\n",
       "      <td>636.146377</td>\n",
       "      <td>0.000000</td>\n",
       "      <td>0.000000</td>\n",
       "      <td>0.000000e+00</td>\n",
       "    </tr>\n",
       "    <tr>\n",
       "      <th>75%</th>\n",
       "      <td>92.000000</td>\n",
       "      <td>0.589875</td>\n",
       "      <td>2003.000000</td>\n",
       "      <td>2005.000000</td>\n",
       "      <td>2029.000000</td>\n",
       "      <td>51.641645</td>\n",
       "      <td>13.025138</td>\n",
       "      <td>1861.401642</td>\n",
       "      <td>0.000000</td>\n",
       "      <td>0.000000</td>\n",
       "      <td>0.000000e+00</td>\n",
       "    </tr>\n",
       "    <tr>\n",
       "      <th>max</th>\n",
       "      <td>5460.000000</td>\n",
       "      <td>0.917460</td>\n",
       "      <td>2022.000000</td>\n",
       "      <td>2020.000000</td>\n",
       "      <td>2051.000000</td>\n",
       "      <td>70.409578</td>\n",
       "      <td>39.262400</td>\n",
       "      <td>16840.000000</td>\n",
       "      <td>9500.000000</td>\n",
       "      <td>1800.000000</td>\n",
       "      <td>3.120000e+06</td>\n",
       "    </tr>\n",
       "  </tbody>\n",
       "</table>\n",
       "</div>"
      ],
      "text/plain": [
       "          Capacity  Efficiency       DateIn  DateRetrofit      DateOut  \\\n",
       "count  5010.000000  510.000000  2976.000000   1832.000000   154.000000   \n",
       "mean    151.363414    0.486821  1980.047715   1984.816048  2026.883117   \n",
       "std     412.728137    0.180187    24.986943     25.003845     8.234272   \n",
       "min       0.000000    0.187765  1899.000000   1899.000000  2020.000000   \n",
       "25%       4.600000    0.359237  1962.000000   1966.750000  2021.000000   \n",
       "50%      24.000000    0.389400  1982.000000   1991.000000  2024.000000   \n",
       "75%      92.000000    0.589875  2003.000000   2005.000000  2029.000000   \n",
       "max    5460.000000    0.917460  2022.000000   2020.000000  2051.000000   \n",
       "\n",
       "               lat          lon      Duration   Volume_Mm3  DamHeight_m  \\\n",
       "count  5010.000000  5010.000000    448.000000  5010.000000  5010.000000   \n",
       "mean     48.844509     8.511741   1202.280996    14.637022     8.233239   \n",
       "std       7.054305     8.648696   1610.022363   178.497746    59.251280   \n",
       "min      35.003800    -9.422700      0.007907     0.000000     0.000000   \n",
       "25%      43.450527     2.340625     33.280117     0.000000     0.000000   \n",
       "50%      47.653396     8.902054    636.146377     0.000000     0.000000   \n",
       "75%      51.641645    13.025138   1861.401642     0.000000     0.000000   \n",
       "max      70.409578    39.262400  16840.000000  9500.000000  1800.000000   \n",
       "\n",
       "       StorageCapacity_MWh  \n",
       "count         5.010000e+03  \n",
       "mean          1.807718e+03  \n",
       "std           4.897179e+04  \n",
       "min           0.000000e+00  \n",
       "25%           0.000000e+00  \n",
       "50%           0.000000e+00  \n",
       "75%           0.000000e+00  \n",
       "max           3.120000e+06  "
      ]
     },
     "execution_count": 162,
     "metadata": {},
     "output_type": "execute_result"
    }
   ],
   "source": [
    "df.describe()"
   ]
  },
  {
   "cell_type": "markdown",
   "metadata": {},
   "source": [
    "Sometimes, we also want to store a DataFrame for later use. There are many different file formats tabular data can be stored in,  including HTML, JSON, Excel, Parquet, Feather, etc. Here, let's say we want to store the DataFrame as CSV (comma-separated values) file under the name \"powerplants.csv\"."
   ]
  },
  {
   "cell_type": "code",
   "execution_count": 163,
   "metadata": {},
   "outputs": [],
   "source": [
    "df.to_csv(\"powerplants.csv\")"
   ]
  },
  {
   "cell_type": "markdown",
   "metadata": {
    "tags": []
   },
   "source": [
    "## Groupby Functionality"
   ]
  },
  {
   "cell_type": "markdown",
   "metadata": {},
   "source": [
    "Both `Series` and `DataFrame` objects have a `groupby` method. It accepts a variety of arguments, but the simplest way to think about it is that you pass another series, whose unique values are used to split the original object into different groups. `groupby` is an amazingly powerful but also complex function.\n",
    "\n",
    "Here's an example which retrieves the total generation capacity per country."
   ]
  },
  {
   "cell_type": "code",
   "execution_count": 164,
   "metadata": {},
   "outputs": [
    {
     "data": {
      "text/plain": [
       "Country\n",
       "Albania                    1636.208275\n",
       "Austria                   17722.520000\n",
       "Belgium                   13666.055947\n",
       "Bosnia and Herzegovina     2127.500000\n",
       "Bulgaria                   9572.486363\n",
       "Name: Capacity, dtype: float64"
      ]
     },
     "execution_count": 164,
     "metadata": {},
     "output_type": "execute_result"
    }
   ],
   "source": [
    "grouped = df.groupby(\"Country\").Capacity.sum()\n",
    "grouped.head()"
   ]
  },
  {
   "cell_type": "markdown",
   "metadata": {},
   "source": [
    "Such **“chaining”** operations together is very common with pandas:"
   ]
  },
  {
   "cell_type": "markdown",
   "metadata": {},
   "source": [
    "Let's break apart this operation a bit. The workflow with `groupby` can be divided into three general steps:\n",
    "\n",
    "1. **Split**: Partition the data into different groups based on some criterion.\n",
    "1. **Apply**: Do some caclulation within each group. Different types of steps might be\n",
    "   - *Aggregation*: Get the mean or max within the group.\n",
    "   - *Transformation*: Normalize all the values within a group\n",
    "   - *Filtration*: Eliminate some groups based on a criterion.\n",
    "1. **Combine**: Put the results back together into a single object.\n",
    "\n",
    "![split-apply-combine](https://miro.medium.com/max/1840/1*JbF6nhrQsn4f-TaSF6IR9g.png)\n"
   ]
  },
  {
   "cell_type": "code",
   "execution_count": 165,
   "metadata": {},
   "outputs": [
    {
     "data": {
      "text/plain": [
       "<pandas.core.groupby.generic.DataFrameGroupBy object at 0x7f1d5c70ccd0>"
      ]
     },
     "execution_count": 165,
     "metadata": {},
     "output_type": "execute_result"
    }
   ],
   "source": [
    "gb = df.groupby('Country')\n",
    "gb"
   ]
  },
  {
   "cell_type": "markdown",
   "metadata": {},
   "source": [
    "The length tells us how many groups were found:"
   ]
  },
  {
   "cell_type": "code",
   "execution_count": 166,
   "metadata": {},
   "outputs": [
    {
     "data": {
      "text/plain": [
       "33"
      ]
     },
     "execution_count": 166,
     "metadata": {},
     "output_type": "execute_result"
    }
   ],
   "source": [
    "len(gb)"
   ]
  },
  {
   "cell_type": "markdown",
   "metadata": {},
   "source": [
    "All of the groups are available as a dictionary via the `.groups` attribute:"
   ]
  },
  {
   "cell_type": "code",
   "execution_count": 167,
   "metadata": {},
   "outputs": [
    {
     "data": {
      "text/plain": [
       "33"
      ]
     },
     "execution_count": 167,
     "metadata": {},
     "output_type": "execute_result"
    }
   ],
   "source": [
    "groups = gb.groups\n",
    "len(groups)"
   ]
  },
  {
   "cell_type": "code",
   "execution_count": 168,
   "metadata": {},
   "outputs": [
    {
     "data": {
      "text/plain": [
       "['Albania', 'Austria', 'Belgium', 'Bosnia and Herzegovina', 'Bulgaria']"
      ]
     },
     "execution_count": 168,
     "metadata": {},
     "output_type": "execute_result"
    }
   ],
   "source": [
    "list(groups.keys())[:5]"
   ]
  },
  {
   "cell_type": "markdown",
   "metadata": {},
   "source": [
    "Now that we know how to create a `GroupBy` object, let's learn how to do aggregation on it."
   ]
  },
  {
   "cell_type": "code",
   "execution_count": 169,
   "metadata": {},
   "outputs": [
    {
     "data": {
      "text/plain": [
       "Country\n",
       "Germany           104246.894396\n",
       "France             98319.699420\n",
       "Spain              85980.832222\n",
       "Italy              79086.907019\n",
       "United Kingdom     69902.466414\n",
       "Name: Capacity, dtype: float64"
      ]
     },
     "execution_count": 169,
     "metadata": {},
     "output_type": "execute_result"
    }
   ],
   "source": [
    "gb.Capacity.sum().nlargest(5)"
   ]
  },
  {
   "cell_type": "code",
   "execution_count": 170,
   "metadata": {},
   "outputs": [
    {
     "data": {
      "text/plain": [
       "Country\n",
       "Albania                   1976.666667\n",
       "Austria                   1972.566176\n",
       "Belgium                   1987.031250\n",
       "Bosnia and Herzegovina    1979.333333\n",
       "Bulgaria                  1973.130435\n",
       "Name: DateIn, dtype: float64"
      ]
     },
     "execution_count": 170,
     "metadata": {},
     "output_type": "execute_result"
    }
   ],
   "source": [
    "gb[\"DateIn\"].mean().head()"
   ]
  },
  {
   "cell_type": "markdown",
   "metadata": {},
   "source": [
    "Grouping is not only possible on a single columns, but also on multiple columns. For instance,\n",
    "we might want to group the capacities by country **and** fuel type. To achieve this, we pass a list of functions to the `groupby` functions."
   ]
  },
  {
   "cell_type": "code",
   "execution_count": 171,
   "metadata": {},
   "outputs": [
    {
     "data": {
      "text/plain": [
       "Country         Fueltype   \n",
       "Albania         Hydro           1546.353732\n",
       "                Oil               89.854543\n",
       "Austria         Hard Coal        578.400000\n",
       "                Hydro          12726.420000\n",
       "                Natural Gas     4417.700000\n",
       "                                   ...     \n",
       "United Kingdom  Nuclear        11239.000000\n",
       "                Oil              100.000000\n",
       "                Other             55.000000\n",
       "                Waste            498.900000\n",
       "                Wind            3401.000000\n",
       "Name: Capacity, Length: 153, dtype: float64"
      ]
     },
     "execution_count": 171,
     "metadata": {},
     "output_type": "execute_result"
    }
   ],
   "source": [
    "capacities = df.groupby([\"Country\", \"Fueltype\"]).Capacity.sum()\n",
    "capacities"
   ]
  },
  {
   "cell_type": "markdown",
   "metadata": {},
   "source": [
    "By grouping by multiple attributes, our index becomes a `pd.MultiIndex` (a hierarchical index with multiple *levels*."
   ]
  },
  {
   "cell_type": "code",
   "execution_count": 172,
   "metadata": {},
   "outputs": [
    {
     "data": {
      "text/plain": [
       "MultiIndex([('Albania',       'Hydro'),\n",
       "            ('Albania',         'Oil'),\n",
       "            ('Austria',   'Hard Coal'),\n",
       "            ('Austria',       'Hydro'),\n",
       "            ('Austria', 'Natural Gas')],\n",
       "           names=['Country', 'Fueltype'])"
      ]
     },
     "execution_count": 172,
     "metadata": {},
     "output_type": "execute_result"
    }
   ],
   "source": [
    "capacities.index[:5]"
   ]
  },
  {
   "cell_type": "code",
   "execution_count": 173,
   "metadata": {},
   "outputs": [
    {
     "data": {
      "text/plain": [
       "pandas.core.indexes.multi.MultiIndex"
      ]
     },
     "execution_count": 173,
     "metadata": {},
     "output_type": "execute_result"
    }
   ],
   "source": [
    "type(capacities.index)"
   ]
  },
  {
   "cell_type": "markdown",
   "metadata": {},
   "source": [
    "We can use the `.unstack` function to reshape the multi-indexed `pd.Series` into a `pd.DataFrame` which has the second index level as columns. "
   ]
  },
  {
   "cell_type": "code",
   "execution_count": 174,
   "metadata": {},
   "outputs": [
    {
     "data": {
      "text/html": [
       "<div>\n",
       "<style scoped>\n",
       "    .dataframe tbody tr th:only-of-type {\n",
       "        vertical-align: middle;\n",
       "    }\n",
       "\n",
       "    .dataframe tbody tr th {\n",
       "        vertical-align: top;\n",
       "    }\n",
       "\n",
       "    .dataframe thead th {\n",
       "        text-align: right;\n",
       "    }\n",
       "</style>\n",
       "<table border=\"1\" class=\"dataframe\">\n",
       "  <thead>\n",
       "    <tr style=\"text-align: right;\">\n",
       "      <th>Country</th>\n",
       "      <th>Spain</th>\n",
       "      <th>Sweden</th>\n",
       "      <th>Switzerland</th>\n",
       "      <th>Ukraine</th>\n",
       "      <th>United Kingdom</th>\n",
       "    </tr>\n",
       "    <tr>\n",
       "      <th>Fueltype</th>\n",
       "      <th></th>\n",
       "      <th></th>\n",
       "      <th></th>\n",
       "      <th></th>\n",
       "      <th></th>\n",
       "    </tr>\n",
       "  </thead>\n",
       "  <tbody>\n",
       "    <tr>\n",
       "      <th>Bioenergy</th>\n",
       "      <td>20.000000</td>\n",
       "      <td>220.000000</td>\n",
       "      <td>NaN</td>\n",
       "      <td>NaN</td>\n",
       "      <td>187.300000</td>\n",
       "    </tr>\n",
       "    <tr>\n",
       "      <th>Geothermal</th>\n",
       "      <td>NaN</td>\n",
       "      <td>NaN</td>\n",
       "      <td>NaN</td>\n",
       "      <td>NaN</td>\n",
       "      <td>NaN</td>\n",
       "    </tr>\n",
       "    <tr>\n",
       "      <th>Hard Coal</th>\n",
       "      <td>9492.767594</td>\n",
       "      <td>0.000000</td>\n",
       "      <td>NaN</td>\n",
       "      <td>23206.997071</td>\n",
       "      <td>12059.890974</td>\n",
       "    </tr>\n",
       "    <tr>\n",
       "      <th>Hydro</th>\n",
       "      <td>25762.867247</td>\n",
       "      <td>13958.718931</td>\n",
       "      <td>18292.0</td>\n",
       "      <td>4806.212023</td>\n",
       "      <td>9645.700000</td>\n",
       "    </tr>\n",
       "    <tr>\n",
       "      <th>Lignite</th>\n",
       "      <td>1267.946871</td>\n",
       "      <td>NaN</td>\n",
       "      <td>NaN</td>\n",
       "      <td>NaN</td>\n",
       "      <td>NaN</td>\n",
       "    </tr>\n",
       "    <tr>\n",
       "      <th>Natural Gas</th>\n",
       "      <td>23587.497259</td>\n",
       "      <td>1091.000000</td>\n",
       "      <td>NaN</td>\n",
       "      <td>NaN</td>\n",
       "      <td>32715.675440</td>\n",
       "    </tr>\n",
       "    <tr>\n",
       "      <th>Nuclear</th>\n",
       "      <td>7117.200000</td>\n",
       "      <td>8617.000000</td>\n",
       "      <td>3348.0</td>\n",
       "      <td>12443.698212</td>\n",
       "      <td>11239.000000</td>\n",
       "    </tr>\n",
       "    <tr>\n",
       "      <th>Oil</th>\n",
       "      <td>2703.935294</td>\n",
       "      <td>1435.000000</td>\n",
       "      <td>NaN</td>\n",
       "      <td>NaN</td>\n",
       "      <td>100.000000</td>\n",
       "    </tr>\n",
       "    <tr>\n",
       "      <th>Other</th>\n",
       "      <td>1053.980957</td>\n",
       "      <td>NaN</td>\n",
       "      <td>NaN</td>\n",
       "      <td>NaN</td>\n",
       "      <td>55.000000</td>\n",
       "    </tr>\n",
       "    <tr>\n",
       "      <th>Solar</th>\n",
       "      <td>3474.003000</td>\n",
       "      <td>NaN</td>\n",
       "      <td>NaN</td>\n",
       "      <td>NaN</td>\n",
       "      <td>NaN</td>\n",
       "    </tr>\n",
       "    <tr>\n",
       "      <th>Waste</th>\n",
       "      <td>388.054000</td>\n",
       "      <td>NaN</td>\n",
       "      <td>NaN</td>\n",
       "      <td>NaN</td>\n",
       "      <td>498.900000</td>\n",
       "    </tr>\n",
       "    <tr>\n",
       "      <th>Wind</th>\n",
       "      <td>11112.580000</td>\n",
       "      <td>398.000000</td>\n",
       "      <td>NaN</td>\n",
       "      <td>NaN</td>\n",
       "      <td>3401.000000</td>\n",
       "    </tr>\n",
       "  </tbody>\n",
       "</table>\n",
       "</div>"
      ],
      "text/plain": [
       "Country             Spain        Sweden  Switzerland       Ukraine  \\\n",
       "Fueltype                                                             \n",
       "Bioenergy       20.000000    220.000000          NaN           NaN   \n",
       "Geothermal            NaN           NaN          NaN           NaN   \n",
       "Hard Coal     9492.767594      0.000000          NaN  23206.997071   \n",
       "Hydro        25762.867247  13958.718931      18292.0   4806.212023   \n",
       "Lignite       1267.946871           NaN          NaN           NaN   \n",
       "Natural Gas  23587.497259   1091.000000          NaN           NaN   \n",
       "Nuclear       7117.200000   8617.000000       3348.0  12443.698212   \n",
       "Oil           2703.935294   1435.000000          NaN           NaN   \n",
       "Other         1053.980957           NaN          NaN           NaN   \n",
       "Solar         3474.003000           NaN          NaN           NaN   \n",
       "Waste          388.054000           NaN          NaN           NaN   \n",
       "Wind         11112.580000    398.000000          NaN           NaN   \n",
       "\n",
       "Country      United Kingdom  \n",
       "Fueltype                     \n",
       "Bioenergy        187.300000  \n",
       "Geothermal              NaN  \n",
       "Hard Coal      12059.890974  \n",
       "Hydro           9645.700000  \n",
       "Lignite                 NaN  \n",
       "Natural Gas    32715.675440  \n",
       "Nuclear        11239.000000  \n",
       "Oil              100.000000  \n",
       "Other             55.000000  \n",
       "Solar                   NaN  \n",
       "Waste            498.900000  \n",
       "Wind            3401.000000  "
      ]
     },
     "execution_count": 174,
     "metadata": {},
     "output_type": "execute_result"
    }
   ],
   "source": [
    "capacities.unstack().tail().T"
   ]
  },
  {
   "cell_type": "markdown",
   "metadata": {},
   "source": [
    "## Exercises"
   ]
  },
  {
   "cell_type": "markdown",
   "metadata": {},
   "source": [
    "### Power Plants Data"
   ]
  },
  {
   "cell_type": "markdown",
   "metadata": {},
   "source": [
    "Run the function `.describe()` on the DataFrame that includes the power plant database:"
   ]
  },
  {
   "cell_type": "code",
   "execution_count": 175,
   "metadata": {},
   "outputs": [],
   "source": [
    "# your code here"
   ]
  },
  {
   "cell_type": "markdown",
   "metadata": {},
   "source": [
    "Provide a list of unique fuel types included in the dataset"
   ]
  },
  {
   "cell_type": "code",
   "execution_count": 176,
   "metadata": {},
   "outputs": [],
   "source": [
    "# your code here"
   ]
  },
  {
   "cell_type": "markdown",
   "metadata": {},
   "source": [
    "Provide a list of unique technologies included in the dataset"
   ]
  },
  {
   "cell_type": "code",
   "execution_count": 177,
   "metadata": {},
   "outputs": [],
   "source": [
    "# your code here"
   ]
  },
  {
   "cell_type": "markdown",
   "metadata": {},
   "source": [
    "Filter the dataset by power plants with the fuel type \"Hard Coal\""
   ]
  },
  {
   "cell_type": "code",
   "execution_count": 178,
   "metadata": {},
   "outputs": [],
   "source": [
    "# your code here"
   ]
  },
  {
   "cell_type": "markdown",
   "metadata": {},
   "source": [
    "Identify the 5 largest coal power plants. In which countries are they located? When were they built?"
   ]
  },
  {
   "cell_type": "code",
   "execution_count": 179,
   "metadata": {},
   "outputs": [],
   "source": [
    "# your code here"
   ]
  },
  {
   "cell_type": "markdown",
   "metadata": {},
   "source": [
    "Identify the power plant with the longest \"Name\"."
   ]
  },
  {
   "cell_type": "code",
   "execution_count": 180,
   "metadata": {},
   "outputs": [],
   "source": [
    "# your code here"
   ]
  },
  {
   "cell_type": "markdown",
   "metadata": {},
   "source": [
    "Identify the 10 northernmost powerplants. What type of power plants are they?"
   ]
  },
  {
   "cell_type": "code",
   "execution_count": 181,
   "metadata": {},
   "outputs": [],
   "source": [
    "# your code here"
   ]
  },
  {
   "cell_type": "markdown",
   "metadata": {},
   "source": [
    "What is the average \"DateIn\" of each \"Fueltype\"? Which type of power plants is the oldest on average?"
   ]
  },
  {
   "cell_type": "code",
   "execution_count": 182,
   "metadata": {},
   "outputs": [],
   "source": [
    "# your code here"
   ]
  },
  {
   "cell_type": "markdown",
   "metadata": {},
   "source": [
    "Plot a histogram of power plant capacities with bins of length 100 MW between 0 and 4000 MW. What do you observe?"
   ]
  },
  {
   "cell_type": "code",
   "execution_count": 183,
   "metadata": {},
   "outputs": [],
   "source": [
    "# your code here"
   ]
  },
  {
   "cell_type": "markdown",
   "metadata": {},
   "source": [
    "How many power plants of each fuel type are there in each country? Display the results in a DataFrame with countries as index and fuel type as columns. Fill missing values with the value zero. Convert all values to integers.\n",
    "\n",
    "> Browse Google or the pandas documentation to find the right aggregation function to count values."
   ]
  },
  {
   "cell_type": "code",
   "execution_count": 184,
   "metadata": {},
   "outputs": [],
   "source": [
    "# your code here"
   ]
  },
  {
   "cell_type": "markdown",
   "metadata": {},
   "source": [
    "### Time Series Analysis"
   ]
  },
  {
   "cell_type": "markdown",
   "metadata": {},
   "source": [
    "Read in the time series from the second lecture into a pandas DataFrame.\n",
    "\n",
    "The file is available at https://raw.githubusercontent.com/fneum/data-science-for-esm/main/data-science-for-esm/time-series-lecture-2.csv. and includes hourly time series for Germany in 2015 for:\n",
    "    \n",
    "1. electricity demand from [OPSD](https://open-power-system-data.org/) in GW\n",
    "2. onshore wind capacity factors from [renewables.ninja](https://www.renewables.ninja/) in per-unit of installed capacity\n",
    "3. offshore wind capacity factors from [renewables.ninja](https://www.renewables.ninja/) in per-unit of installed capacity\n",
    "4. solar PV capacity factors from [renewables.ninja](https://www.renewables.ninja/) in per-unit of installed capacity\n",
    "5. electricity day-ahead spot market prices in €/MWh from EPEX Spot zone DE/AT/LU retrieved via [SMARD platform](https://www.smard.de/home)\n",
    "\n",
    "Use the function `pd.read_csv` with the keyword arguments `index_col=` and `parse_dates=` to ensure the\n",
    "time stamps are treated as `pd.DatetimeIndex`."
   ]
  },
  {
   "cell_type": "code",
   "execution_count": 185,
   "metadata": {},
   "outputs": [],
   "source": [
    "# your code here"
   ]
  },
  {
   "cell_type": "markdown",
   "metadata": {},
   "source": [
    "The start of the dataframe should look like this:"
   ]
  },
  {
   "cell_type": "markdown",
   "metadata": {},
   "source": [
    "|                     |   load |   onwind |   offwind |   solar |   prices |\n",
    "|:--------------------|-------:|---------:|----------:|--------:|---------:|\n",
    "| 2015-01-01 00:00:00 | 41.151 |   0.1566 |    0.703  |       0 |      nan |\n",
    "| 2015-01-01 01:00:00 | 40.135 |   0.1659 |    0.6875 |       0 |      nan |\n",
    "| 2015-01-01 02:00:00 | 39.106 |   0.1746 |    0.6535 |       0 |      nan |\n",
    "| 2015-01-01 03:00:00 | 38.765 |   0.1745 |    0.6803 |       0 |      nan |\n",
    "| 2015-01-01 04:00:00 | 38.941 |   0.1826 |    0.7272 |       0 |      nan |"
   ]
  },
  {
   "cell_type": "markdown",
   "metadata": {},
   "source": [
    "And it should pass the following test:"
   ]
  },
  {
   "cell_type": "code",
   "execution_count": 186,
   "metadata": {},
   "outputs": [
    {
     "ename": "AssertionError",
     "evalue": "",
     "output_type": "error",
     "traceback": [
      "\u001b[0;31m---------------------------------------------------------------------------\u001b[0m",
      "\u001b[0;31mAssertionError\u001b[0m                            Traceback (most recent call last)",
      "Input \u001b[0;32mIn [186]\u001b[0m, in \u001b[0;36m<cell line: 1>\u001b[0;34m()\u001b[0m\n\u001b[0;32m----> 1\u001b[0m \u001b[38;5;28;01massert\u001b[39;00m \u001b[38;5;28mtype\u001b[39m(df\u001b[38;5;241m.\u001b[39mindex) \u001b[38;5;241m==\u001b[39m pd\u001b[38;5;241m.\u001b[39mDatetimeIndex\n",
      "\u001b[0;31mAssertionError\u001b[0m: "
     ]
    }
   ],
   "source": [
    "assert type(df.index) == pd.DatetimeIndex"
   ]
  },
  {
   "cell_type": "markdown",
   "metadata": {},
   "source": [
    "For each column:\n",
    "- What are the average, minimum and maximum values?\n",
    "- Find the time stamps where data on prices is missing.\n",
    "- Fill up the missing data with the prices observed one week ahead.\n",
    "- Plot the time series for the full year.\n",
    "- Plot the time series for the month May.\n",
    "- Resample the time series to daily, weeky, and monthly frequencies and plot the resulting time series in one graph.\n",
    "- Sort the values in descending order and plot the duration curve. *Hint: Run `.reset_index(drop=True)` to drop the index after sorting.*\n",
    "- Plot a histogram of the time series values.\n",
    "- Perform a Fourier transformation of the time series. What are the dominant frequencies? *Hint: Below you can find an example how Fourier transformation can be down with `numpy`.*\n",
    "- Calculate the Pearson correlation coefficients between all time series. *Hint: There is a function for that. Google for \"pandas dataframe correlation\".*"
   ]
  },
  {
   "cell_type": "code",
   "execution_count": null,
   "metadata": {
    "tags": []
   },
   "outputs": [],
   "source": [
    "abs(pd.Series(np.fft.rfft(df.solar - df.solar.mean()), index=np.fft.rfftfreq(len(df.solar), d=1./8760))**2)"
   ]
  },
  {
   "cell_type": "code",
   "execution_count": null,
   "metadata": {},
   "outputs": [],
   "source": [
    "# your code here"
   ]
  }
 ],
 "metadata": {
  "kernelspec": {
   "display_name": "Python 3 (ipykernel)",
   "language": "python",
   "name": "python3"
  },
  "language_info": {
   "codemirror_mode": {
    "name": "ipython",
    "version": 3
   },
   "file_extension": ".py",
   "mimetype": "text/x-python",
   "name": "python",
   "nbconvert_exporter": "python",
   "pygments_lexer": "ipython3",
   "version": "3.9.13"
  },
  "vscode": {
   "interpreter": {
    "hash": "3dbeba6011cecc2c49b5c018fffe2544bd8d2e61881820091494f4a582a08f2d"
   }
  }
 },
 "nbformat": 4,
 "nbformat_minor": 4
}
